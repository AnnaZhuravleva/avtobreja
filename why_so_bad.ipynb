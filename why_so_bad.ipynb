{
  "nbformat": 4,
  "nbformat_minor": 0,
  "metadata": {
    "colab": {
      "name": "why so bad",
      "provenance": [],
      "include_colab_link": true
    },
    "kernelspec": {
      "name": "python3",
      "display_name": "Python 3"
    }
  },
  "cells": [
    {
      "cell_type": "markdown",
      "metadata": {
        "id": "view-in-github",
        "colab_type": "text"
      },
      "source": [
        "<a href=\"https://colab.research.google.com/github/AnnaZhuravleva/avtobreja/blob/master/why_so_bad.ipynb\" target=\"_parent\"><img src=\"https://colab.research.google.com/assets/colab-badge.svg\" alt=\"Open In Colab\"/></a>"
      ]
    },
    {
      "cell_type": "code",
      "metadata": {
        "id": "1jmvFREwU8AA",
        "colab_type": "code",
        "colab": {}
      },
      "source": [
        "import pickle\n",
        "\n",
        "from collections import Counter"
      ],
      "execution_count": 0,
      "outputs": []
    },
    {
      "cell_type": "code",
      "metadata": {
        "id": "cV1vuHbxanIj",
        "colab_type": "code",
        "colab": {}
      },
      "source": [
        "from scipy.stats import zscore"
      ],
      "execution_count": 0,
      "outputs": []
    },
    {
      "cell_type": "code",
      "metadata": {
        "id": "pwuK0yzycAno",
        "colab_type": "code",
        "colab": {}
      },
      "source": [
        "import pandas as pd"
      ],
      "execution_count": 0,
      "outputs": []
    },
    {
      "cell_type": "code",
      "metadata": {
        "id": "Q5AZxJwogt--",
        "colab_type": "code",
        "colab": {}
      },
      "source": [
        "import numpy as np"
      ],
      "execution_count": 0,
      "outputs": []
    },
    {
      "cell_type": "code",
      "metadata": {
        "id": "tDxHTTgwVbKB",
        "colab_type": "code",
        "colab": {
          "base_uri": "https://localhost:8080/",
          "height": 35
        },
        "outputId": "11525fc6-7f2e-4fc2-caef-20a5ce9d0c95"
      },
      "source": [
        "from google.colab import drive\n",
        "drive.mount('/content/drive')"
      ],
      "execution_count": 5,
      "outputs": [
        {
          "output_type": "stream",
          "text": [
            "Drive already mounted at /content/drive; to attempt to forcibly remount, call drive.mount(\"/content/drive\", force_remount=True).\n"
          ],
          "name": "stdout"
        }
      ]
    },
    {
      "cell_type": "code",
      "metadata": {
        "id": "pjRPxOC_VrM-",
        "colab_type": "code",
        "colab": {}
      },
      "source": [
        "path = \"/content/drive/My Drive/studies/HSE/prog/nlp/proj/sent_food.pickle\""
      ],
      "execution_count": 0,
      "outputs": []
    },
    {
      "cell_type": "code",
      "metadata": {
        "id": "f8M6jbu2VByu",
        "colab_type": "code",
        "colab": {}
      },
      "source": [
        "with open(path, \"rb\") as f:\n",
        "  c = pickle.load(f)"
      ],
      "execution_count": 0,
      "outputs": []
    },
    {
      "cell_type": "code",
      "metadata": {
        "id": "DEYnHVv7WFnp",
        "colab_type": "code",
        "colab": {
          "base_uri": "https://localhost:8080/",
          "height": 35
        },
        "outputId": "83fd3556-d0f7-4e88-aec3-ecc05a1dd6b6"
      },
      "source": [
        "c[2]['пагубный_ADJ']"
      ],
      "execution_count": 12,
      "outputs": [
        {
          "output_type": "execute_result",
          "data": {
            "text/plain": [
              "0.001698874868452549"
            ]
          },
          "metadata": {
            "tags": []
          },
          "execution_count": 12
        }
      ]
    },
    {
      "cell_type": "code",
      "metadata": {
        "id": "IhVcSXPvW_UN",
        "colab_type": "code",
        "colab": {
          "base_uri": "https://localhost:8080/",
          "height": 212
        },
        "outputId": "52a619a9-faa0-470e-bdc0-7e5ac203c694"
      },
      "source": [
        "!wget https://raw.githubusercontent.com/AnnaZhuravleva/avtobreja/master/word_lists/semantic_axis_method/service.csv"
      ],
      "execution_count": 8,
      "outputs": [
        {
          "output_type": "stream",
          "text": [
            "--2019-12-22 17:16:10--  https://raw.githubusercontent.com/AnnaZhuravleva/avtobreja/master/word_lists/semantic_axis_method/service.csv\n",
            "Resolving raw.githubusercontent.com (raw.githubusercontent.com)... 151.101.0.133, 151.101.64.133, 151.101.128.133, ...\n",
            "Connecting to raw.githubusercontent.com (raw.githubusercontent.com)|151.101.0.133|:443... connected.\n",
            "HTTP request sent, awaiting response... 200 OK\n",
            "Length: 1367659 (1.3M) [text/plain]\n",
            "Saving to: ‘service.csv.1’\n",
            "\n",
            "service.csv.1       100%[===================>]   1.30M  8.31MB/s    in 0.2s    \n",
            "\n",
            "2019-12-22 17:16:10 (8.31 MB/s) - ‘service.csv.1’ saved [1367659/1367659]\n",
            "\n"
          ],
          "name": "stdout"
        }
      ]
    },
    {
      "cell_type": "code",
      "metadata": {
        "id": "xnv-U3_EXEvE",
        "colab_type": "code",
        "colab": {}
      },
      "source": [
        "with open (\"service.csv\", \"r\") as f:\n",
        "  lines = f.readlines()\n",
        "\n",
        "le = Counter()\n",
        "for line in lines:\n",
        "  w, count = line.strip().split()\n",
        "  le[w] = float(count)\n",
        "\n",
        "c.append(le)"
      ],
      "execution_count": 0,
      "outputs": []
    },
    {
      "cell_type": "code",
      "metadata": {
        "id": "9B3E_LuMYtfZ",
        "colab_type": "code",
        "colab": {
          "base_uri": "https://localhost:8080/",
          "height": 284
        },
        "outputId": "e1f99606-6077-4a92-a1d7-b73135212929"
      },
      "source": [
        "for i in range(5):\n",
        "  print(i)\n",
        "  print(max(dict(c[i]).values()))\n",
        "  print(min(dict(c[i]).values()))"
      ],
      "execution_count": 14,
      "outputs": [
        {
          "output_type": "stream",
          "text": [
            "0\n",
            "132.83712725763326\n",
            "-357.5816257435363\n",
            "1\n",
            "4686.967115458101\n",
            "-947.8087743571377\n",
            "2\n",
            "1150.003318358924\n",
            "-67.35316430628018\n",
            "3\n",
            "40272.254946324974\n",
            "-451.7032948601991\n",
            "4\n",
            "1.2989414930343628\n",
            "0.3453672528266907\n"
          ],
          "name": "stdout"
        }
      ]
    },
    {
      "cell_type": "code",
      "metadata": {
        "id": "wQw0TSL6ZGhP",
        "colab_type": "code",
        "colab": {
          "base_uri": "https://localhost:8080/",
          "height": 195
        },
        "outputId": "f29b9b88-bbe2-4119-c03e-2515ef29e89e"
      },
      "source": [
        "word = 'вкусный_ADJ'\n",
        "for i in range(5):\n",
        "  print(i)\n",
        "  print(c[i][word])"
      ],
      "execution_count": 15,
      "outputs": [
        {
          "output_type": "stream",
          "text": [
            "0\n",
            "-20.492670276609715\n",
            "1\n",
            "3201.9742432385683\n",
            "2\n",
            "1010.6613312746795\n",
            "3\n",
            "32946.22784128785\n",
            "4\n",
            "0.5756369531154633\n"
          ],
          "name": "stdout"
        }
      ]
    },
    {
      "cell_type": "code",
      "metadata": {
        "id": "5qc2unN3m8ev",
        "colab_type": "code",
        "colab": {
          "base_uri": "https://localhost:8080/",
          "height": 52
        },
        "outputId": "40512508-e84e-47a7-f907-bc2e38f64066"
      },
      "source": [
        "vocab = set(c[0])\n",
        "print(len(vocab))\n",
        "vocab.update(set(c[4]))\n",
        "print(len(vocab))"
      ],
      "execution_count": 33,
      "outputs": [
        {
          "output_type": "stream",
          "text": [
            "101050\n",
            "102766\n"
          ],
          "name": "stdout"
        }
      ]
    },
    {
      "cell_type": "code",
      "metadata": {
        "id": "QCTvtRsqf114",
        "colab_type": "code",
        "colab": {
          "base_uri": "https://localhost:8080/",
          "height": 194
        },
        "outputId": "11bdd825-b1b9-43df-cde3-dae5f49ff831"
      },
      "source": [
        "counts = pd.DataFrame(columns=range(5), index=sorted(vocab))\n",
        "counts.head()"
      ],
      "execution_count": 98,
      "outputs": [
        {
          "output_type": "execute_result",
          "data": {
            "text/html": [
              "<div>\n",
              "<style scoped>\n",
              "    .dataframe tbody tr th:only-of-type {\n",
              "        vertical-align: middle;\n",
              "    }\n",
              "\n",
              "    .dataframe tbody tr th {\n",
              "        vertical-align: top;\n",
              "    }\n",
              "\n",
              "    .dataframe thead th {\n",
              "        text-align: right;\n",
              "    }\n",
              "</style>\n",
              "<table border=\"1\" class=\"dataframe\">\n",
              "  <thead>\n",
              "    <tr style=\"text-align: right;\">\n",
              "      <th></th>\n",
              "      <th>0</th>\n",
              "      <th>1</th>\n",
              "      <th>2</th>\n",
              "      <th>3</th>\n",
              "      <th>4</th>\n",
              "    </tr>\n",
              "  </thead>\n",
              "  <tbody>\n",
              "    <tr>\n",
              "      <th>!!_PUNCT</th>\n",
              "      <td>NaN</td>\n",
              "      <td>NaN</td>\n",
              "      <td>NaN</td>\n",
              "      <td>NaN</td>\n",
              "      <td>NaN</td>\n",
              "    </tr>\n",
              "    <tr>\n",
              "      <th>!&amp;quot_X</th>\n",
              "      <td>NaN</td>\n",
              "      <td>NaN</td>\n",
              "      <td>NaN</td>\n",
              "      <td>NaN</td>\n",
              "      <td>NaN</td>\n",
              "    </tr>\n",
              "    <tr>\n",
              "      <th>!(_PUNCT</th>\n",
              "      <td>NaN</td>\n",
              "      <td>NaN</td>\n",
              "      <td>NaN</td>\n",
              "      <td>NaN</td>\n",
              "      <td>NaN</td>\n",
              "    </tr>\n",
              "    <tr>\n",
              "      <th>!)_PUNCT</th>\n",
              "      <td>NaN</td>\n",
              "      <td>NaN</td>\n",
              "      <td>NaN</td>\n",
              "      <td>NaN</td>\n",
              "      <td>NaN</td>\n",
              "    </tr>\n",
              "    <tr>\n",
              "      <th>!........._PUNCT</th>\n",
              "      <td>NaN</td>\n",
              "      <td>NaN</td>\n",
              "      <td>NaN</td>\n",
              "      <td>NaN</td>\n",
              "      <td>NaN</td>\n",
              "    </tr>\n",
              "  </tbody>\n",
              "</table>\n",
              "</div>"
            ],
            "text/plain": [
              "                    0    1    2    3    4\n",
              "!!_PUNCT          NaN  NaN  NaN  NaN  NaN\n",
              "!&quot_X          NaN  NaN  NaN  NaN  NaN\n",
              "!(_PUNCT          NaN  NaN  NaN  NaN  NaN\n",
              "!)_PUNCT          NaN  NaN  NaN  NaN  NaN\n",
              "!........._PUNCT  NaN  NaN  NaN  NaN  NaN"
            ]
          },
          "metadata": {
            "tags": []
          },
          "execution_count": 98
        }
      ]
    },
    {
      "cell_type": "code",
      "metadata": {
        "id": "7VqC4l2ToHm0",
        "colab_type": "code",
        "colab": {}
      },
      "source": [
        "for i in range(5):\n",
        "  counts[i] = [el[1] for el in sorted(list(dict(c[i]).items()) + [(el, 0.0) for el in vocab.difference(set(c[i]))], key=lambda x: x[0])]"
      ],
      "execution_count": 0,
      "outputs": []
    },
    {
      "cell_type": "code",
      "metadata": {
        "id": "Dy9favKpgk2N",
        "colab_type": "code",
        "colab": {
          "base_uri": "https://localhost:8080/",
          "height": 194
        },
        "outputId": "6b1c0605-f2f0-4352-eccd-0d487fe43337"
      },
      "source": [
        "counts.tail()"
      ],
      "execution_count": 100,
      "outputs": [
        {
          "output_type": "execute_result",
          "data": {
            "text/html": [
              "<div>\n",
              "<style scoped>\n",
              "    .dataframe tbody tr th:only-of-type {\n",
              "        vertical-align: middle;\n",
              "    }\n",
              "\n",
              "    .dataframe tbody tr th {\n",
              "        vertical-align: top;\n",
              "    }\n",
              "\n",
              "    .dataframe thead th {\n",
              "        text-align: right;\n",
              "    }\n",
              "</style>\n",
              "<table border=\"1\" class=\"dataframe\">\n",
              "  <thead>\n",
              "    <tr style=\"text-align: right;\">\n",
              "      <th></th>\n",
              "      <th>0</th>\n",
              "      <th>1</th>\n",
              "      <th>2</th>\n",
              "      <th>3</th>\n",
              "      <th>4</th>\n",
              "    </tr>\n",
              "  </thead>\n",
              "  <tbody>\n",
              "    <tr>\n",
              "      <th>№№_SYM</th>\n",
              "      <td>0.0</td>\n",
              "      <td>0.0</td>\n",
              "      <td>0.0</td>\n",
              "      <td>0.0</td>\n",
              "      <td>0.0</td>\n",
              "    </tr>\n",
              "    <tr>\n",
              "      <th>●_SYM</th>\n",
              "      <td>0.0</td>\n",
              "      <td>0.0</td>\n",
              "      <td>0.0</td>\n",
              "      <td>0.0</td>\n",
              "      <td>0.0</td>\n",
              "    </tr>\n",
              "    <tr>\n",
              "      <th>☺_SYM</th>\n",
              "      <td>0.0</td>\n",
              "      <td>0.0</td>\n",
              "      <td>0.0</td>\n",
              "      <td>0.0</td>\n",
              "      <td>0.0</td>\n",
              "    </tr>\n",
              "    <tr>\n",
              "      <th>♡♡♡_SYM</th>\n",
              "      <td>0.0</td>\n",
              "      <td>0.0</td>\n",
              "      <td>0.0</td>\n",
              "      <td>0.0</td>\n",
              "      <td>0.0</td>\n",
              "    </tr>\n",
              "    <tr>\n",
              "      <th>_NOUN</th>\n",
              "      <td>0.0</td>\n",
              "      <td>0.0</td>\n",
              "      <td>0.0</td>\n",
              "      <td>0.0</td>\n",
              "      <td>0.0</td>\n",
              "    </tr>\n",
              "  </tbody>\n",
              "</table>\n",
              "</div>"
            ],
            "text/plain": [
              "           0    1    2    3    4\n",
              "№№_SYM   0.0  0.0  0.0  0.0  0.0\n",
              "●_SYM    0.0  0.0  0.0  0.0  0.0\n",
              "☺_SYM    0.0  0.0  0.0  0.0  0.0\n",
              "♡♡♡_SYM  0.0  0.0  0.0  0.0  0.0\n",
              "_NOUN   0.0  0.0  0.0  0.0  0.0"
            ]
          },
          "metadata": {
            "tags": []
          },
          "execution_count": 100
        }
      ]
    },
    {
      "cell_type": "code",
      "metadata": {
        "id": "Qc4YRPqaqGXK",
        "colab_type": "code",
        "colab": {}
      },
      "source": [
        "counts['zero'] = np.sum([counts[0], counts[1], counts[2], counts[3], counts[4]], axis=0)"
      ],
      "execution_count": 0,
      "outputs": []
    },
    {
      "cell_type": "code",
      "metadata": {
        "id": "ctoK-PJxtOtY",
        "colab_type": "code",
        "colab": {}
      },
      "source": [
        "from scipy.stats import logistic"
      ],
      "execution_count": 0,
      "outputs": []
    },
    {
      "cell_type": "code",
      "metadata": {
        "id": "QPIhGpS5sO4m",
        "colab_type": "code",
        "colab": {
          "base_uri": "https://localhost:8080/",
          "height": 194
        },
        "outputId": "fd3b17e6-2556-4386-e492-de471cf8dd37"
      },
      "source": [
        "counts = counts[counts['zero'] > 0].drop(['zero'], axis=1)\n",
        "counts.tail()"
      ],
      "execution_count": 102,
      "outputs": [
        {
          "output_type": "execute_result",
          "data": {
            "text/html": [
              "<div>\n",
              "<style scoped>\n",
              "    .dataframe tbody tr th:only-of-type {\n",
              "        vertical-align: middle;\n",
              "    }\n",
              "\n",
              "    .dataframe tbody tr th {\n",
              "        vertical-align: top;\n",
              "    }\n",
              "\n",
              "    .dataframe thead th {\n",
              "        text-align: right;\n",
              "    }\n",
              "</style>\n",
              "<table border=\"1\" class=\"dataframe\">\n",
              "  <thead>\n",
              "    <tr style=\"text-align: right;\">\n",
              "      <th></th>\n",
              "      <th>0</th>\n",
              "      <th>1</th>\n",
              "      <th>2</th>\n",
              "      <th>3</th>\n",
              "      <th>4</th>\n",
              "    </tr>\n",
              "  </thead>\n",
              "  <tbody>\n",
              "    <tr>\n",
              "      <th>“отжимают”_NOUN</th>\n",
              "      <td>-0.005490</td>\n",
              "      <td>0.0</td>\n",
              "      <td>0.0</td>\n",
              "      <td>2.472265</td>\n",
              "      <td>0.0</td>\n",
              "    </tr>\n",
              "    <tr>\n",
              "      <th>“приложиться_VERB</th>\n",
              "      <td>-0.036891</td>\n",
              "      <td>0.0</td>\n",
              "      <td>0.0</td>\n",
              "      <td>0.860026</td>\n",
              "      <td>0.0</td>\n",
              "    </tr>\n",
              "    <tr>\n",
              "      <th>“стейк_PROPN</th>\n",
              "      <td>-0.033231</td>\n",
              "      <td>0.0</td>\n",
              "      <td>0.0</td>\n",
              "      <td>0.978386</td>\n",
              "      <td>0.0</td>\n",
              "    </tr>\n",
              "    <tr>\n",
              "      <th>”прошелся”_NOUN</th>\n",
              "      <td>0.097024</td>\n",
              "      <td>0.0</td>\n",
              "      <td>0.0</td>\n",
              "      <td>4.334878</td>\n",
              "      <td>0.0</td>\n",
              "    </tr>\n",
              "    <tr>\n",
              "      <th>…_PUNCT</th>\n",
              "      <td>-3.165581</td>\n",
              "      <td>0.0</td>\n",
              "      <td>0.0</td>\n",
              "      <td>17.262491</td>\n",
              "      <td>0.0</td>\n",
              "    </tr>\n",
              "  </tbody>\n",
              "</table>\n",
              "</div>"
            ],
            "text/plain": [
              "                          0    1    2          3    4\n",
              "“отжимают”_NOUN   -0.005490  0.0  0.0   2.472265  0.0\n",
              "“приложиться_VERB -0.036891  0.0  0.0   0.860026  0.0\n",
              "“стейк_PROPN      -0.033231  0.0  0.0   0.978386  0.0\n",
              "”прошелся”_NOUN    0.097024  0.0  0.0   4.334878  0.0\n",
              "…_PUNCT           -3.165581  0.0  0.0  17.262491  0.0"
            ]
          },
          "metadata": {
            "tags": []
          },
          "execution_count": 102
        }
      ]
    },
    {
      "cell_type": "code",
      "metadata": {
        "id": "UbvGdzkBurkO",
        "colab_type": "code",
        "colab": {}
      },
      "source": [
        "words = ['понравиться_VERB', 'вкусный_ADJ', 'травмоопасный_ADJ', 'неухоженный_ADJ', 'сумасшедший_ADJ', 'пагубный_ADJ', 'издевательский_ADJ', 'противность_NOUN', 'давка_NOUN']"
      ],
      "execution_count": 0,
      "outputs": []
    },
    {
      "cell_type": "code",
      "metadata": {
        "id": "qdQ4wylDtcTF",
        "colab_type": "code",
        "colab": {
          "base_uri": "https://localhost:8080/",
          "height": 194
        },
        "outputId": "a3dfd8de-f9c8-4c53-e44b-9e9dc85f44f9"
      },
      "source": [
        "counts = counts.apply(lambda x: logistic.cdf(x))\n",
        "counts.tail()"
      ],
      "execution_count": 88,
      "outputs": [
        {
          "output_type": "execute_result",
          "data": {
            "text/html": [
              "<div>\n",
              "<style scoped>\n",
              "    .dataframe tbody tr th:only-of-type {\n",
              "        vertical-align: middle;\n",
              "    }\n",
              "\n",
              "    .dataframe tbody tr th {\n",
              "        vertical-align: top;\n",
              "    }\n",
              "\n",
              "    .dataframe thead th {\n",
              "        text-align: right;\n",
              "    }\n",
              "</style>\n",
              "<table border=\"1\" class=\"dataframe\">\n",
              "  <thead>\n",
              "    <tr style=\"text-align: right;\">\n",
              "      <th></th>\n",
              "      <th>0</th>\n",
              "      <th>1</th>\n",
              "      <th>2</th>\n",
              "      <th>3</th>\n",
              "      <th>4</th>\n",
              "    </tr>\n",
              "  </thead>\n",
              "  <tbody>\n",
              "    <tr>\n",
              "      <th>ять_NOUN</th>\n",
              "      <td>0.622753</td>\n",
              "      <td>0.620154</td>\n",
              "      <td>0.617661</td>\n",
              "      <td>0.616980</td>\n",
              "      <td>0.658449</td>\n",
              "    </tr>\n",
              "    <tr>\n",
              "      <th>ять_VERB</th>\n",
              "      <td>0.622753</td>\n",
              "      <td>0.620154</td>\n",
              "      <td>0.617661</td>\n",
              "      <td>0.616980</td>\n",
              "      <td>0.661309</td>\n",
              "    </tr>\n",
              "    <tr>\n",
              "      <th>ячейка_NOUN</th>\n",
              "      <td>0.624680</td>\n",
              "      <td>0.621130</td>\n",
              "      <td>0.618472</td>\n",
              "      <td>0.618359</td>\n",
              "      <td>0.635659</td>\n",
              "    </tr>\n",
              "    <tr>\n",
              "      <th>ящерица_NOUN</th>\n",
              "      <td>0.622753</td>\n",
              "      <td>0.620154</td>\n",
              "      <td>0.617661</td>\n",
              "      <td>0.616980</td>\n",
              "      <td>0.646044</td>\n",
              "    </tr>\n",
              "    <tr>\n",
              "      <th>ящик_NOUN</th>\n",
              "      <td>0.630842</td>\n",
              "      <td>0.624902</td>\n",
              "      <td>0.625858</td>\n",
              "      <td>0.626750</td>\n",
              "      <td>0.651882</td>\n",
              "    </tr>\n",
              "  </tbody>\n",
              "</table>\n",
              "</div>"
            ],
            "text/plain": [
              "                     0         1         2         3         4\n",
              "ять_NOUN      0.622753  0.620154  0.617661  0.616980  0.658449\n",
              "ять_VERB      0.622753  0.620154  0.617661  0.616980  0.661309\n",
              "ячейка_NOUN   0.624680  0.621130  0.618472  0.618359  0.635659\n",
              "ящерица_NOUN  0.622753  0.620154  0.617661  0.616980  0.646044\n",
              "ящик_NOUN     0.630842  0.624902  0.625858  0.626750  0.651882"
            ]
          },
          "metadata": {
            "tags": []
          },
          "execution_count": 88
        }
      ]
    },
    {
      "cell_type": "code",
      "metadata": {
        "id": "f2KWWFdlv3JF",
        "colab_type": "code",
        "colab": {
          "base_uri": "https://localhost:8080/",
          "height": 835
        },
        "outputId": "c88a85cd-6715-4b6c-b006-702ef89536de"
      },
      "source": [
        "for word in words:\n",
        "  if word in counts.index:\n",
        "    print(counts.loc[word])\n",
        "  else:\n",
        "    print(word)\n",
        "    print(\"not found\")"
      ],
      "execution_count": 103,
      "outputs": [
        {
          "output_type": "stream",
          "text": [
            "0      -42.654162\n",
            "1      884.800879\n",
            "2      317.989657\n",
            "3    12288.315600\n",
            "4        0.621756\n",
            "Name: понравиться_VERB, dtype: float64\n",
            "0      -20.492670\n",
            "1     3201.974243\n",
            "2     1010.661331\n",
            "3    32946.227841\n",
            "4        0.575637\n",
            "Name: вкусный_ADJ, dtype: float64\n",
            "0   -0.005373\n",
            "1   -0.001391\n",
            "2   -0.000090\n",
            "3   -0.500831\n",
            "4    0.858421\n",
            "Name: травмоопасный_ADJ, dtype: float64\n",
            "неухоженный_ADJ\n",
            "not found\n",
            "0    -0.051934\n",
            "1     0.308550\n",
            "2     1.013306\n",
            "3    54.791854\n",
            "4     1.122154\n",
            "Name: сумасшедший_ADJ, dtype: float64\n",
            "0    0.259198\n",
            "1   -0.427478\n",
            "2    0.001699\n",
            "3    7.408468\n",
            "4    1.015671\n",
            "Name: пагубный_ADJ, dtype: float64\n",
            "0     0.567685\n",
            "1     0.663180\n",
            "2     0.143479\n",
            "3    12.944970\n",
            "4     1.029322\n",
            "Name: издевательский_ADJ, dtype: float64\n",
            "0    0.000000\n",
            "1    0.000000\n",
            "2    0.000000\n",
            "3    0.000000\n",
            "4    1.045236\n",
            "Name: противность_NOUN, dtype: float64\n",
            "давка_NOUN\n",
            "not found\n"
          ],
          "name": "stdout"
        }
      ]
    }
  ]
}