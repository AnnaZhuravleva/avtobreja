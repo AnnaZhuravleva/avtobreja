{
  "nbformat": 4,
  "nbformat_minor": 0,
  "metadata": {
    "colab": {
      "name": "crop at 1%.ipynb",
      "provenance": [],
      "collapsed_sections": [],
      "include_colab_link": true
    },
    "kernelspec": {
      "name": "python3",
      "display_name": "Python 3"
    }
  },
  "cells": [
    {
      "cell_type": "markdown",
      "metadata": {
        "id": "view-in-github",
        "colab_type": "text"
      },
      "source": [
        "<a href=\"https://colab.research.google.com/github/AnnaZhuravleva/avtobreja/blob/master/crop_at_1_.ipynb\" target=\"_parent\"><img src=\"https://colab.research.google.com/assets/colab-badge.svg\" alt=\"Open In Colab\"/></a>"
      ]
    },
    {
      "cell_type": "markdown",
      "metadata": {
        "id": "jH8SuX1gCpG1",
        "colab_type": "text"
      },
      "source": [
        "# Here I merge results of differnet methods"
      ]
    },
    {
      "cell_type": "code",
      "metadata": {
        "id": "eNDKOog3cmy9",
        "colab_type": "code",
        "colab": {
          "base_uri": "https://localhost:8080/",
          "height": 122
        },
        "outputId": "518ca365-d01e-4b69-d46d-cff76e03336a"
      },
      "source": [
        "from google.colab import drive\n",
        "drive.mount('/content/drive')"
      ],
      "execution_count": 173,
      "outputs": [
        {
          "output_type": "stream",
          "text": [
            "Go to this URL in a browser: https://accounts.google.com/o/oauth2/auth?client_id=947318989803-6bn6qk8qdgf4n4g3pfee6491hc0brc4i.apps.googleusercontent.com&redirect_uri=urn%3aietf%3awg%3aoauth%3a2.0%3aoob&response_type=code&scope=email%20https%3a%2f%2fwww.googleapis.com%2fauth%2fdocs.test%20https%3a%2f%2fwww.googleapis.com%2fauth%2fdrive%20https%3a%2f%2fwww.googleapis.com%2fauth%2fdrive.photos.readonly%20https%3a%2f%2fwww.googleapis.com%2fauth%2fpeopleapi.readonly\n",
            "\n",
            "Enter your authorization code:\n",
            "··········\n",
            "Mounted at /content/drive\n"
          ],
          "name": "stdout"
        }
      ]
    },
    {
      "cell_type": "markdown",
      "metadata": {
        "id": "lefX-_YR-5qy",
        "colab_type": "text"
      },
      "source": [
        "## Extract graph based scores"
      ]
    },
    {
      "cell_type": "code",
      "metadata": {
        "id": "Ro2bXtGc8EgR",
        "colab_type": "code",
        "colab": {}
      },
      "source": [
        "import pandas as pd\n",
        "import numpy as np\n",
        "from collections import defaultdict"
      ],
      "execution_count": 0,
      "outputs": []
    },
    {
      "cell_type": "code",
      "metadata": {
        "id": "EFcwiE2r8Ls5",
        "colab_type": "code",
        "colab": {
          "base_uri": "https://localhost:8080/",
          "height": 204
        },
        "outputId": "6428c827-f39e-4105-bee4-56c63319c539"
      },
      "source": [
        "!wget https://raw.githubusercontent.com/AnnaZhuravleva/avtobreja/master/seeds/service_sentiment_reclassified.csv"
      ],
      "execution_count": 85,
      "outputs": [
        {
          "output_type": "stream",
          "text": [
            "--2019-12-23 15:07:39--  https://raw.githubusercontent.com/AnnaZhuravleva/avtobreja/master/seeds/service_sentiment_reclassified.csv\n",
            "Resolving raw.githubusercontent.com (raw.githubusercontent.com)... 151.101.0.133, 151.101.64.133, 151.101.128.133, ...\n",
            "Connecting to raw.githubusercontent.com (raw.githubusercontent.com)|151.101.0.133|:443... connected.\n",
            "HTTP request sent, awaiting response... 200 OK\n",
            "Length: 23179 (23K) [text/plain]\n",
            "Saving to: ‘service_sentiment_reclassified.csv’\n",
            "\n",
            "\r          service_s   0%[                    ]       0  --.-KB/s               \rservice_sentiment_r 100%[===================>]  22.64K  --.-KB/s    in 0.01s   \n",
            "\n",
            "2019-12-23 15:07:39 (1.83 MB/s) - ‘service_sentiment_reclassified.csv’ saved [23179/23179]\n",
            "\n"
          ],
          "name": "stdout"
        }
      ]
    },
    {
      "cell_type": "code",
      "metadata": {
        "id": "2uMqpBT963ZF",
        "colab_type": "code",
        "colab": {
          "base_uri": "https://localhost:8080/",
          "height": 204
        },
        "outputId": "53fa6c48-b281-4700-bdf4-47bbcb143704"
      },
      "source": [
        "!wget https://raw.githubusercontent.com/AnnaZhuravleva/avtobreja/master/seeds/food_sentiment_reclassified.csv"
      ],
      "execution_count": 86,
      "outputs": [
        {
          "output_type": "stream",
          "text": [
            "--2019-12-23 15:07:42--  https://raw.githubusercontent.com/AnnaZhuravleva/avtobreja/master/seeds/food_sentiment_reclassified.csv\n",
            "Resolving raw.githubusercontent.com (raw.githubusercontent.com)... 151.101.0.133, 151.101.64.133, 151.101.128.133, ...\n",
            "Connecting to raw.githubusercontent.com (raw.githubusercontent.com)|151.101.0.133|:443... connected.\n",
            "HTTP request sent, awaiting response... 200 OK\n",
            "Length: 23179 (23K) [text/plain]\n",
            "Saving to: ‘food_sentiment_reclassified.csv’\n",
            "\n",
            "\r          food_sent   0%[                    ]       0  --.-KB/s               \rfood_sentiment_recl 100%[===================>]  22.64K  --.-KB/s    in 0.01s   \n",
            "\n",
            "2019-12-23 15:07:42 (1.79 MB/s) - ‘food_sentiment_reclassified.csv’ saved [23179/23179]\n",
            "\n"
          ],
          "name": "stdout"
        }
      ]
    },
    {
      "cell_type": "code",
      "metadata": {
        "id": "YsFOdQ8V8NSx",
        "colab_type": "code",
        "colab": {
          "base_uri": "https://localhost:8080/",
          "height": 204
        },
        "outputId": "e3495cb1-6dc0-46c4-dfbf-14fc78adaae2"
      },
      "source": [
        "service_graph_scores_df = pd.read_csv(\"service_sentiment_reclassified.csv\", sep='\\t', names=['word', 'POS', 'score'])\n",
        "service_graph_scores_df['lemma_POS'] = service_graph_scores_df['word'].apply(lambda s: s.strip('-').strip('.').lower()) + '_' + service_graph_scores_df['POS']\n",
        "service_graph_scores_df = service_graph_scores_df.drop(['POS', 'word'], axis=1)\n",
        "service_graph_scores_df.tail()"
      ],
      "execution_count": 87,
      "outputs": [
        {
          "output_type": "execute_result",
          "data": {
            "text/html": [
              "<div>\n",
              "<style scoped>\n",
              "    .dataframe tbody tr th:only-of-type {\n",
              "        vertical-align: middle;\n",
              "    }\n",
              "\n",
              "    .dataframe tbody tr th {\n",
              "        vertical-align: top;\n",
              "    }\n",
              "\n",
              "    .dataframe thead th {\n",
              "        text-align: right;\n",
              "    }\n",
              "</style>\n",
              "<table border=\"1\" class=\"dataframe\">\n",
              "  <thead>\n",
              "    <tr style=\"text-align: right;\">\n",
              "      <th></th>\n",
              "      <th>score</th>\n",
              "      <th>lemma_POS</th>\n",
              "    </tr>\n",
              "  </thead>\n",
              "  <tbody>\n",
              "    <tr>\n",
              "      <th>918</th>\n",
              "      <td>1</td>\n",
              "      <td>уютный_ADJ</td>\n",
              "    </tr>\n",
              "    <tr>\n",
              "      <th>919</th>\n",
              "      <td>1</td>\n",
              "      <td>свежий_ADJ</td>\n",
              "    </tr>\n",
              "    <tr>\n",
              "      <th>920</th>\n",
              "      <td>1</td>\n",
              "      <td>красивый_ADJ</td>\n",
              "    </tr>\n",
              "    <tr>\n",
              "      <th>921</th>\n",
              "      <td>1</td>\n",
              "      <td>сытный_ADJ</td>\n",
              "    </tr>\n",
              "    <tr>\n",
              "      <th>922</th>\n",
              "      <td>1</td>\n",
              "      <td>вкусный_ADJ</td>\n",
              "    </tr>\n",
              "  </tbody>\n",
              "</table>\n",
              "</div>"
            ],
            "text/plain": [
              "     score     lemma_POS\n",
              "918      1    уютный_ADJ\n",
              "919      1    свежий_ADJ\n",
              "920      1  красивый_ADJ\n",
              "921      1    сытный_ADJ\n",
              "922      1   вкусный_ADJ"
            ]
          },
          "metadata": {
            "tags": []
          },
          "execution_count": 87
        }
      ]
    },
    {
      "cell_type": "code",
      "metadata": {
        "id": "1xmKvfv_Hb3K",
        "colab_type": "code",
        "colab": {}
      },
      "source": [
        "service_graph_scores = list(set([tuple([r[1], r[0]]) for r in service_graph_scores_df.values]))"
      ],
      "execution_count": 0,
      "outputs": []
    },
    {
      "cell_type": "code",
      "metadata": {
        "id": "dawq5dB9-Zq3",
        "colab_type": "code",
        "colab": {
          "base_uri": "https://localhost:8080/",
          "height": 204
        },
        "outputId": "f05e8640-881b-45de-e101-8c4c3bbbad7d"
      },
      "source": [
        "food_graph_scores_df = pd.read_csv(\"food_sentiment_reclassified.csv\", sep='\\t', names=['word', 'POS', 'score'])\n",
        "food_graph_scores_df['lemma_POS'] = food_graph_scores_df['word'].apply(lambda s: s.strip('-').strip('.').lower()) + '_' + food_graph_scores_df['POS']\n",
        "food_graph_scores_df = food_graph_scores_df.drop(['POS', 'word'], axis=1)\n",
        "food_graph_scores_df.tail()"
      ],
      "execution_count": 89,
      "outputs": [
        {
          "output_type": "execute_result",
          "data": {
            "text/html": [
              "<div>\n",
              "<style scoped>\n",
              "    .dataframe tbody tr th:only-of-type {\n",
              "        vertical-align: middle;\n",
              "    }\n",
              "\n",
              "    .dataframe tbody tr th {\n",
              "        vertical-align: top;\n",
              "    }\n",
              "\n",
              "    .dataframe thead th {\n",
              "        text-align: right;\n",
              "    }\n",
              "</style>\n",
              "<table border=\"1\" class=\"dataframe\">\n",
              "  <thead>\n",
              "    <tr style=\"text-align: right;\">\n",
              "      <th></th>\n",
              "      <th>score</th>\n",
              "      <th>lemma_POS</th>\n",
              "    </tr>\n",
              "  </thead>\n",
              "  <tbody>\n",
              "    <tr>\n",
              "      <th>918</th>\n",
              "      <td>1</td>\n",
              "      <td>уютный_ADJ</td>\n",
              "    </tr>\n",
              "    <tr>\n",
              "      <th>919</th>\n",
              "      <td>1</td>\n",
              "      <td>свежий_ADJ</td>\n",
              "    </tr>\n",
              "    <tr>\n",
              "      <th>920</th>\n",
              "      <td>1</td>\n",
              "      <td>красивый_ADJ</td>\n",
              "    </tr>\n",
              "    <tr>\n",
              "      <th>921</th>\n",
              "      <td>1</td>\n",
              "      <td>сытный_ADJ</td>\n",
              "    </tr>\n",
              "    <tr>\n",
              "      <th>922</th>\n",
              "      <td>1</td>\n",
              "      <td>вкусный_ADJ</td>\n",
              "    </tr>\n",
              "  </tbody>\n",
              "</table>\n",
              "</div>"
            ],
            "text/plain": [
              "     score     lemma_POS\n",
              "918      1    уютный_ADJ\n",
              "919      1    свежий_ADJ\n",
              "920      1  красивый_ADJ\n",
              "921      1    сытный_ADJ\n",
              "922      1   вкусный_ADJ"
            ]
          },
          "metadata": {
            "tags": []
          },
          "execution_count": 89
        }
      ]
    },
    {
      "cell_type": "code",
      "metadata": {
        "id": "m_PyGzuuHmIT",
        "colab_type": "code",
        "colab": {}
      },
      "source": [
        "food_graph_scores = list(set([tuple([r[1], r[0]]) for r in food_graph_scores_df.values]))"
      ],
      "execution_count": 0,
      "outputs": []
    },
    {
      "cell_type": "markdown",
      "metadata": {
        "id": "tnxRWd1I-_YZ",
        "colab_type": "text"
      },
      "source": [
        "## Extract n-gram ranks"
      ]
    },
    {
      "cell_type": "code",
      "metadata": {
        "id": "BX3uLgRK-x1m",
        "colab_type": "code",
        "colab": {
          "base_uri": "https://localhost:8080/",
          "height": 204
        },
        "outputId": "17cb2d72-a845-4eea-9390-369c70fc0366"
      },
      "source": [
        "!wget https://raw.githubusercontent.com/AnnaZhuravleva/avtobreja/master/word_lists/total_CNN%2BSAM/full_service_3grams.csv"
      ],
      "execution_count": 8,
      "outputs": [
        {
          "output_type": "stream",
          "text": [
            "--2019-12-23 14:44:14--  https://raw.githubusercontent.com/AnnaZhuravleva/avtobreja/master/word_lists/total_CNN%2BSAM/full_service_3grams.csv\n",
            "Resolving raw.githubusercontent.com (raw.githubusercontent.com)... 151.101.0.133, 151.101.64.133, 151.101.128.133, ...\n",
            "Connecting to raw.githubusercontent.com (raw.githubusercontent.com)|151.101.0.133|:443... connected.\n",
            "HTTP request sent, awaiting response... 200 OK\n",
            "Length: 957753 (935K) [text/plain]\n",
            "Saving to: ‘full_service_3grams.csv.1’\n",
            "\n",
            "\r          full_serv   0%[                    ]       0  --.-KB/s               \rfull_service_3grams 100%[===================>] 935.31K  --.-KB/s    in 0.07s   \n",
            "\n",
            "2019-12-23 14:44:14 (12.2 MB/s) - ‘full_service_3grams.csv.1’ saved [957753/957753]\n",
            "\n"
          ],
          "name": "stdout"
        }
      ]
    },
    {
      "cell_type": "code",
      "metadata": {
        "id": "jbDJUder_RSa",
        "colab_type": "code",
        "colab": {
          "base_uri": "https://localhost:8080/",
          "height": 204
        },
        "outputId": "4438218c-a41b-47af-a808-38a84a7828a0"
      },
      "source": [
        "!wget https://raw.githubusercontent.com/AnnaZhuravleva/avtobreja/master/word_lists/total_CNN%2BSAM/full_food_3grams.csv"
      ],
      "execution_count": 9,
      "outputs": [
        {
          "output_type": "stream",
          "text": [
            "--2019-12-23 14:44:15--  https://raw.githubusercontent.com/AnnaZhuravleva/avtobreja/master/word_lists/total_CNN%2BSAM/full_food_3grams.csv\n",
            "Resolving raw.githubusercontent.com (raw.githubusercontent.com)... 151.101.0.133, 151.101.64.133, 151.101.128.133, ...\n",
            "Connecting to raw.githubusercontent.com (raw.githubusercontent.com)|151.101.0.133|:443... connected.\n",
            "HTTP request sent, awaiting response... 200 OK\n",
            "Length: 963652 (941K) [text/plain]\n",
            "Saving to: ‘full_food_3grams.csv.1’\n",
            "\n",
            "\rfull_food_3grams.cs   0%[                    ]       0  --.-KB/s               \rfull_food_3grams.cs 100%[===================>] 941.07K  --.-KB/s    in 0.07s   \n",
            "\n",
            "2019-12-23 14:44:16 (12.3 MB/s) - ‘full_food_3grams.csv.1’ saved [963652/963652]\n",
            "\n"
          ],
          "name": "stdout"
        }
      ]
    },
    {
      "cell_type": "code",
      "metadata": {
        "id": "WcpwiQq2_gA0",
        "colab_type": "code",
        "colab": {
          "base_uri": "https://localhost:8080/",
          "height": 204
        },
        "outputId": "19a1d455-ab7b-4a83-9404-7285cefb83cb"
      },
      "source": [
        "service_n_grams = pd.read_csv('full_service_3grams.csv', sep='\\t', names=['lemma_POS', 'rank'])\n",
        "service_n_grams.tail()"
      ],
      "execution_count": 10,
      "outputs": [
        {
          "output_type": "execute_result",
          "data": {
            "text/html": [
              "<div>\n",
              "<style scoped>\n",
              "    .dataframe tbody tr th:only-of-type {\n",
              "        vertical-align: middle;\n",
              "    }\n",
              "\n",
              "    .dataframe tbody tr th {\n",
              "        vertical-align: top;\n",
              "    }\n",
              "\n",
              "    .dataframe thead th {\n",
              "        text-align: right;\n",
              "    }\n",
              "</style>\n",
              "<table border=\"1\" class=\"dataframe\">\n",
              "  <thead>\n",
              "    <tr style=\"text-align: right;\">\n",
              "      <th></th>\n",
              "      <th>lemma_POS</th>\n",
              "      <th>rank</th>\n",
              "    </tr>\n",
              "  </thead>\n",
              "  <tbody>\n",
              "    <tr>\n",
              "      <th>19969</th>\n",
              "      <td>место_NOUN как_SCONJ</td>\n",
              "      <td>-67.359245</td>\n",
              "    </tr>\n",
              "    <tr>\n",
              "      <th>19970</th>\n",
              "      <td>место_NOUN интерьер_NOUN</td>\n",
              "      <td>-69.560195</td>\n",
              "    </tr>\n",
              "    <tr>\n",
              "      <th>19971</th>\n",
              "      <td>атмосфера_NOUN обслуживание_NOUN</td>\n",
              "      <td>-73.228183</td>\n",
              "    </tr>\n",
              "    <tr>\n",
              "      <th>19972</th>\n",
              "      <td>обслуживание_NOUN атмосфера_NOUN</td>\n",
              "      <td>-73.228183</td>\n",
              "    </tr>\n",
              "    <tr>\n",
              "      <th>19973</th>\n",
              "      <td>место_NOUN обслуживание_NOUN</td>\n",
              "      <td>-81.014264</td>\n",
              "    </tr>\n",
              "  </tbody>\n",
              "</table>\n",
              "</div>"
            ],
            "text/plain": [
              "                              lemma_POS       rank\n",
              "19969              место_NOUN как_SCONJ -67.359245\n",
              "19970          место_NOUN интерьер_NOUN -69.560195\n",
              "19971  атмосфера_NOUN обслуживание_NOUN -73.228183\n",
              "19972  обслуживание_NOUN атмосфера_NOUN -73.228183\n",
              "19973      место_NOUN обслуживание_NOUN -81.014264"
            ]
          },
          "metadata": {
            "tags": []
          },
          "execution_count": 10
        }
      ]
    },
    {
      "cell_type": "code",
      "metadata": {
        "id": "PXJL_QJC_aG8",
        "colab_type": "code",
        "colab": {
          "base_uri": "https://localhost:8080/",
          "height": 204
        },
        "outputId": "933456a8-f928-4840-ce92-8e41232e2505"
      },
      "source": [
        "food_n_grams =  pd.read_csv('full_food_3grams.csv', sep='\\t', names=['lemma_POS', 'rank'])\n",
        "food_n_grams.tail()"
      ],
      "execution_count": 11,
      "outputs": [
        {
          "output_type": "execute_result",
          "data": {
            "text/html": [
              "<div>\n",
              "<style scoped>\n",
              "    .dataframe tbody tr th:only-of-type {\n",
              "        vertical-align: middle;\n",
              "    }\n",
              "\n",
              "    .dataframe tbody tr th {\n",
              "        vertical-align: top;\n",
              "    }\n",
              "\n",
              "    .dataframe thead th {\n",
              "        text-align: right;\n",
              "    }\n",
              "</style>\n",
              "<table border=\"1\" class=\"dataframe\">\n",
              "  <thead>\n",
              "    <tr style=\"text-align: right;\">\n",
              "      <th></th>\n",
              "      <th>lemma_POS</th>\n",
              "      <th>rank</th>\n",
              "    </tr>\n",
              "  </thead>\n",
              "  <tbody>\n",
              "    <tr>\n",
              "      <th>19969</th>\n",
              "      <td>плохо_ADV не_PART</td>\n",
              "      <td>-117.746496</td>\n",
              "    </tr>\n",
              "    <tr>\n",
              "      <th>19970</th>\n",
              "      <td>плохо_ADJ не_PART и_CCONJ</td>\n",
              "      <td>-117.746496</td>\n",
              "    </tr>\n",
              "    <tr>\n",
              "      <th>19971</th>\n",
              "      <td>плохо_ADJ все_PRON</td>\n",
              "      <td>-119.028149</td>\n",
              "    </tr>\n",
              "    <tr>\n",
              "      <th>19972</th>\n",
              "      <td>плохой_ADJ не_PART интерьер_NOUN</td>\n",
              "      <td>-123.060394</td>\n",
              "    </tr>\n",
              "    <tr>\n",
              "      <th>19973</th>\n",
              "      <td>плохо_ADJ совсем_ADV</td>\n",
              "      <td>-138.797677</td>\n",
              "    </tr>\n",
              "  </tbody>\n",
              "</table>\n",
              "</div>"
            ],
            "text/plain": [
              "                              lemma_POS        rank\n",
              "19969                 плохо_ADV не_PART -117.746496\n",
              "19970         плохо_ADJ не_PART и_CCONJ -117.746496\n",
              "19971                плохо_ADJ все_PRON -119.028149\n",
              "19972  плохой_ADJ не_PART интерьер_NOUN -123.060394\n",
              "19973              плохо_ADJ совсем_ADV -138.797677"
            ]
          },
          "metadata": {
            "tags": []
          },
          "execution_count": 11
        }
      ]
    },
    {
      "cell_type": "markdown",
      "metadata": {
        "id": "ZL5F8F3y_5w5",
        "colab_type": "text"
      },
      "source": [
        "## Exstract combined CNN and vector ranks"
      ]
    },
    {
      "cell_type": "code",
      "metadata": {
        "id": "OOncLdP-_5J6",
        "colab_type": "code",
        "colab": {
          "base_uri": "https://localhost:8080/",
          "height": 204
        },
        "outputId": "b33d9319-06ec-4561-a8be-7c0225275394"
      },
      "source": [
        "!wget https://raw.githubusercontent.com/AnnaZhuravleva/avtobreja/master/word_lists/total_CNN%2BSAM/full_food_service_wo_mark.csv"
      ],
      "execution_count": 12,
      "outputs": [
        {
          "output_type": "stream",
          "text": [
            "--2019-12-23 14:44:17--  https://raw.githubusercontent.com/AnnaZhuravleva/avtobreja/master/word_lists/total_CNN%2BSAM/full_food_service_wo_mark.csv\n",
            "Resolving raw.githubusercontent.com (raw.githubusercontent.com)... 151.101.0.133, 151.101.64.133, 151.101.128.133, ...\n",
            "Connecting to raw.githubusercontent.com (raw.githubusercontent.com)|151.101.0.133|:443... connected.\n",
            "HTTP request sent, awaiting response... 200 OK\n",
            "Length: 1246393 (1.2M) [text/plain]\n",
            "Saving to: ‘full_food_service_wo_mark.csv.1’\n",
            "\n",
            "\r          full_food   0%[                    ]       0  --.-KB/s               \rfull_food_service_w 100%[===================>]   1.19M  --.-KB/s    in 0.07s   \n",
            "\n",
            "2019-12-23 14:44:17 (16.0 MB/s) - ‘full_food_service_wo_mark.csv.1’ saved [1246393/1246393]\n",
            "\n"
          ],
          "name": "stdout"
        }
      ]
    },
    {
      "cell_type": "code",
      "metadata": {
        "id": "j3GE3BtW__SV",
        "colab_type": "code",
        "colab": {
          "base_uri": "https://localhost:8080/",
          "height": 204
        },
        "outputId": "13c1aff2-5202-453d-8db6-81fe6a203cfa"
      },
      "source": [
        "!wget https://raw.githubusercontent.com/AnnaZhuravleva/avtobreja/master/word_lists/total_CNN%2BSAM/full_food_wo_mark.csv"
      ],
      "execution_count": 13,
      "outputs": [
        {
          "output_type": "stream",
          "text": [
            "--2019-12-23 14:44:19--  https://raw.githubusercontent.com/AnnaZhuravleva/avtobreja/master/word_lists/total_CNN%2BSAM/full_food_wo_mark.csv\n",
            "Resolving raw.githubusercontent.com (raw.githubusercontent.com)... 151.101.0.133, 151.101.64.133, 151.101.128.133, ...\n",
            "Connecting to raw.githubusercontent.com (raw.githubusercontent.com)|151.101.0.133|:443... connected.\n",
            "HTTP request sent, awaiting response... 200 OK\n",
            "Length: 1301929 (1.2M) [text/plain]\n",
            "Saving to: ‘full_food_wo_mark.csv.1’\n",
            "\n",
            "\rfull_food_wo_mark.c   0%[                    ]       0  --.-KB/s               \rfull_food_wo_mark.c 100%[===================>]   1.24M  --.-KB/s    in 0.1s    \n",
            "\n",
            "2019-12-23 14:44:19 (11.6 MB/s) - ‘full_food_wo_mark.csv.1’ saved [1301929/1301929]\n",
            "\n"
          ],
          "name": "stdout"
        }
      ]
    },
    {
      "cell_type": "code",
      "metadata": {
        "id": "kEzM6IusALLG",
        "colab_type": "code",
        "colab": {
          "base_uri": "https://localhost:8080/",
          "height": 204
        },
        "outputId": "9f17b028-b343-40ee-c145-510a2806f41d"
      },
      "source": [
        "service_combined =  pd.read_csv('full_food_service_wo_mark.csv', sep='\\t', names=['lemma_POS', 'rank'])\n",
        "service_combined.tail()"
      ],
      "execution_count": 14,
      "outputs": [
        {
          "output_type": "execute_result",
          "data": {
            "text/html": [
              "<div>\n",
              "<style scoped>\n",
              "    .dataframe tbody tr th:only-of-type {\n",
              "        vertical-align: middle;\n",
              "    }\n",
              "\n",
              "    .dataframe tbody tr th {\n",
              "        vertical-align: top;\n",
              "    }\n",
              "\n",
              "    .dataframe thead th {\n",
              "        text-align: right;\n",
              "    }\n",
              "</style>\n",
              "<table border=\"1\" class=\"dataframe\">\n",
              "  <thead>\n",
              "    <tr style=\"text-align: right;\">\n",
              "      <th></th>\n",
              "      <th>lemma_POS</th>\n",
              "      <th>rank</th>\n",
              "    </tr>\n",
              "  </thead>\n",
              "  <tbody>\n",
              "    <tr>\n",
              "      <th>29968</th>\n",
              "      <td>ласковый_ADJ</td>\n",
              "      <td>-110.269782</td>\n",
              "    </tr>\n",
              "    <tr>\n",
              "      <th>29969</th>\n",
              "      <td>любезный_ADJ</td>\n",
              "      <td>-111.020476</td>\n",
              "    </tr>\n",
              "    <tr>\n",
              "      <th>29970</th>\n",
              "      <td>дружелюбный_ADJ</td>\n",
              "      <td>-113.138820</td>\n",
              "    </tr>\n",
              "    <tr>\n",
              "      <th>29971</th>\n",
              "      <td>радушный_ADJ</td>\n",
              "      <td>-119.292144</td>\n",
              "    </tr>\n",
              "    <tr>\n",
              "      <th>29972</th>\n",
              "      <td>приветливый_ADJ</td>\n",
              "      <td>-120.355912</td>\n",
              "    </tr>\n",
              "  </tbody>\n",
              "</table>\n",
              "</div>"
            ],
            "text/plain": [
              "             lemma_POS        rank\n",
              "29968     ласковый_ADJ -110.269782\n",
              "29969     любезный_ADJ -111.020476\n",
              "29970  дружелюбный_ADJ -113.138820\n",
              "29971     радушный_ADJ -119.292144\n",
              "29972  приветливый_ADJ -120.355912"
            ]
          },
          "metadata": {
            "tags": []
          },
          "execution_count": 14
        }
      ]
    },
    {
      "cell_type": "code",
      "metadata": {
        "id": "VpiCa0AtAFci",
        "colab_type": "code",
        "colab": {
          "base_uri": "https://localhost:8080/",
          "height": 204
        },
        "outputId": "f14d6474-7190-4262-ff4d-913729527e8b"
      },
      "source": [
        "food_combined =  pd.read_csv('full_food_wo_mark.csv', sep='\\t', names=['lemma_POS', 'rank'])\n",
        "food_combined.tail()"
      ],
      "execution_count": 15,
      "outputs": [
        {
          "output_type": "execute_result",
          "data": {
            "text/html": [
              "<div>\n",
              "<style scoped>\n",
              "    .dataframe tbody tr th:only-of-type {\n",
              "        vertical-align: middle;\n",
              "    }\n",
              "\n",
              "    .dataframe tbody tr th {\n",
              "        vertical-align: top;\n",
              "    }\n",
              "\n",
              "    .dataframe thead th {\n",
              "        text-align: right;\n",
              "    }\n",
              "</style>\n",
              "<table border=\"1\" class=\"dataframe\">\n",
              "  <thead>\n",
              "    <tr style=\"text-align: right;\">\n",
              "      <th></th>\n",
              "      <th>lemma_POS</th>\n",
              "      <th>rank</th>\n",
              "    </tr>\n",
              "  </thead>\n",
              "  <tbody>\n",
              "    <tr>\n",
              "      <th>31260</th>\n",
              "      <td>необыкновенный_ADJ</td>\n",
              "      <td>-73.041091</td>\n",
              "    </tr>\n",
              "    <tr>\n",
              "      <th>31261</th>\n",
              "      <td>великолепный_ADJ</td>\n",
              "      <td>-76.084335</td>\n",
              "    </tr>\n",
              "    <tr>\n",
              "      <th>31262</th>\n",
              "      <td>живописный_ADJ</td>\n",
              "      <td>-76.777247</td>\n",
              "    </tr>\n",
              "    <tr>\n",
              "      <th>31263</th>\n",
              "      <td>обширный_ADJ</td>\n",
              "      <td>-77.776156</td>\n",
              "    </tr>\n",
              "    <tr>\n",
              "      <th>31264</th>\n",
              "      <td>величественный_ADJ</td>\n",
              "      <td>-80.639570</td>\n",
              "    </tr>\n",
              "  </tbody>\n",
              "</table>\n",
              "</div>"
            ],
            "text/plain": [
              "                lemma_POS       rank\n",
              "31260  необыкновенный_ADJ -73.041091\n",
              "31261    великолепный_ADJ -76.084335\n",
              "31262      живописный_ADJ -76.777247\n",
              "31263        обширный_ADJ -77.776156\n",
              "31264  величественный_ADJ -80.639570"
            ]
          },
          "metadata": {
            "tags": []
          },
          "execution_count": 15
        }
      ]
    },
    {
      "cell_type": "markdown",
      "metadata": {
        "id": "87DlstCjARTC",
        "colab_type": "text"
      },
      "source": [
        "## Crop at 1%"
      ]
    },
    {
      "cell_type": "markdown",
      "metadata": {
        "id": "ygMNetSlAayf",
        "colab_type": "text"
      },
      "source": [
        "### n-grams"
      ]
    },
    {
      "cell_type": "markdown",
      "metadata": {
        "id": "9gwtJpiiCda0",
        "colab_type": "text"
      },
      "source": [
        "#### service"
      ]
    },
    {
      "cell_type": "code",
      "metadata": {
        "id": "MDDJDbPBAaMO",
        "colab_type": "code",
        "colab": {
          "base_uri": "https://localhost:8080/",
          "height": 419
        },
        "outputId": "ab63898d-a6cc-4871-9233-ed83cb1221e4"
      },
      "source": [
        "service_n_grams.sort_values(['rank'], ascending=False)"
      ],
      "execution_count": 16,
      "outputs": [
        {
          "output_type": "execute_result",
          "data": {
            "text/html": [
              "<div>\n",
              "<style scoped>\n",
              "    .dataframe tbody tr th:only-of-type {\n",
              "        vertical-align: middle;\n",
              "    }\n",
              "\n",
              "    .dataframe tbody tr th {\n",
              "        vertical-align: top;\n",
              "    }\n",
              "\n",
              "    .dataframe thead th {\n",
              "        text-align: right;\n",
              "    }\n",
              "</style>\n",
              "<table border=\"1\" class=\"dataframe\">\n",
              "  <thead>\n",
              "    <tr style=\"text-align: right;\">\n",
              "      <th></th>\n",
              "      <th>lemma_POS</th>\n",
              "      <th>rank</th>\n",
              "    </tr>\n",
              "  </thead>\n",
              "  <tbody>\n",
              "    <tr>\n",
              "      <th>0</th>\n",
              "      <td>вежливый_ADJ внимательный_ADJ</td>\n",
              "      <td>169.769622</td>\n",
              "    </tr>\n",
              "    <tr>\n",
              "      <th>1</th>\n",
              "      <td>приятный_ADJ спокойный_ADJ</td>\n",
              "      <td>163.490297</td>\n",
              "    </tr>\n",
              "    <tr>\n",
              "      <th>2</th>\n",
              "      <td>милый_ADJ уютный_ADJ</td>\n",
              "      <td>149.057887</td>\n",
              "    </tr>\n",
              "    <tr>\n",
              "      <th>3</th>\n",
              "      <td>светлый_ADJ приятный_ADJ</td>\n",
              "      <td>144.640297</td>\n",
              "    </tr>\n",
              "    <tr>\n",
              "      <th>4</th>\n",
              "      <td>прием_NOUN радушный_ADJ</td>\n",
              "      <td>142.234406</td>\n",
              "    </tr>\n",
              "    <tr>\n",
              "      <th>...</th>\n",
              "      <td>...</td>\n",
              "      <td>...</td>\n",
              "    </tr>\n",
              "    <tr>\n",
              "      <th>19969</th>\n",
              "      <td>место_NOUN как_SCONJ</td>\n",
              "      <td>-67.359245</td>\n",
              "    </tr>\n",
              "    <tr>\n",
              "      <th>19970</th>\n",
              "      <td>место_NOUN интерьер_NOUN</td>\n",
              "      <td>-69.560195</td>\n",
              "    </tr>\n",
              "    <tr>\n",
              "      <th>19971</th>\n",
              "      <td>атмосфера_NOUN обслуживание_NOUN</td>\n",
              "      <td>-73.228183</td>\n",
              "    </tr>\n",
              "    <tr>\n",
              "      <th>19972</th>\n",
              "      <td>обслуживание_NOUN атмосфера_NOUN</td>\n",
              "      <td>-73.228183</td>\n",
              "    </tr>\n",
              "    <tr>\n",
              "      <th>19973</th>\n",
              "      <td>место_NOUN обслуживание_NOUN</td>\n",
              "      <td>-81.014264</td>\n",
              "    </tr>\n",
              "  </tbody>\n",
              "</table>\n",
              "<p>19974 rows × 2 columns</p>\n",
              "</div>"
            ],
            "text/plain": [
              "                              lemma_POS        rank\n",
              "0         вежливый_ADJ внимательный_ADJ  169.769622\n",
              "1            приятный_ADJ спокойный_ADJ  163.490297\n",
              "2                  милый_ADJ уютный_ADJ  149.057887\n",
              "3              светлый_ADJ приятный_ADJ  144.640297\n",
              "4               прием_NOUN радушный_ADJ  142.234406\n",
              "...                                 ...         ...\n",
              "19969              место_NOUN как_SCONJ  -67.359245\n",
              "19970          место_NOUN интерьер_NOUN  -69.560195\n",
              "19971  атмосфера_NOUN обслуживание_NOUN  -73.228183\n",
              "19972  обслуживание_NOUN атмосфера_NOUN  -73.228183\n",
              "19973      место_NOUN обслуживание_NOUN  -81.014264\n",
              "\n",
              "[19974 rows x 2 columns]"
            ]
          },
          "metadata": {
            "tags": []
          },
          "execution_count": 16
        }
      ]
    },
    {
      "cell_type": "code",
      "metadata": {
        "id": "XTdkBNK5BIqE",
        "colab_type": "code",
        "colab": {
          "base_uri": "https://localhost:8080/",
          "height": 34
        },
        "outputId": "ba619f1c-5794-46fe-fef1-2d31c1043209"
      },
      "source": [
        "len(service_n_grams) * 0.01"
      ],
      "execution_count": 17,
      "outputs": [
        {
          "output_type": "execute_result",
          "data": {
            "text/plain": [
              "199.74"
            ]
          },
          "metadata": {
            "tags": []
          },
          "execution_count": 17
        }
      ]
    },
    {
      "cell_type": "code",
      "metadata": {
        "id": "iqhpmRKtBBBm",
        "colab_type": "code",
        "colab": {}
      },
      "source": [
        "service_n_grams_sorted = list(service_n_grams.sort_values(['rank'], ascending=False)[\"lemma_POS\"])"
      ],
      "execution_count": 0,
      "outputs": []
    },
    {
      "cell_type": "code",
      "metadata": {
        "id": "J3jq4rLVBWHC",
        "colab_type": "code",
        "colab": {
          "base_uri": "https://localhost:8080/",
          "height": 34
        },
        "outputId": "4f9a9ee5-8d2a-4e2e-c973-85ae8ffc9162"
      },
      "source": [
        "service_n_grams_good = service_n_grams_sorted[:int(len(service_n_grams) * 0.01)]\n",
        "service_n_grams_bad = service_n_grams_sorted[-int(len(service_n_grams) * 0.01):]\n",
        "service_n_grams_good[0]"
      ],
      "execution_count": 19,
      "outputs": [
        {
          "output_type": "execute_result",
          "data": {
            "text/plain": [
              "'вежливый_ADJ внимательный_ADJ'"
            ]
          },
          "metadata": {
            "tags": []
          },
          "execution_count": 19
        }
      ]
    },
    {
      "cell_type": "code",
      "metadata": {
        "id": "rHvgwTWeC0wp",
        "colab_type": "code",
        "colab": {}
      },
      "source": [
        "service_n_gram_scores = [(word, 1)  for word in service_n_grams_good] + [(word, 0)  for word in service_n_grams_bad]"
      ],
      "execution_count": 0,
      "outputs": []
    },
    {
      "cell_type": "code",
      "metadata": {
        "id": "PCAEiqNWDJmL",
        "colab_type": "code",
        "colab": {}
      },
      "source": [
        "def crop_and_score(df, ratio=0.01):\n",
        "  df_sorted = list(df.sort_values(['rank'], ascending=False)[\"lemma_POS\"])\n",
        "  df_good = df_sorted[:int(len(df) * ratio)]\n",
        "  df_bad = df_sorted[-int(len(df) * ratio):]\n",
        "  return [(word, 1)  for word in df_good] + [(word, 0)  for word in df_bad]"
      ],
      "execution_count": 0,
      "outputs": []
    },
    {
      "cell_type": "code",
      "metadata": {
        "id": "naSYhHU4Dr6t",
        "colab_type": "code",
        "colab": {
          "base_uri": "https://localhost:8080/",
          "height": 34
        },
        "outputId": "1fe2e95c-d989-408f-ae57-0f165a017513"
      },
      "source": [
        "service_n_gram_scores == crop_and_score(service_n_grams)"
      ],
      "execution_count": 22,
      "outputs": [
        {
          "output_type": "execute_result",
          "data": {
            "text/plain": [
              "True"
            ]
          },
          "metadata": {
            "tags": []
          },
          "execution_count": 22
        }
      ]
    },
    {
      "cell_type": "code",
      "metadata": {
        "id": "cfEg9tfWEWwN",
        "colab_type": "code",
        "colab": {
          "base_uri": "https://localhost:8080/",
          "height": 204
        },
        "outputId": "51ec37bc-7883-4980-ed73-ab0c575fce06"
      },
      "source": [
        "service_n_gram_scores_df = pd.DataFrame(service_n_gram_scores, columns =['lemma_POS', 'score']) \n",
        "service_n_gram_scores_df.tail()"
      ],
      "execution_count": 23,
      "outputs": [
        {
          "output_type": "execute_result",
          "data": {
            "text/html": [
              "<div>\n",
              "<style scoped>\n",
              "    .dataframe tbody tr th:only-of-type {\n",
              "        vertical-align: middle;\n",
              "    }\n",
              "\n",
              "    .dataframe tbody tr th {\n",
              "        vertical-align: top;\n",
              "    }\n",
              "\n",
              "    .dataframe thead th {\n",
              "        text-align: right;\n",
              "    }\n",
              "</style>\n",
              "<table border=\"1\" class=\"dataframe\">\n",
              "  <thead>\n",
              "    <tr style=\"text-align: right;\">\n",
              "      <th></th>\n",
              "      <th>lemma_POS</th>\n",
              "      <th>score</th>\n",
              "    </tr>\n",
              "  </thead>\n",
              "  <tbody>\n",
              "    <tr>\n",
              "      <th>393</th>\n",
              "      <td>место_NOUN как_SCONJ</td>\n",
              "      <td>0</td>\n",
              "    </tr>\n",
              "    <tr>\n",
              "      <th>394</th>\n",
              "      <td>место_NOUN интерьер_NOUN</td>\n",
              "      <td>0</td>\n",
              "    </tr>\n",
              "    <tr>\n",
              "      <th>395</th>\n",
              "      <td>атмосфера_NOUN обслуживание_NOUN</td>\n",
              "      <td>0</td>\n",
              "    </tr>\n",
              "    <tr>\n",
              "      <th>396</th>\n",
              "      <td>обслуживание_NOUN атмосфера_NOUN</td>\n",
              "      <td>0</td>\n",
              "    </tr>\n",
              "    <tr>\n",
              "      <th>397</th>\n",
              "      <td>место_NOUN обслуживание_NOUN</td>\n",
              "      <td>0</td>\n",
              "    </tr>\n",
              "  </tbody>\n",
              "</table>\n",
              "</div>"
            ],
            "text/plain": [
              "                            lemma_POS  score\n",
              "393              место_NOUN как_SCONJ      0\n",
              "394          место_NOUN интерьер_NOUN      0\n",
              "395  атмосфера_NOUN обслуживание_NOUN      0\n",
              "396  обслуживание_NOUN атмосфера_NOUN      0\n",
              "397      место_NOUN обслуживание_NOUN      0"
            ]
          },
          "metadata": {
            "tags": []
          },
          "execution_count": 23
        }
      ]
    },
    {
      "cell_type": "markdown",
      "metadata": {
        "id": "iv2LpJZ_CkdH",
        "colab_type": "text"
      },
      "source": [
        "#### food"
      ]
    },
    {
      "cell_type": "code",
      "metadata": {
        "id": "iYzjcmvWDEDw",
        "colab_type": "code",
        "colab": {
          "base_uri": "https://localhost:8080/",
          "height": 204
        },
        "outputId": "b46e1b5c-b35f-4c5d-b43b-befad3589b8c"
      },
      "source": [
        "food_n_gram_scores = crop_and_score(food_n_grams)\n",
        "food_n_gram_scores_df = pd.DataFrame(food_n_gram_scores, columns =['lemma_POS', 'score']) \n",
        "food_n_gram_scores_df.tail()"
      ],
      "execution_count": 24,
      "outputs": [
        {
          "output_type": "execute_result",
          "data": {
            "text/html": [
              "<div>\n",
              "<style scoped>\n",
              "    .dataframe tbody tr th:only-of-type {\n",
              "        vertical-align: middle;\n",
              "    }\n",
              "\n",
              "    .dataframe tbody tr th {\n",
              "        vertical-align: top;\n",
              "    }\n",
              "\n",
              "    .dataframe thead th {\n",
              "        text-align: right;\n",
              "    }\n",
              "</style>\n",
              "<table border=\"1\" class=\"dataframe\">\n",
              "  <thead>\n",
              "    <tr style=\"text-align: right;\">\n",
              "      <th></th>\n",
              "      <th>lemma_POS</th>\n",
              "      <th>score</th>\n",
              "    </tr>\n",
              "  </thead>\n",
              "  <tbody>\n",
              "    <tr>\n",
              "      <th>393</th>\n",
              "      <td>плохо_ADV не_PART</td>\n",
              "      <td>0</td>\n",
              "    </tr>\n",
              "    <tr>\n",
              "      <th>394</th>\n",
              "      <td>плохо_ADJ не_PART и_CCONJ</td>\n",
              "      <td>0</td>\n",
              "    </tr>\n",
              "    <tr>\n",
              "      <th>395</th>\n",
              "      <td>плохо_ADJ все_PRON</td>\n",
              "      <td>0</td>\n",
              "    </tr>\n",
              "    <tr>\n",
              "      <th>396</th>\n",
              "      <td>плохой_ADJ не_PART интерьер_NOUN</td>\n",
              "      <td>0</td>\n",
              "    </tr>\n",
              "    <tr>\n",
              "      <th>397</th>\n",
              "      <td>плохо_ADJ совсем_ADV</td>\n",
              "      <td>0</td>\n",
              "    </tr>\n",
              "  </tbody>\n",
              "</table>\n",
              "</div>"
            ],
            "text/plain": [
              "                            lemma_POS  score\n",
              "393                 плохо_ADV не_PART      0\n",
              "394         плохо_ADJ не_PART и_CCONJ      0\n",
              "395                плохо_ADJ все_PRON      0\n",
              "396  плохой_ADJ не_PART интерьер_NOUN      0\n",
              "397              плохо_ADJ совсем_ADV      0"
            ]
          },
          "metadata": {
            "tags": []
          },
          "execution_count": 24
        }
      ]
    },
    {
      "cell_type": "markdown",
      "metadata": {
        "id": "1EE4dvPHAV-r",
        "colab_type": "text"
      },
      "source": [
        "### CNN + vector"
      ]
    },
    {
      "cell_type": "code",
      "metadata": {
        "id": "xJHgwJZuEAlU",
        "colab_type": "code",
        "colab": {
          "base_uri": "https://localhost:8080/",
          "height": 204
        },
        "outputId": "6d915311-d570-4a84-ece0-ee081ea1f39b"
      },
      "source": [
        "service_combined_scores = crop_and_score(service_combined)\n",
        "service_combined_scores_df = pd.DataFrame(service_combined_scores, columns =['lemma_POS', 'score']) \n",
        "service_combined_scores_df.tail()"
      ],
      "execution_count": 25,
      "outputs": [
        {
          "output_type": "execute_result",
          "data": {
            "text/html": [
              "<div>\n",
              "<style scoped>\n",
              "    .dataframe tbody tr th:only-of-type {\n",
              "        vertical-align: middle;\n",
              "    }\n",
              "\n",
              "    .dataframe tbody tr th {\n",
              "        vertical-align: top;\n",
              "    }\n",
              "\n",
              "    .dataframe thead th {\n",
              "        text-align: right;\n",
              "    }\n",
              "</style>\n",
              "<table border=\"1\" class=\"dataframe\">\n",
              "  <thead>\n",
              "    <tr style=\"text-align: right;\">\n",
              "      <th></th>\n",
              "      <th>lemma_POS</th>\n",
              "      <th>score</th>\n",
              "    </tr>\n",
              "  </thead>\n",
              "  <tbody>\n",
              "    <tr>\n",
              "      <th>593</th>\n",
              "      <td>ласковый_ADJ</td>\n",
              "      <td>0</td>\n",
              "    </tr>\n",
              "    <tr>\n",
              "      <th>594</th>\n",
              "      <td>любезный_ADJ</td>\n",
              "      <td>0</td>\n",
              "    </tr>\n",
              "    <tr>\n",
              "      <th>595</th>\n",
              "      <td>дружелюбный_ADJ</td>\n",
              "      <td>0</td>\n",
              "    </tr>\n",
              "    <tr>\n",
              "      <th>596</th>\n",
              "      <td>радушный_ADJ</td>\n",
              "      <td>0</td>\n",
              "    </tr>\n",
              "    <tr>\n",
              "      <th>597</th>\n",
              "      <td>приветливый_ADJ</td>\n",
              "      <td>0</td>\n",
              "    </tr>\n",
              "  </tbody>\n",
              "</table>\n",
              "</div>"
            ],
            "text/plain": [
              "           lemma_POS  score\n",
              "593     ласковый_ADJ      0\n",
              "594     любезный_ADJ      0\n",
              "595  дружелюбный_ADJ      0\n",
              "596     радушный_ADJ      0\n",
              "597  приветливый_ADJ      0"
            ]
          },
          "metadata": {
            "tags": []
          },
          "execution_count": 25
        }
      ]
    },
    {
      "cell_type": "code",
      "metadata": {
        "id": "QeICNxJ0D72s",
        "colab_type": "code",
        "colab": {
          "base_uri": "https://localhost:8080/",
          "height": 204
        },
        "outputId": "1c64adf8-e426-4c1d-a435-2621a2764257"
      },
      "source": [
        "food_combined_scores = crop_and_score(food_combined)\n",
        "food_combined_scores_df = pd.DataFrame(food_combined_scores, columns =['lemma_POS', 'score']) \n",
        "food_combined_scores_df.tail()"
      ],
      "execution_count": 26,
      "outputs": [
        {
          "output_type": "execute_result",
          "data": {
            "text/html": [
              "<div>\n",
              "<style scoped>\n",
              "    .dataframe tbody tr th:only-of-type {\n",
              "        vertical-align: middle;\n",
              "    }\n",
              "\n",
              "    .dataframe tbody tr th {\n",
              "        vertical-align: top;\n",
              "    }\n",
              "\n",
              "    .dataframe thead th {\n",
              "        text-align: right;\n",
              "    }\n",
              "</style>\n",
              "<table border=\"1\" class=\"dataframe\">\n",
              "  <thead>\n",
              "    <tr style=\"text-align: right;\">\n",
              "      <th></th>\n",
              "      <th>lemma_POS</th>\n",
              "      <th>score</th>\n",
              "    </tr>\n",
              "  </thead>\n",
              "  <tbody>\n",
              "    <tr>\n",
              "      <th>619</th>\n",
              "      <td>необыкновенный_ADJ</td>\n",
              "      <td>0</td>\n",
              "    </tr>\n",
              "    <tr>\n",
              "      <th>620</th>\n",
              "      <td>великолепный_ADJ</td>\n",
              "      <td>0</td>\n",
              "    </tr>\n",
              "    <tr>\n",
              "      <th>621</th>\n",
              "      <td>живописный_ADJ</td>\n",
              "      <td>0</td>\n",
              "    </tr>\n",
              "    <tr>\n",
              "      <th>622</th>\n",
              "      <td>обширный_ADJ</td>\n",
              "      <td>0</td>\n",
              "    </tr>\n",
              "    <tr>\n",
              "      <th>623</th>\n",
              "      <td>величественный_ADJ</td>\n",
              "      <td>0</td>\n",
              "    </tr>\n",
              "  </tbody>\n",
              "</table>\n",
              "</div>"
            ],
            "text/plain": [
              "              lemma_POS  score\n",
              "619  необыкновенный_ADJ      0\n",
              "620    великолепный_ADJ      0\n",
              "621      живописный_ADJ      0\n",
              "622        обширный_ADJ      0\n",
              "623  величественный_ADJ      0"
            ]
          },
          "metadata": {
            "tags": []
          },
          "execution_count": 26
        }
      ]
    },
    {
      "cell_type": "markdown",
      "metadata": {
        "id": "p-iu0UfpFlPh",
        "colab_type": "text"
      },
      "source": [
        "## Compare graph & combined\n",
        "\n",
        "**CONTRADICTIONS WILL BE RESOLVED BY HAND**"
      ]
    },
    {
      "cell_type": "code",
      "metadata": {
        "id": "Qn8a29ZfLBjf",
        "colab_type": "code",
        "colab": {}
      },
      "source": [
        "def extend_vocabulary(scores, vocabulary):\n",
        "  scores_dict = dict()\n",
        "  for word, score in scores:\n",
        "    scores_dict[word] = score\n",
        "  for word in vocabulary:\n",
        "    if word not in scores_dict:\n",
        "      scores_dict[word] = np.nan\n",
        "  return [el[1] for el in sorted(list(scores_dict.items()), key = lambda el: el[0])]"
      ],
      "execution_count": 0,
      "outputs": []
    },
    {
      "cell_type": "markdown",
      "metadata": {
        "id": "mVHW4-e4SI1q",
        "colab_type": "text"
      },
      "source": [
        "### Service"
      ]
    },
    {
      "cell_type": "code",
      "metadata": {
        "colab_type": "code",
        "id": "7hPxGSteSm-3",
        "colab": {}
      },
      "source": [
        "vocab_service = sorted(list(set([el[0] for el in service_combined_scores + service_graph_scores])))"
      ],
      "execution_count": 0,
      "outputs": []
    },
    {
      "cell_type": "code",
      "metadata": {
        "colab_type": "code",
        "outputId": "da42e200-8330-4f92-bb1a-7a7235b91c3f",
        "id": "wbtiND5qSm-8",
        "colab": {
          "base_uri": "https://localhost:8080/",
          "height": 204
        }
      },
      "source": [
        "service_df = pd.DataFrame(columns=['graph', 'combined'], index=vocab_service)\n",
        "service_df['graph'] = extend_vocabulary(service_graph_scores, vocab_service)\n",
        "service_df['combined'] = extend_vocabulary(service_combined_scores, vocab_service)\n",
        "service_df.tail()"
      ],
      "execution_count": 94,
      "outputs": [
        {
          "output_type": "execute_result",
          "data": {
            "text/html": [
              "<div>\n",
              "<style scoped>\n",
              "    .dataframe tbody tr th:only-of-type {\n",
              "        vertical-align: middle;\n",
              "    }\n",
              "\n",
              "    .dataframe tbody tr th {\n",
              "        vertical-align: top;\n",
              "    }\n",
              "\n",
              "    .dataframe thead th {\n",
              "        text-align: right;\n",
              "    }\n",
              "</style>\n",
              "<table border=\"1\" class=\"dataframe\">\n",
              "  <thead>\n",
              "    <tr style=\"text-align: right;\">\n",
              "      <th></th>\n",
              "      <th>graph</th>\n",
              "      <th>combined</th>\n",
              "    </tr>\n",
              "  </thead>\n",
              "  <tbody>\n",
              "    <tr>\n",
              "      <th>японский_ADJ</th>\n",
              "      <td>0.0</td>\n",
              "      <td>NaN</td>\n",
              "    </tr>\n",
              "    <tr>\n",
              "      <th>японско-минималистический_ADJ</th>\n",
              "      <td>0.0</td>\n",
              "      <td>NaN</td>\n",
              "    </tr>\n",
              "    <tr>\n",
              "      <th>япошка_NOUN</th>\n",
              "      <td>NaN</td>\n",
              "      <td>1.0</td>\n",
              "    </tr>\n",
              "    <tr>\n",
              "      <th>яркий_ADJ</th>\n",
              "      <td>1.0</td>\n",
              "      <td>NaN</td>\n",
              "    </tr>\n",
              "    <tr>\n",
              "      <th>ясный_ADJ</th>\n",
              "      <td>0.0</td>\n",
              "      <td>NaN</td>\n",
              "    </tr>\n",
              "  </tbody>\n",
              "</table>\n",
              "</div>"
            ],
            "text/plain": [
              "                               graph  combined\n",
              "японский_ADJ                     0.0       NaN\n",
              "японско-минималистический_ADJ    0.0       NaN\n",
              "япошка_NOUN                      NaN       1.0\n",
              "яркий_ADJ                        1.0       NaN\n",
              "ясный_ADJ                        0.0       NaN"
            ]
          },
          "metadata": {
            "tags": []
          },
          "execution_count": 94
        }
      ]
    },
    {
      "cell_type": "code",
      "metadata": {
        "colab_type": "code",
        "outputId": "6019134e-dcc7-4fcd-b9ea-1af8b8ae62c3",
        "id": "8UN4TTgBSm-_",
        "colab": {
          "base_uri": "https://localhost:8080/",
          "height": 979
        }
      },
      "source": [
        "service_df['ok'] = service_df['graph'] == service_df['combined']\n",
        "service_df[service_df['ok'] == False].dropna()"
      ],
      "execution_count": 96,
      "outputs": [
        {
          "output_type": "execute_result",
          "data": {
            "text/html": [
              "<div>\n",
              "<style scoped>\n",
              "    .dataframe tbody tr th:only-of-type {\n",
              "        vertical-align: middle;\n",
              "    }\n",
              "\n",
              "    .dataframe tbody tr th {\n",
              "        vertical-align: top;\n",
              "    }\n",
              "\n",
              "    .dataframe thead th {\n",
              "        text-align: right;\n",
              "    }\n",
              "</style>\n",
              "<table border=\"1\" class=\"dataframe\">\n",
              "  <thead>\n",
              "    <tr style=\"text-align: right;\">\n",
              "      <th></th>\n",
              "      <th>graph</th>\n",
              "      <th>combined</th>\n",
              "      <th>ok</th>\n",
              "    </tr>\n",
              "  </thead>\n",
              "  <tbody>\n",
              "    <tr>\n",
              "      <th>ароматный_ADJ</th>\n",
              "      <td>1.0</td>\n",
              "      <td>0.0</td>\n",
              "      <td>False</td>\n",
              "    </tr>\n",
              "    <tr>\n",
              "      <th>вежливый_ADJ</th>\n",
              "      <td>1.0</td>\n",
              "      <td>0.0</td>\n",
              "      <td>False</td>\n",
              "    </tr>\n",
              "    <tr>\n",
              "      <th>веселый_ADJ</th>\n",
              "      <td>1.0</td>\n",
              "      <td>0.0</td>\n",
              "      <td>False</td>\n",
              "    </tr>\n",
              "    <tr>\n",
              "      <th>внимательный_ADJ</th>\n",
              "      <td>1.0</td>\n",
              "      <td>0.0</td>\n",
              "      <td>False</td>\n",
              "    </tr>\n",
              "    <tr>\n",
              "      <th>доброжелательный_ADJ</th>\n",
              "      <td>1.0</td>\n",
              "      <td>0.0</td>\n",
              "      <td>False</td>\n",
              "    </tr>\n",
              "    <tr>\n",
              "      <th>дорогой_ADJ</th>\n",
              "      <td>1.0</td>\n",
              "      <td>0.0</td>\n",
              "      <td>False</td>\n",
              "    </tr>\n",
              "    <tr>\n",
              "      <th>интересный_ADJ</th>\n",
              "      <td>1.0</td>\n",
              "      <td>0.0</td>\n",
              "      <td>False</td>\n",
              "    </tr>\n",
              "    <tr>\n",
              "      <th>комфортный_ADJ</th>\n",
              "      <td>1.0</td>\n",
              "      <td>0.0</td>\n",
              "      <td>False</td>\n",
              "    </tr>\n",
              "    <tr>\n",
              "      <th>красивый_ADJ</th>\n",
              "      <td>1.0</td>\n",
              "      <td>0.0</td>\n",
              "      <td>False</td>\n",
              "    </tr>\n",
              "    <tr>\n",
              "      <th>легкий_ADJ</th>\n",
              "      <td>1.0</td>\n",
              "      <td>0.0</td>\n",
              "      <td>False</td>\n",
              "    </tr>\n",
              "    <tr>\n",
              "      <th>любезный_ADJ</th>\n",
              "      <td>1.0</td>\n",
              "      <td>0.0</td>\n",
              "      <td>False</td>\n",
              "    </tr>\n",
              "    <tr>\n",
              "      <th>милый_ADJ</th>\n",
              "      <td>1.0</td>\n",
              "      <td>0.0</td>\n",
              "      <td>False</td>\n",
              "    </tr>\n",
              "    <tr>\n",
              "      <th>мягкий_ADJ</th>\n",
              "      <td>1.0</td>\n",
              "      <td>0.0</td>\n",
              "      <td>False</td>\n",
              "    </tr>\n",
              "    <tr>\n",
              "      <th>недорогой_ADJ</th>\n",
              "      <td>1.0</td>\n",
              "      <td>0.0</td>\n",
              "      <td>False</td>\n",
              "    </tr>\n",
              "    <tr>\n",
              "      <th>ненавязчивый_ADJ</th>\n",
              "      <td>1.0</td>\n",
              "      <td>0.0</td>\n",
              "      <td>False</td>\n",
              "    </tr>\n",
              "    <tr>\n",
              "      <th>обходительный_ADJ</th>\n",
              "      <td>1.0</td>\n",
              "      <td>0.0</td>\n",
              "      <td>False</td>\n",
              "    </tr>\n",
              "    <tr>\n",
              "      <th>оригинальный_ADJ</th>\n",
              "      <td>1.0</td>\n",
              "      <td>0.0</td>\n",
              "      <td>False</td>\n",
              "    </tr>\n",
              "    <tr>\n",
              "      <th>отзывчивый_ADJ</th>\n",
              "      <td>1.0</td>\n",
              "      <td>0.0</td>\n",
              "      <td>False</td>\n",
              "    </tr>\n",
              "    <tr>\n",
              "      <th>предупредительный_ADJ</th>\n",
              "      <td>1.0</td>\n",
              "      <td>0.0</td>\n",
              "      <td>False</td>\n",
              "    </tr>\n",
              "    <tr>\n",
              "      <th>приветливый_ADJ</th>\n",
              "      <td>1.0</td>\n",
              "      <td>0.0</td>\n",
              "      <td>False</td>\n",
              "    </tr>\n",
              "    <tr>\n",
              "      <th>светлый_ADJ</th>\n",
              "      <td>1.0</td>\n",
              "      <td>0.0</td>\n",
              "      <td>False</td>\n",
              "    </tr>\n",
              "    <tr>\n",
              "      <th>симпатичный_ADJ</th>\n",
              "      <td>1.0</td>\n",
              "      <td>0.0</td>\n",
              "      <td>False</td>\n",
              "    </tr>\n",
              "    <tr>\n",
              "      <th>спокойный_ADJ</th>\n",
              "      <td>1.0</td>\n",
              "      <td>0.0</td>\n",
              "      <td>False</td>\n",
              "    </tr>\n",
              "    <tr>\n",
              "      <th>сытный_ADJ</th>\n",
              "      <td>1.0</td>\n",
              "      <td>0.0</td>\n",
              "      <td>False</td>\n",
              "    </tr>\n",
              "    <tr>\n",
              "      <th>теплый_ADJ</th>\n",
              "      <td>1.0</td>\n",
              "      <td>0.0</td>\n",
              "      <td>False</td>\n",
              "    </tr>\n",
              "    <tr>\n",
              "      <th>тихий_ADJ</th>\n",
              "      <td>1.0</td>\n",
              "      <td>0.0</td>\n",
              "      <td>False</td>\n",
              "    </tr>\n",
              "    <tr>\n",
              "      <th>удивительный_ADJ</th>\n",
              "      <td>1.0</td>\n",
              "      <td>0.0</td>\n",
              "      <td>False</td>\n",
              "    </tr>\n",
              "    <tr>\n",
              "      <th>удобный_ADJ</th>\n",
              "      <td>1.0</td>\n",
              "      <td>0.0</td>\n",
              "      <td>False</td>\n",
              "    </tr>\n",
              "    <tr>\n",
              "      <th>уютно_ADJ</th>\n",
              "      <td>1.0</td>\n",
              "      <td>0.0</td>\n",
              "      <td>False</td>\n",
              "    </tr>\n",
              "    <tr>\n",
              "      <th>щедрый_ADJ</th>\n",
              "      <td>1.0</td>\n",
              "      <td>0.0</td>\n",
              "      <td>False</td>\n",
              "    </tr>\n",
              "  </tbody>\n",
              "</table>\n",
              "</div>"
            ],
            "text/plain": [
              "                       graph  combined     ok\n",
              "ароматный_ADJ            1.0       0.0  False\n",
              "вежливый_ADJ             1.0       0.0  False\n",
              "веселый_ADJ              1.0       0.0  False\n",
              "внимательный_ADJ         1.0       0.0  False\n",
              "доброжелательный_ADJ     1.0       0.0  False\n",
              "дорогой_ADJ              1.0       0.0  False\n",
              "интересный_ADJ           1.0       0.0  False\n",
              "комфортный_ADJ           1.0       0.0  False\n",
              "красивый_ADJ             1.0       0.0  False\n",
              "легкий_ADJ               1.0       0.0  False\n",
              "любезный_ADJ             1.0       0.0  False\n",
              "милый_ADJ                1.0       0.0  False\n",
              "мягкий_ADJ               1.0       0.0  False\n",
              "недорогой_ADJ            1.0       0.0  False\n",
              "ненавязчивый_ADJ         1.0       0.0  False\n",
              "обходительный_ADJ        1.0       0.0  False\n",
              "оригинальный_ADJ         1.0       0.0  False\n",
              "отзывчивый_ADJ           1.0       0.0  False\n",
              "предупредительный_ADJ    1.0       0.0  False\n",
              "приветливый_ADJ          1.0       0.0  False\n",
              "светлый_ADJ              1.0       0.0  False\n",
              "симпатичный_ADJ          1.0       0.0  False\n",
              "спокойный_ADJ            1.0       0.0  False\n",
              "сытный_ADJ               1.0       0.0  False\n",
              "теплый_ADJ               1.0       0.0  False\n",
              "тихий_ADJ                1.0       0.0  False\n",
              "удивительный_ADJ         1.0       0.0  False\n",
              "удобный_ADJ              1.0       0.0  False\n",
              "уютно_ADJ                1.0       0.0  False\n",
              "щедрый_ADJ               1.0       0.0  False"
            ]
          },
          "metadata": {
            "tags": []
          },
          "execution_count": 96
        }
      ]
    },
    {
      "cell_type": "code",
      "metadata": {
        "id": "fnRu4osfVHbL",
        "colab_type": "code",
        "colab": {
          "base_uri": "https://localhost:8080/",
          "height": 527
        },
        "outputId": "feacb7f7-87f7-43d2-ca93-8db00dc0904e"
      },
      "source": [
        "resolve_service = list(service_df[service_df['ok'] == False].dropna().index)\n",
        "resolve_service"
      ],
      "execution_count": 118,
      "outputs": [
        {
          "output_type": "execute_result",
          "data": {
            "text/plain": [
              "['ароматный_ADJ',\n",
              " 'вежливый_ADJ',\n",
              " 'веселый_ADJ',\n",
              " 'внимательный_ADJ',\n",
              " 'доброжелательный_ADJ',\n",
              " 'дорогой_ADJ',\n",
              " 'интересный_ADJ',\n",
              " 'комфортный_ADJ',\n",
              " 'красивый_ADJ',\n",
              " 'легкий_ADJ',\n",
              " 'любезный_ADJ',\n",
              " 'милый_ADJ',\n",
              " 'мягкий_ADJ',\n",
              " 'недорогой_ADJ',\n",
              " 'ненавязчивый_ADJ',\n",
              " 'обходительный_ADJ',\n",
              " 'оригинальный_ADJ',\n",
              " 'отзывчивый_ADJ',\n",
              " 'предупредительный_ADJ',\n",
              " 'приветливый_ADJ',\n",
              " 'светлый_ADJ',\n",
              " 'симпатичный_ADJ',\n",
              " 'спокойный_ADJ',\n",
              " 'сытный_ADJ',\n",
              " 'теплый_ADJ',\n",
              " 'тихий_ADJ',\n",
              " 'удивительный_ADJ',\n",
              " 'удобный_ADJ',\n",
              " 'уютно_ADJ',\n",
              " 'щедрый_ADJ']"
            ]
          },
          "metadata": {
            "tags": []
          },
          "execution_count": 118
        }
      ]
    },
    {
      "cell_type": "code",
      "metadata": {
        "id": "xM2cQ-fTVVcn",
        "colab_type": "code",
        "colab": {
          "base_uri": "https://localhost:8080/",
          "height": 204
        },
        "outputId": "60323e73-c7a2-4c90-8fdd-83d80bd69296"
      },
      "source": [
        "ok_service_df = service_df.drop(index=resolve_service).fillna(0)\n",
        "ok_service_df = pd.DataFrame(ok_service_df['graph'] + ok_service_df['combined'], columns=['correct'])\n",
        "ok_service_df.tail()"
      ],
      "execution_count": 142,
      "outputs": [
        {
          "output_type": "execute_result",
          "data": {
            "text/html": [
              "<div>\n",
              "<style scoped>\n",
              "    .dataframe tbody tr th:only-of-type {\n",
              "        vertical-align: middle;\n",
              "    }\n",
              "\n",
              "    .dataframe tbody tr th {\n",
              "        vertical-align: top;\n",
              "    }\n",
              "\n",
              "    .dataframe thead th {\n",
              "        text-align: right;\n",
              "    }\n",
              "</style>\n",
              "<table border=\"1\" class=\"dataframe\">\n",
              "  <thead>\n",
              "    <tr style=\"text-align: right;\">\n",
              "      <th></th>\n",
              "      <th>correct</th>\n",
              "    </tr>\n",
              "  </thead>\n",
              "  <tbody>\n",
              "    <tr>\n",
              "      <th>японский_ADJ</th>\n",
              "      <td>0.0</td>\n",
              "    </tr>\n",
              "    <tr>\n",
              "      <th>японско-минималистический_ADJ</th>\n",
              "      <td>0.0</td>\n",
              "    </tr>\n",
              "    <tr>\n",
              "      <th>япошка_NOUN</th>\n",
              "      <td>1.0</td>\n",
              "    </tr>\n",
              "    <tr>\n",
              "      <th>яркий_ADJ</th>\n",
              "      <td>1.0</td>\n",
              "    </tr>\n",
              "    <tr>\n",
              "      <th>ясный_ADJ</th>\n",
              "      <td>0.0</td>\n",
              "    </tr>\n",
              "  </tbody>\n",
              "</table>\n",
              "</div>"
            ],
            "text/plain": [
              "                               correct\n",
              "японский_ADJ                       0.0\n",
              "японско-минималистический_ADJ      0.0\n",
              "япошка_NOUN                        1.0\n",
              "яркий_ADJ                          1.0\n",
              "ясный_ADJ                          0.0"
            ]
          },
          "metadata": {
            "tags": []
          },
          "execution_count": 142
        }
      ]
    },
    {
      "cell_type": "code",
      "metadata": {
        "id": "_UIW0yyKW9mK",
        "colab_type": "code",
        "colab": {
          "base_uri": "https://localhost:8080/",
          "height": 204
        },
        "outputId": "95239021-bcb6-46b3-885e-9b8afcf5e6d7"
      },
      "source": [
        "resolved_service_df = pd.DataFrame([1.0]*len(resolve_service), columns=['correct'], index=resolve_service)\n",
        "resolved_service_df.tail()"
      ],
      "execution_count": 138,
      "outputs": [
        {
          "output_type": "execute_result",
          "data": {
            "text/html": [
              "<div>\n",
              "<style scoped>\n",
              "    .dataframe tbody tr th:only-of-type {\n",
              "        vertical-align: middle;\n",
              "    }\n",
              "\n",
              "    .dataframe tbody tr th {\n",
              "        vertical-align: top;\n",
              "    }\n",
              "\n",
              "    .dataframe thead th {\n",
              "        text-align: right;\n",
              "    }\n",
              "</style>\n",
              "<table border=\"1\" class=\"dataframe\">\n",
              "  <thead>\n",
              "    <tr style=\"text-align: right;\">\n",
              "      <th></th>\n",
              "      <th>correct</th>\n",
              "    </tr>\n",
              "  </thead>\n",
              "  <tbody>\n",
              "    <tr>\n",
              "      <th>тихий_ADJ</th>\n",
              "      <td>1.0</td>\n",
              "    </tr>\n",
              "    <tr>\n",
              "      <th>удивительный_ADJ</th>\n",
              "      <td>1.0</td>\n",
              "    </tr>\n",
              "    <tr>\n",
              "      <th>удобный_ADJ</th>\n",
              "      <td>1.0</td>\n",
              "    </tr>\n",
              "    <tr>\n",
              "      <th>уютно_ADJ</th>\n",
              "      <td>1.0</td>\n",
              "    </tr>\n",
              "    <tr>\n",
              "      <th>щедрый_ADJ</th>\n",
              "      <td>1.0</td>\n",
              "    </tr>\n",
              "  </tbody>\n",
              "</table>\n",
              "</div>"
            ],
            "text/plain": [
              "                  correct\n",
              "тихий_ADJ             1.0\n",
              "удивительный_ADJ      1.0\n",
              "удобный_ADJ           1.0\n",
              "уютно_ADJ             1.0\n",
              "щедрый_ADJ            1.0"
            ]
          },
          "metadata": {
            "tags": []
          },
          "execution_count": 138
        }
      ]
    },
    {
      "cell_type": "code",
      "metadata": {
        "id": "bb4s2g-UZHc_",
        "colab_type": "code",
        "colab": {
          "base_uri": "https://localhost:8080/",
          "height": 419
        },
        "outputId": "121d2e74-1520-4475-f63b-5a460f8a1201"
      },
      "source": [
        "ok_service_df.append(resolved_service_df)"
      ],
      "execution_count": 149,
      "outputs": [
        {
          "output_type": "execute_result",
          "data": {
            "text/html": [
              "<div>\n",
              "<style scoped>\n",
              "    .dataframe tbody tr th:only-of-type {\n",
              "        vertical-align: middle;\n",
              "    }\n",
              "\n",
              "    .dataframe tbody tr th {\n",
              "        vertical-align: top;\n",
              "    }\n",
              "\n",
              "    .dataframe thead th {\n",
              "        text-align: right;\n",
              "    }\n",
              "</style>\n",
              "<table border=\"1\" class=\"dataframe\">\n",
              "  <thead>\n",
              "    <tr style=\"text-align: right;\">\n",
              "      <th></th>\n",
              "      <th>correct</th>\n",
              "    </tr>\n",
              "  </thead>\n",
              "  <tbody>\n",
              "    <tr>\n",
              "      <th>авторский_ADJ</th>\n",
              "      <td>0.0</td>\n",
              "    </tr>\n",
              "    <tr>\n",
              "      <th>адекватный_ADJ</th>\n",
              "      <td>0.0</td>\n",
              "    </tr>\n",
              "    <tr>\n",
              "      <th>адоптировать_ADJ</th>\n",
              "      <td>0.0</td>\n",
              "    </tr>\n",
              "    <tr>\n",
              "      <th>азиатский_ADJ</th>\n",
              "      <td>0.0</td>\n",
              "    </tr>\n",
              "    <tr>\n",
              "      <th>аккуратненький_ADJ</th>\n",
              "      <td>0.0</td>\n",
              "    </tr>\n",
              "    <tr>\n",
              "      <th>...</th>\n",
              "      <td>...</td>\n",
              "    </tr>\n",
              "    <tr>\n",
              "      <th>тихий_ADJ</th>\n",
              "      <td>1.0</td>\n",
              "    </tr>\n",
              "    <tr>\n",
              "      <th>удивительный_ADJ</th>\n",
              "      <td>1.0</td>\n",
              "    </tr>\n",
              "    <tr>\n",
              "      <th>удобный_ADJ</th>\n",
              "      <td>1.0</td>\n",
              "    </tr>\n",
              "    <tr>\n",
              "      <th>уютно_ADJ</th>\n",
              "      <td>1.0</td>\n",
              "    </tr>\n",
              "    <tr>\n",
              "      <th>щедрый_ADJ</th>\n",
              "      <td>1.0</td>\n",
              "    </tr>\n",
              "  </tbody>\n",
              "</table>\n",
              "<p>1398 rows × 1 columns</p>\n",
              "</div>"
            ],
            "text/plain": [
              "                    correct\n",
              "авторский_ADJ           0.0\n",
              "адекватный_ADJ          0.0\n",
              "адоптировать_ADJ        0.0\n",
              "азиатский_ADJ           0.0\n",
              "аккуратненький_ADJ      0.0\n",
              "...                     ...\n",
              "тихий_ADJ               1.0\n",
              "удивительный_ADJ        1.0\n",
              "удобный_ADJ             1.0\n",
              "уютно_ADJ               1.0\n",
              "щедрый_ADJ              1.0\n",
              "\n",
              "[1398 rows x 1 columns]"
            ]
          },
          "metadata": {
            "tags": []
          },
          "execution_count": 149
        }
      ]
    },
    {
      "cell_type": "code",
      "metadata": {
        "id": "dXplmtPkZ0ya",
        "colab_type": "code",
        "colab": {}
      },
      "source": [
        "ok_service_scores = [tuple(r) for r in ok_service_df.append(resolved_service_df).reset_index().values]"
      ],
      "execution_count": 0,
      "outputs": []
    },
    {
      "cell_type": "markdown",
      "metadata": {
        "id": "_DxhOS9xSDgn",
        "colab_type": "text"
      },
      "source": [
        "### Food"
      ]
    },
    {
      "cell_type": "code",
      "metadata": {
        "id": "wJ4IxeQ0GSEO",
        "colab_type": "code",
        "colab": {}
      },
      "source": [
        "vocab_food = sorted(list(set([el[0] for el in food_combined_scores + food_graph_scores])))"
      ],
      "execution_count": 0,
      "outputs": []
    },
    {
      "cell_type": "code",
      "metadata": {
        "id": "GYXS8gIVOc-z",
        "colab_type": "code",
        "colab": {
          "base_uri": "https://localhost:8080/",
          "height": 204
        },
        "outputId": "f9390071-32c2-4b6a-88c3-1c12a2ee6cb2"
      },
      "source": [
        "food_df = pd.DataFrame(columns=['graph', 'combined'], index=vocab_food)\n",
        "food_df['graph'] = extend_vocabulary(food_graph_scores, vocab_food)\n",
        "food_df['combined'] = extend_vocabulary(food_combined_scores, vocab_food)\n",
        "food_df.tail()"
      ],
      "execution_count": 69,
      "outputs": [
        {
          "output_type": "execute_result",
          "data": {
            "text/html": [
              "<div>\n",
              "<style scoped>\n",
              "    .dataframe tbody tr th:only-of-type {\n",
              "        vertical-align: middle;\n",
              "    }\n",
              "\n",
              "    .dataframe tbody tr th {\n",
              "        vertical-align: top;\n",
              "    }\n",
              "\n",
              "    .dataframe thead th {\n",
              "        text-align: right;\n",
              "    }\n",
              "</style>\n",
              "<table border=\"1\" class=\"dataframe\">\n",
              "  <thead>\n",
              "    <tr style=\"text-align: right;\">\n",
              "      <th></th>\n",
              "      <th>graph</th>\n",
              "      <th>combined</th>\n",
              "    </tr>\n",
              "  </thead>\n",
              "  <tbody>\n",
              "    <tr>\n",
              "      <th>японский_ADJ</th>\n",
              "      <td>0.0</td>\n",
              "      <td>NaN</td>\n",
              "    </tr>\n",
              "    <tr>\n",
              "      <th>японско-минималистический_ADJ</th>\n",
              "      <td>0.0</td>\n",
              "      <td>NaN</td>\n",
              "    </tr>\n",
              "    <tr>\n",
              "      <th>яркий_ADJ</th>\n",
              "      <td>1.0</td>\n",
              "      <td>0.0</td>\n",
              "    </tr>\n",
              "    <tr>\n",
              "      <th>ярусный_ADJ</th>\n",
              "      <td>NaN</td>\n",
              "      <td>0.0</td>\n",
              "    </tr>\n",
              "    <tr>\n",
              "      <th>ясный_ADJ</th>\n",
              "      <td>0.0</td>\n",
              "      <td>NaN</td>\n",
              "    </tr>\n",
              "  </tbody>\n",
              "</table>\n",
              "</div>"
            ],
            "text/plain": [
              "                               graph  combined\n",
              "японский_ADJ                     0.0       NaN\n",
              "японско-минималистический_ADJ    0.0       NaN\n",
              "яркий_ADJ                        1.0       0.0\n",
              "ярусный_ADJ                      NaN       0.0\n",
              "ясный_ADJ                        0.0       NaN"
            ]
          },
          "metadata": {
            "tags": []
          },
          "execution_count": 69
        }
      ]
    },
    {
      "cell_type": "code",
      "metadata": {
        "id": "d5VLNnhqQOrF",
        "colab_type": "code",
        "colab": {
          "base_uri": "https://localhost:8080/",
          "height": 700
        },
        "outputId": "7f13b501-3ee0-4fd5-ddb5-a00ab141473a"
      },
      "source": [
        "food_df['ok'] = food_df['graph'] == food_df['combined']\n",
        "food_df[food_df['ok'] == False].dropna()"
      ],
      "execution_count": 97,
      "outputs": [
        {
          "output_type": "execute_result",
          "data": {
            "text/html": [
              "<div>\n",
              "<style scoped>\n",
              "    .dataframe tbody tr th:only-of-type {\n",
              "        vertical-align: middle;\n",
              "    }\n",
              "\n",
              "    .dataframe tbody tr th {\n",
              "        vertical-align: top;\n",
              "    }\n",
              "\n",
              "    .dataframe thead th {\n",
              "        text-align: right;\n",
              "    }\n",
              "</style>\n",
              "<table border=\"1\" class=\"dataframe\">\n",
              "  <thead>\n",
              "    <tr style=\"text-align: right;\">\n",
              "      <th></th>\n",
              "      <th>graph</th>\n",
              "      <th>combined</th>\n",
              "      <th>ok</th>\n",
              "    </tr>\n",
              "  </thead>\n",
              "  <tbody>\n",
              "    <tr>\n",
              "      <th>вкусный_ADJ</th>\n",
              "      <td>0.0</td>\n",
              "      <td>1.0</td>\n",
              "      <td>False</td>\n",
              "    </tr>\n",
              "    <tr>\n",
              "      <th>глупо_ADJ</th>\n",
              "      <td>0.0</td>\n",
              "      <td>1.0</td>\n",
              "      <td>False</td>\n",
              "    </tr>\n",
              "    <tr>\n",
              "      <th>голодный_ADJ</th>\n",
              "      <td>0.0</td>\n",
              "      <td>1.0</td>\n",
              "      <td>False</td>\n",
              "    </tr>\n",
              "    <tr>\n",
              "      <th>дурной_ADJ</th>\n",
              "      <td>0.0</td>\n",
              "      <td>1.0</td>\n",
              "      <td>False</td>\n",
              "    </tr>\n",
              "    <tr>\n",
              "      <th>замечательный_ADJ</th>\n",
              "      <td>1.0</td>\n",
              "      <td>0.0</td>\n",
              "      <td>False</td>\n",
              "    </tr>\n",
              "    <tr>\n",
              "      <th>злой_ADJ</th>\n",
              "      <td>0.0</td>\n",
              "      <td>1.0</td>\n",
              "      <td>False</td>\n",
              "    </tr>\n",
              "    <tr>\n",
              "      <th>невкусно_ADJ</th>\n",
              "      <td>0.0</td>\n",
              "      <td>1.0</td>\n",
              "      <td>False</td>\n",
              "    </tr>\n",
              "    <tr>\n",
              "      <th>невкусный_ADJ</th>\n",
              "      <td>0.0</td>\n",
              "      <td>1.0</td>\n",
              "      <td>False</td>\n",
              "    </tr>\n",
              "    <tr>\n",
              "      <th>незабываемый_ADJ</th>\n",
              "      <td>1.0</td>\n",
              "      <td>0.0</td>\n",
              "      <td>False</td>\n",
              "    </tr>\n",
              "    <tr>\n",
              "      <th>необычный_ADJ</th>\n",
              "      <td>1.0</td>\n",
              "      <td>0.0</td>\n",
              "      <td>False</td>\n",
              "    </tr>\n",
              "    <tr>\n",
              "      <th>несъедобный_ADJ</th>\n",
              "      <td>0.0</td>\n",
              "      <td>1.0</td>\n",
              "      <td>False</td>\n",
              "    </tr>\n",
              "    <tr>\n",
              "      <th>нормально_ADJ</th>\n",
              "      <td>0.0</td>\n",
              "      <td>1.0</td>\n",
              "      <td>False</td>\n",
              "    </tr>\n",
              "    <tr>\n",
              "      <th>обидный_ADJ</th>\n",
              "      <td>0.0</td>\n",
              "      <td>1.0</td>\n",
              "      <td>False</td>\n",
              "    </tr>\n",
              "    <tr>\n",
              "      <th>оригинальный_ADJ</th>\n",
              "      <td>1.0</td>\n",
              "      <td>0.0</td>\n",
              "      <td>False</td>\n",
              "    </tr>\n",
              "    <tr>\n",
              "      <th>отвратительно_ADJ</th>\n",
              "      <td>0.0</td>\n",
              "      <td>1.0</td>\n",
              "      <td>False</td>\n",
              "    </tr>\n",
              "    <tr>\n",
              "      <th>плохо_ADJ</th>\n",
              "      <td>0.0</td>\n",
              "      <td>1.0</td>\n",
              "      <td>False</td>\n",
              "    </tr>\n",
              "    <tr>\n",
              "      <th>плохой_ADJ</th>\n",
              "      <td>0.0</td>\n",
              "      <td>1.0</td>\n",
              "      <td>False</td>\n",
              "    </tr>\n",
              "    <tr>\n",
              "      <th>удивительный_ADJ</th>\n",
              "      <td>1.0</td>\n",
              "      <td>0.0</td>\n",
              "      <td>False</td>\n",
              "    </tr>\n",
              "    <tr>\n",
              "      <th>хороший_ADJ</th>\n",
              "      <td>0.0</td>\n",
              "      <td>1.0</td>\n",
              "      <td>False</td>\n",
              "    </tr>\n",
              "    <tr>\n",
              "      <th>хорошо_ADJ</th>\n",
              "      <td>0.0</td>\n",
              "      <td>1.0</td>\n",
              "      <td>False</td>\n",
              "    </tr>\n",
              "    <tr>\n",
              "      <th>яркий_ADJ</th>\n",
              "      <td>1.0</td>\n",
              "      <td>0.0</td>\n",
              "      <td>False</td>\n",
              "    </tr>\n",
              "  </tbody>\n",
              "</table>\n",
              "</div>"
            ],
            "text/plain": [
              "                   graph  combined     ok\n",
              "вкусный_ADJ          0.0       1.0  False\n",
              "глупо_ADJ            0.0       1.0  False\n",
              "голодный_ADJ         0.0       1.0  False\n",
              "дурной_ADJ           0.0       1.0  False\n",
              "замечательный_ADJ    1.0       0.0  False\n",
              "злой_ADJ             0.0       1.0  False\n",
              "невкусно_ADJ         0.0       1.0  False\n",
              "невкусный_ADJ        0.0       1.0  False\n",
              "незабываемый_ADJ     1.0       0.0  False\n",
              "необычный_ADJ        1.0       0.0  False\n",
              "несъедобный_ADJ      0.0       1.0  False\n",
              "нормально_ADJ        0.0       1.0  False\n",
              "обидный_ADJ          0.0       1.0  False\n",
              "оригинальный_ADJ     1.0       0.0  False\n",
              "отвратительно_ADJ    0.0       1.0  False\n",
              "плохо_ADJ            0.0       1.0  False\n",
              "плохой_ADJ           0.0       1.0  False\n",
              "удивительный_ADJ     1.0       0.0  False\n",
              "хороший_ADJ          0.0       1.0  False\n",
              "хорошо_ADJ           0.0       1.0  False\n",
              "яркий_ADJ            1.0       0.0  False"
            ]
          },
          "metadata": {
            "tags": []
          },
          "execution_count": 97
        }
      ]
    },
    {
      "cell_type": "code",
      "metadata": {
        "id": "K8JcHAzEVPfX",
        "colab_type": "code",
        "colab": {
          "base_uri": "https://localhost:8080/",
          "height": 374
        },
        "outputId": "d8aa7c68-c2e0-4892-a5fb-1a43037c78ba"
      },
      "source": [
        "resolve_food = list(food_df[food_df['ok'] == False].dropna().index)\n",
        "resolve_food"
      ],
      "execution_count": 155,
      "outputs": [
        {
          "output_type": "execute_result",
          "data": {
            "text/plain": [
              "['вкусный_ADJ',\n",
              " 'глупо_ADJ',\n",
              " 'голодный_ADJ',\n",
              " 'дурной_ADJ',\n",
              " 'замечательный_ADJ',\n",
              " 'злой_ADJ',\n",
              " 'невкусно_ADJ',\n",
              " 'невкусный_ADJ',\n",
              " 'незабываемый_ADJ',\n",
              " 'необычный_ADJ',\n",
              " 'несъедобный_ADJ',\n",
              " 'нормально_ADJ',\n",
              " 'обидный_ADJ',\n",
              " 'оригинальный_ADJ',\n",
              " 'отвратительно_ADJ',\n",
              " 'плохо_ADJ',\n",
              " 'плохой_ADJ',\n",
              " 'удивительный_ADJ',\n",
              " 'хороший_ADJ',\n",
              " 'хорошо_ADJ',\n",
              " 'яркий_ADJ']"
            ]
          },
          "metadata": {
            "tags": []
          },
          "execution_count": 155
        }
      ]
    },
    {
      "cell_type": "code",
      "metadata": {
        "colab_type": "code",
        "outputId": "5f7652f3-d0d9-4e0d-e0e6-8a28d02dbe84",
        "id": "VgJxYWmoasID",
        "colab": {
          "base_uri": "https://localhost:8080/",
          "height": 204
        }
      },
      "source": [
        "ok_food_df = food_df.drop(index=resolve_food).fillna(0)\n",
        "ok_food_df = pd.DataFrame(ok_food_df['graph'] + ok_food_df['combined'], columns=['correct'])\n",
        "ok_food_df.tail()"
      ],
      "execution_count": 156,
      "outputs": [
        {
          "output_type": "execute_result",
          "data": {
            "text/html": [
              "<div>\n",
              "<style scoped>\n",
              "    .dataframe tbody tr th:only-of-type {\n",
              "        vertical-align: middle;\n",
              "    }\n",
              "\n",
              "    .dataframe tbody tr th {\n",
              "        vertical-align: top;\n",
              "    }\n",
              "\n",
              "    .dataframe thead th {\n",
              "        text-align: right;\n",
              "    }\n",
              "</style>\n",
              "<table border=\"1\" class=\"dataframe\">\n",
              "  <thead>\n",
              "    <tr style=\"text-align: right;\">\n",
              "      <th></th>\n",
              "      <th>correct</th>\n",
              "    </tr>\n",
              "  </thead>\n",
              "  <tbody>\n",
              "    <tr>\n",
              "      <th>янтарный_ADJ</th>\n",
              "      <td>0.0</td>\n",
              "    </tr>\n",
              "    <tr>\n",
              "      <th>японский_ADJ</th>\n",
              "      <td>0.0</td>\n",
              "    </tr>\n",
              "    <tr>\n",
              "      <th>японско-минималистический_ADJ</th>\n",
              "      <td>0.0</td>\n",
              "    </tr>\n",
              "    <tr>\n",
              "      <th>ярусный_ADJ</th>\n",
              "      <td>0.0</td>\n",
              "    </tr>\n",
              "    <tr>\n",
              "      <th>ясный_ADJ</th>\n",
              "      <td>0.0</td>\n",
              "    </tr>\n",
              "  </tbody>\n",
              "</table>\n",
              "</div>"
            ],
            "text/plain": [
              "                               correct\n",
              "янтарный_ADJ                       0.0\n",
              "японский_ADJ                       0.0\n",
              "японско-минималистический_ADJ      0.0\n",
              "ярусный_ADJ                        0.0\n",
              "ясный_ADJ                          0.0"
            ]
          },
          "metadata": {
            "tags": []
          },
          "execution_count": 156
        }
      ]
    },
    {
      "cell_type": "code",
      "metadata": {
        "id": "igiBMgYZbSam",
        "colab_type": "code",
        "colab": {}
      },
      "source": [
        "resolved_food = [('вкусный_ADJ', 1.0),\n",
        "                ('глупо_ADJ', 0.0),\n",
        "                ('голодный_ADJ', 0.0),\n",
        "                ('дурной_ADJ', 0.0),\n",
        "                ('замечательный_ADJ', 1.0),\n",
        "                ('злой_ADJ', 0.0),\n",
        "                ('невкусно_ADJ', 0.0),\n",
        "                ('невкусный_ADJ', 0.0),\n",
        "                ('незабываемый_ADJ', 1.0),\n",
        "                ('необычный_ADJ', 1.0),\n",
        "                ('несъедобный_ADJ', 0.0),\n",
        "                ('нормально_ADJ', 1.0),\n",
        "                ('обидный_ADJ', 0.0),\n",
        "                ('оригинальный_ADJ', 1.0),\n",
        "                ('отвратительно_ADJ', 0.0),\n",
        "                ('плохо_ADJ', 0.0),\n",
        "                ('плохой_ADJ', 0.0),\n",
        "                ('удивительный_ADJ', 1.0),\n",
        "                ('хороший_ADJ', 1.0),\n",
        "                ('хорошо_ADJ', 1.0),\n",
        "                ('яркий_ADJ', 1.0)]"
      ],
      "execution_count": 0,
      "outputs": []
    },
    {
      "cell_type": "code",
      "metadata": {
        "colab_type": "code",
        "outputId": "d5bf79fc-792f-4c8e-ca91-899faf8201b9",
        "id": "Lg3p5VDCasIG",
        "colab": {
          "base_uri": "https://localhost:8080/",
          "height": 204
        }
      },
      "source": [
        "resolved_food_df = pd.DataFrame([el[1] for el in resolved_food], columns=['correct'], index=resolve_food)\n",
        "resolved_food_df.tail()"
      ],
      "execution_count": 159,
      "outputs": [
        {
          "output_type": "execute_result",
          "data": {
            "text/html": [
              "<div>\n",
              "<style scoped>\n",
              "    .dataframe tbody tr th:only-of-type {\n",
              "        vertical-align: middle;\n",
              "    }\n",
              "\n",
              "    .dataframe tbody tr th {\n",
              "        vertical-align: top;\n",
              "    }\n",
              "\n",
              "    .dataframe thead th {\n",
              "        text-align: right;\n",
              "    }\n",
              "</style>\n",
              "<table border=\"1\" class=\"dataframe\">\n",
              "  <thead>\n",
              "    <tr style=\"text-align: right;\">\n",
              "      <th></th>\n",
              "      <th>correct</th>\n",
              "    </tr>\n",
              "  </thead>\n",
              "  <tbody>\n",
              "    <tr>\n",
              "      <th>плохой_ADJ</th>\n",
              "      <td>0.0</td>\n",
              "    </tr>\n",
              "    <tr>\n",
              "      <th>удивительный_ADJ</th>\n",
              "      <td>1.0</td>\n",
              "    </tr>\n",
              "    <tr>\n",
              "      <th>хороший_ADJ</th>\n",
              "      <td>1.0</td>\n",
              "    </tr>\n",
              "    <tr>\n",
              "      <th>хорошо_ADJ</th>\n",
              "      <td>1.0</td>\n",
              "    </tr>\n",
              "    <tr>\n",
              "      <th>яркий_ADJ</th>\n",
              "      <td>1.0</td>\n",
              "    </tr>\n",
              "  </tbody>\n",
              "</table>\n",
              "</div>"
            ],
            "text/plain": [
              "                  correct\n",
              "плохой_ADJ            0.0\n",
              "удивительный_ADJ      1.0\n",
              "хороший_ADJ           1.0\n",
              "хорошо_ADJ            1.0\n",
              "яркий_ADJ             1.0"
            ]
          },
          "metadata": {
            "tags": []
          },
          "execution_count": 159
        }
      ]
    },
    {
      "cell_type": "code",
      "metadata": {
        "colab_type": "code",
        "outputId": "e7cf34d4-1f2f-4e4d-b9db-1d1dc51ea8b2",
        "id": "XwXm0nImasIJ",
        "colab": {
          "base_uri": "https://localhost:8080/",
          "height": 419
        }
      },
      "source": [
        "ok_food_df.append(resolved_food_df)"
      ],
      "execution_count": 163,
      "outputs": [
        {
          "output_type": "execute_result",
          "data": {
            "text/html": [
              "<div>\n",
              "<style scoped>\n",
              "    .dataframe tbody tr th:only-of-type {\n",
              "        vertical-align: middle;\n",
              "    }\n",
              "\n",
              "    .dataframe tbody tr th {\n",
              "        vertical-align: top;\n",
              "    }\n",
              "\n",
              "    .dataframe thead th {\n",
              "        text-align: right;\n",
              "    }\n",
              "</style>\n",
              "<table border=\"1\" class=\"dataframe\">\n",
              "  <thead>\n",
              "    <tr style=\"text-align: right;\">\n",
              "      <th></th>\n",
              "      <th>correct</th>\n",
              "    </tr>\n",
              "  </thead>\n",
              "  <tbody>\n",
              "    <tr>\n",
              "      <th>авторский_ADJ</th>\n",
              "      <td>0.0</td>\n",
              "    </tr>\n",
              "    <tr>\n",
              "      <th>агрессивный_NOUN</th>\n",
              "      <td>1.0</td>\n",
              "    </tr>\n",
              "    <tr>\n",
              "      <th>адекватный_ADJ</th>\n",
              "      <td>0.0</td>\n",
              "    </tr>\n",
              "    <tr>\n",
              "      <th>адоптировать_ADJ</th>\n",
              "      <td>0.0</td>\n",
              "    </tr>\n",
              "    <tr>\n",
              "      <th>ажурный_ADJ</th>\n",
              "      <td>0.0</td>\n",
              "    </tr>\n",
              "    <tr>\n",
              "      <th>...</th>\n",
              "      <td>...</td>\n",
              "    </tr>\n",
              "    <tr>\n",
              "      <th>плохой_ADJ</th>\n",
              "      <td>0.0</td>\n",
              "    </tr>\n",
              "    <tr>\n",
              "      <th>удивительный_ADJ</th>\n",
              "      <td>1.0</td>\n",
              "    </tr>\n",
              "    <tr>\n",
              "      <th>хороший_ADJ</th>\n",
              "      <td>1.0</td>\n",
              "    </tr>\n",
              "    <tr>\n",
              "      <th>хорошо_ADJ</th>\n",
              "      <td>1.0</td>\n",
              "    </tr>\n",
              "    <tr>\n",
              "      <th>яркий_ADJ</th>\n",
              "      <td>1.0</td>\n",
              "    </tr>\n",
              "  </tbody>\n",
              "</table>\n",
              "<p>1457 rows × 1 columns</p>\n",
              "</div>"
            ],
            "text/plain": [
              "                  correct\n",
              "авторский_ADJ         0.0\n",
              "агрессивный_NOUN      1.0\n",
              "адекватный_ADJ        0.0\n",
              "адоптировать_ADJ      0.0\n",
              "ажурный_ADJ           0.0\n",
              "...                   ...\n",
              "плохой_ADJ            0.0\n",
              "удивительный_ADJ      1.0\n",
              "хороший_ADJ           1.0\n",
              "хорошо_ADJ            1.0\n",
              "яркий_ADJ             1.0\n",
              "\n",
              "[1457 rows x 1 columns]"
            ]
          },
          "metadata": {
            "tags": []
          },
          "execution_count": 163
        }
      ]
    },
    {
      "cell_type": "code",
      "metadata": {
        "colab_type": "code",
        "id": "rp7f9fWIasIM",
        "colab": {}
      },
      "source": [
        "ok_food_scores = [tuple(r) for r in ok_food_df.append(resolved_food_df).reset_index().values]"
      ],
      "execution_count": 0,
      "outputs": []
    },
    {
      "cell_type": "markdown",
      "metadata": {
        "id": "FvGGE6BaSFRK",
        "colab_type": "text"
      },
      "source": [
        "## Combine all"
      ]
    },
    {
      "cell_type": "markdown",
      "metadata": {
        "id": "q98Udyevc-Fg",
        "colab_type": "text"
      },
      "source": [
        "### Service"
      ]
    },
    {
      "cell_type": "code",
      "metadata": {
        "id": "l4T0Ybm9ZsIp",
        "colab_type": "code",
        "colab": {}
      },
      "source": [
        "ok_service_scores += service_n_gram_scores"
      ],
      "execution_count": 0,
      "outputs": []
    },
    {
      "cell_type": "code",
      "metadata": {
        "id": "2hRn0VYhb_4E",
        "colab_type": "code",
        "colab": {
          "base_uri": "https://localhost:8080/",
          "height": 419
        },
        "outputId": "e016b2d4-70b1-4044-e501-b0287e9a4bab"
      },
      "source": [
        "final_service_scores_df = pd.DataFrame(ok_service_scores, columns=['word', 'score'])\n",
        "final_service_scores_df['score'] = final_service_scores_df['score'].apply(int)\n",
        "final_service_scores_df"
      ],
      "execution_count": 172,
      "outputs": [
        {
          "output_type": "execute_result",
          "data": {
            "text/html": [
              "<div>\n",
              "<style scoped>\n",
              "    .dataframe tbody tr th:only-of-type {\n",
              "        vertical-align: middle;\n",
              "    }\n",
              "\n",
              "    .dataframe tbody tr th {\n",
              "        vertical-align: top;\n",
              "    }\n",
              "\n",
              "    .dataframe thead th {\n",
              "        text-align: right;\n",
              "    }\n",
              "</style>\n",
              "<table border=\"1\" class=\"dataframe\">\n",
              "  <thead>\n",
              "    <tr style=\"text-align: right;\">\n",
              "      <th></th>\n",
              "      <th>word</th>\n",
              "      <th>score</th>\n",
              "    </tr>\n",
              "  </thead>\n",
              "  <tbody>\n",
              "    <tr>\n",
              "      <th>0</th>\n",
              "      <td>авторский_ADJ</td>\n",
              "      <td>0</td>\n",
              "    </tr>\n",
              "    <tr>\n",
              "      <th>1</th>\n",
              "      <td>адекватный_ADJ</td>\n",
              "      <td>0</td>\n",
              "    </tr>\n",
              "    <tr>\n",
              "      <th>2</th>\n",
              "      <td>адоптировать_ADJ</td>\n",
              "      <td>0</td>\n",
              "    </tr>\n",
              "    <tr>\n",
              "      <th>3</th>\n",
              "      <td>азиатский_ADJ</td>\n",
              "      <td>0</td>\n",
              "    </tr>\n",
              "    <tr>\n",
              "      <th>4</th>\n",
              "      <td>аккуратненький_ADJ</td>\n",
              "      <td>0</td>\n",
              "    </tr>\n",
              "    <tr>\n",
              "      <th>...</th>\n",
              "      <td>...</td>\n",
              "      <td>...</td>\n",
              "    </tr>\n",
              "    <tr>\n",
              "      <th>1791</th>\n",
              "      <td>место_NOUN как_SCONJ</td>\n",
              "      <td>0</td>\n",
              "    </tr>\n",
              "    <tr>\n",
              "      <th>1792</th>\n",
              "      <td>место_NOUN интерьер_NOUN</td>\n",
              "      <td>0</td>\n",
              "    </tr>\n",
              "    <tr>\n",
              "      <th>1793</th>\n",
              "      <td>атмосфера_NOUN обслуживание_NOUN</td>\n",
              "      <td>0</td>\n",
              "    </tr>\n",
              "    <tr>\n",
              "      <th>1794</th>\n",
              "      <td>обслуживание_NOUN атмосфера_NOUN</td>\n",
              "      <td>0</td>\n",
              "    </tr>\n",
              "    <tr>\n",
              "      <th>1795</th>\n",
              "      <td>место_NOUN обслуживание_NOUN</td>\n",
              "      <td>0</td>\n",
              "    </tr>\n",
              "  </tbody>\n",
              "</table>\n",
              "<p>1796 rows × 2 columns</p>\n",
              "</div>"
            ],
            "text/plain": [
              "                                  word  score\n",
              "0                        авторский_ADJ      0\n",
              "1                       адекватный_ADJ      0\n",
              "2                     адоптировать_ADJ      0\n",
              "3                        азиатский_ADJ      0\n",
              "4                   аккуратненький_ADJ      0\n",
              "...                                ...    ...\n",
              "1791              место_NOUN как_SCONJ      0\n",
              "1792          место_NOUN интерьер_NOUN      0\n",
              "1793  атмосфера_NOUN обслуживание_NOUN      0\n",
              "1794  обслуживание_NOUN атмосфера_NOUN      0\n",
              "1795      место_NOUN обслуживание_NOUN      0\n",
              "\n",
              "[1796 rows x 2 columns]"
            ]
          },
          "metadata": {
            "tags": []
          },
          "execution_count": 172
        }
      ]
    },
    {
      "cell_type": "code",
      "metadata": {
        "id": "9wBCC8YPchMW",
        "colab_type": "code",
        "colab": {}
      },
      "source": [
        "final_service_scores_df.to_csv('/content/drive/My Drive/studies/HSE/prog/nlp/proj/final_service_scores.csv', index=False)"
      ],
      "execution_count": 0,
      "outputs": []
    },
    {
      "cell_type": "markdown",
      "metadata": {
        "id": "MiAS-L4EdCQ8",
        "colab_type": "text"
      },
      "source": [
        "### food"
      ]
    },
    {
      "cell_type": "code",
      "metadata": {
        "id": "pGsZ6pBWb6Tt",
        "colab_type": "code",
        "colab": {}
      },
      "source": [
        "ok_food_scores += food_n_gram_scores"
      ],
      "execution_count": 0,
      "outputs": []
    },
    {
      "cell_type": "code",
      "metadata": {
        "colab_type": "code",
        "outputId": "d9d7d6ee-6740-4135-d975-daeed7c53404",
        "id": "JmxdU9smdH2v",
        "colab": {
          "base_uri": "https://localhost:8080/",
          "height": 419
        }
      },
      "source": [
        "final_food_scores_df = pd.DataFrame(ok_food_scores, columns=['word', 'score'])\n",
        "final_food_scores_df['score'] = final_food_scores_df['score'].apply(int)\n",
        "final_food_scores_df"
      ],
      "execution_count": 176,
      "outputs": [
        {
          "output_type": "execute_result",
          "data": {
            "text/html": [
              "<div>\n",
              "<style scoped>\n",
              "    .dataframe tbody tr th:only-of-type {\n",
              "        vertical-align: middle;\n",
              "    }\n",
              "\n",
              "    .dataframe tbody tr th {\n",
              "        vertical-align: top;\n",
              "    }\n",
              "\n",
              "    .dataframe thead th {\n",
              "        text-align: right;\n",
              "    }\n",
              "</style>\n",
              "<table border=\"1\" class=\"dataframe\">\n",
              "  <thead>\n",
              "    <tr style=\"text-align: right;\">\n",
              "      <th></th>\n",
              "      <th>word</th>\n",
              "      <th>score</th>\n",
              "    </tr>\n",
              "  </thead>\n",
              "  <tbody>\n",
              "    <tr>\n",
              "      <th>0</th>\n",
              "      <td>авторский_ADJ</td>\n",
              "      <td>0</td>\n",
              "    </tr>\n",
              "    <tr>\n",
              "      <th>1</th>\n",
              "      <td>агрессивный_NOUN</td>\n",
              "      <td>1</td>\n",
              "    </tr>\n",
              "    <tr>\n",
              "      <th>2</th>\n",
              "      <td>адекватный_ADJ</td>\n",
              "      <td>0</td>\n",
              "    </tr>\n",
              "    <tr>\n",
              "      <th>3</th>\n",
              "      <td>адоптировать_ADJ</td>\n",
              "      <td>0</td>\n",
              "    </tr>\n",
              "    <tr>\n",
              "      <th>4</th>\n",
              "      <td>ажурный_ADJ</td>\n",
              "      <td>0</td>\n",
              "    </tr>\n",
              "    <tr>\n",
              "      <th>...</th>\n",
              "      <td>...</td>\n",
              "      <td>...</td>\n",
              "    </tr>\n",
              "    <tr>\n",
              "      <th>1850</th>\n",
              "      <td>плохо_ADV не_PART</td>\n",
              "      <td>0</td>\n",
              "    </tr>\n",
              "    <tr>\n",
              "      <th>1851</th>\n",
              "      <td>плохо_ADJ не_PART и_CCONJ</td>\n",
              "      <td>0</td>\n",
              "    </tr>\n",
              "    <tr>\n",
              "      <th>1852</th>\n",
              "      <td>плохо_ADJ все_PRON</td>\n",
              "      <td>0</td>\n",
              "    </tr>\n",
              "    <tr>\n",
              "      <th>1853</th>\n",
              "      <td>плохой_ADJ не_PART интерьер_NOUN</td>\n",
              "      <td>0</td>\n",
              "    </tr>\n",
              "    <tr>\n",
              "      <th>1854</th>\n",
              "      <td>плохо_ADJ совсем_ADV</td>\n",
              "      <td>0</td>\n",
              "    </tr>\n",
              "  </tbody>\n",
              "</table>\n",
              "<p>1855 rows × 2 columns</p>\n",
              "</div>"
            ],
            "text/plain": [
              "                                  word  score\n",
              "0                        авторский_ADJ      0\n",
              "1                     агрессивный_NOUN      1\n",
              "2                       адекватный_ADJ      0\n",
              "3                     адоптировать_ADJ      0\n",
              "4                          ажурный_ADJ      0\n",
              "...                                ...    ...\n",
              "1850                 плохо_ADV не_PART      0\n",
              "1851         плохо_ADJ не_PART и_CCONJ      0\n",
              "1852                плохо_ADJ все_PRON      0\n",
              "1853  плохой_ADJ не_PART интерьер_NOUN      0\n",
              "1854              плохо_ADJ совсем_ADV      0\n",
              "\n",
              "[1855 rows x 2 columns]"
            ]
          },
          "metadata": {
            "tags": []
          },
          "execution_count": 176
        }
      ]
    },
    {
      "cell_type": "code",
      "metadata": {
        "colab_type": "code",
        "id": "rHExFXPCdH23",
        "colab": {}
      },
      "source": [
        "final_food_scores_df.to_csv('/content/drive/My Drive/studies/HSE/prog/nlp/proj/final_food_scores.csv', index=False)"
      ],
      "execution_count": 0,
      "outputs": []
    }
  ]
}