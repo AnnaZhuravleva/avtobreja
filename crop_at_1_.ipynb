{
  "nbformat": 4,
  "nbformat_minor": 0,
  "metadata": {
    "colab": {
      "name": "crop at 1%.ipynb",
      "provenance": [],
      "collapsed_sections": [],
      "include_colab_link": true
    },
    "kernelspec": {
      "name": "python3",
      "display_name": "Python 3"
    }
  },
  "cells": [
    {
      "cell_type": "markdown",
      "metadata": {
        "id": "view-in-github",
        "colab_type": "text"
      },
      "source": [
        "<a href=\"https://colab.research.google.com/github/AnnaZhuravleva/avtobreja/blob/master/crop_at_1_.ipynb\" target=\"_parent\"><img src=\"https://colab.research.google.com/assets/colab-badge.svg\" alt=\"Open In Colab\"/></a>"
      ]
    },
    {
      "cell_type": "markdown",
      "metadata": {
        "id": "jH8SuX1gCpG1",
        "colab_type": "text"
      },
      "source": [
        "# Here I merge results of differnet methods"
      ]
    },
    {
      "cell_type": "code",
      "metadata": {
        "id": "eNDKOog3cmy9",
        "colab_type": "code",
        "outputId": "e7de5025-4b9f-429d-8ff6-e57efe89e53f",
        "colab": {
          "base_uri": "https://localhost:8080/",
          "height": 122
        }
      },
      "source": [
        "from google.colab import drive\n",
        "drive.mount('/content/drive')"
      ],
      "execution_count": 1,
      "outputs": [
        {
          "output_type": "stream",
          "text": [
            "Go to this URL in a browser: https://accounts.google.com/o/oauth2/auth?client_id=947318989803-6bn6qk8qdgf4n4g3pfee6491hc0brc4i.apps.googleusercontent.com&redirect_uri=urn%3aietf%3awg%3aoauth%3a2.0%3aoob&response_type=code&scope=email%20https%3a%2f%2fwww.googleapis.com%2fauth%2fdocs.test%20https%3a%2f%2fwww.googleapis.com%2fauth%2fdrive%20https%3a%2f%2fwww.googleapis.com%2fauth%2fdrive.photos.readonly%20https%3a%2f%2fwww.googleapis.com%2fauth%2fpeopleapi.readonly\n",
            "\n",
            "Enter your authorization code:\n",
            "··········\n",
            "Mounted at /content/drive\n"
          ],
          "name": "stdout"
        }
      ]
    },
    {
      "cell_type": "markdown",
      "metadata": {
        "id": "lefX-_YR-5qy",
        "colab_type": "text"
      },
      "source": [
        "## Extract graph based scores"
      ]
    },
    {
      "cell_type": "code",
      "metadata": {
        "id": "Ro2bXtGc8EgR",
        "colab_type": "code",
        "colab": {}
      },
      "source": [
        "import pandas as pd\n",
        "import numpy as np\n",
        "from collections import defaultdict"
      ],
      "execution_count": 0,
      "outputs": []
    },
    {
      "cell_type": "code",
      "metadata": {
        "id": "EFcwiE2r8Ls5",
        "colab_type": "code",
        "outputId": "7a5cd799-3d1f-4b75-878b-82744b394065",
        "colab": {
          "base_uri": "https://localhost:8080/",
          "height": 204
        }
      },
      "source": [
        "!wget https://raw.githubusercontent.com/AnnaZhuravleva/avtobreja/master/seeds/service_sentiment_reclassified.csv"
      ],
      "execution_count": 3,
      "outputs": [
        {
          "output_type": "stream",
          "text": [
            "--2019-12-23 18:34:05--  https://raw.githubusercontent.com/AnnaZhuravleva/avtobreja/master/seeds/service_sentiment_reclassified.csv\n",
            "Resolving raw.githubusercontent.com (raw.githubusercontent.com)... 151.101.0.133, 151.101.64.133, 151.101.128.133, ...\n",
            "Connecting to raw.githubusercontent.com (raw.githubusercontent.com)|151.101.0.133|:443... connected.\n",
            "HTTP request sent, awaiting response... 200 OK\n",
            "Length: 23179 (23K) [text/plain]\n",
            "Saving to: ‘service_sentiment_reclassified.csv’\n",
            "\n",
            "\r          service_s   0%[                    ]       0  --.-KB/s               \rservice_sentiment_r 100%[===================>]  22.64K  --.-KB/s    in 0.01s   \n",
            "\n",
            "2019-12-23 18:34:05 (1.84 MB/s) - ‘service_sentiment_reclassified.csv’ saved [23179/23179]\n",
            "\n"
          ],
          "name": "stdout"
        }
      ]
    },
    {
      "cell_type": "code",
      "metadata": {
        "id": "2uMqpBT963ZF",
        "colab_type": "code",
        "outputId": "10ca0260-e056-4e56-a914-28a01a68bd3a",
        "colab": {
          "base_uri": "https://localhost:8080/",
          "height": 204
        }
      },
      "source": [
        "!wget https://raw.githubusercontent.com/AnnaZhuravleva/avtobreja/master/seeds/food_sentiment_reclassified.csv"
      ],
      "execution_count": 4,
      "outputs": [
        {
          "output_type": "stream",
          "text": [
            "--2019-12-23 18:34:08--  https://raw.githubusercontent.com/AnnaZhuravleva/avtobreja/master/seeds/food_sentiment_reclassified.csv\n",
            "Resolving raw.githubusercontent.com (raw.githubusercontent.com)... 151.101.0.133, 151.101.64.133, 151.101.128.133, ...\n",
            "Connecting to raw.githubusercontent.com (raw.githubusercontent.com)|151.101.0.133|:443... connected.\n",
            "HTTP request sent, awaiting response... 200 OK\n",
            "Length: 23179 (23K) [text/plain]\n",
            "Saving to: ‘food_sentiment_reclassified.csv’\n",
            "\n",
            "\r          food_sent   0%[                    ]       0  --.-KB/s               \rfood_sentiment_recl 100%[===================>]  22.64K  --.-KB/s    in 0.01s   \n",
            "\n",
            "2019-12-23 18:34:08 (1.90 MB/s) - ‘food_sentiment_reclassified.csv’ saved [23179/23179]\n",
            "\n"
          ],
          "name": "stdout"
        }
      ]
    },
    {
      "cell_type": "code",
      "metadata": {
        "id": "YsFOdQ8V8NSx",
        "colab_type": "code",
        "outputId": "88099ca9-3f58-4a1a-93a9-59633af94f65",
        "colab": {
          "base_uri": "https://localhost:8080/",
          "height": 204
        }
      },
      "source": [
        "service_graph_scores_df = pd.read_csv(\"service_sentiment_reclassified.csv\", sep='\\t', names=['word', 'POS', 'score'])\n",
        "service_graph_scores_df['lemma_POS'] = service_graph_scores_df['word'].apply(lambda s: s.strip('-').strip('.').lower()) + '_' + service_graph_scores_df['POS']\n",
        "service_graph_scores_df = service_graph_scores_df.drop(['POS', 'word'], axis=1)\n",
        "service_graph_scores_df.tail()"
      ],
      "execution_count": 5,
      "outputs": [
        {
          "output_type": "execute_result",
          "data": {
            "text/html": [
              "<div>\n",
              "<style scoped>\n",
              "    .dataframe tbody tr th:only-of-type {\n",
              "        vertical-align: middle;\n",
              "    }\n",
              "\n",
              "    .dataframe tbody tr th {\n",
              "        vertical-align: top;\n",
              "    }\n",
              "\n",
              "    .dataframe thead th {\n",
              "        text-align: right;\n",
              "    }\n",
              "</style>\n",
              "<table border=\"1\" class=\"dataframe\">\n",
              "  <thead>\n",
              "    <tr style=\"text-align: right;\">\n",
              "      <th></th>\n",
              "      <th>score</th>\n",
              "      <th>lemma_POS</th>\n",
              "    </tr>\n",
              "  </thead>\n",
              "  <tbody>\n",
              "    <tr>\n",
              "      <th>918</th>\n",
              "      <td>1</td>\n",
              "      <td>уютный_ADJ</td>\n",
              "    </tr>\n",
              "    <tr>\n",
              "      <th>919</th>\n",
              "      <td>1</td>\n",
              "      <td>свежий_ADJ</td>\n",
              "    </tr>\n",
              "    <tr>\n",
              "      <th>920</th>\n",
              "      <td>1</td>\n",
              "      <td>красивый_ADJ</td>\n",
              "    </tr>\n",
              "    <tr>\n",
              "      <th>921</th>\n",
              "      <td>1</td>\n",
              "      <td>сытный_ADJ</td>\n",
              "    </tr>\n",
              "    <tr>\n",
              "      <th>922</th>\n",
              "      <td>1</td>\n",
              "      <td>вкусный_ADJ</td>\n",
              "    </tr>\n",
              "  </tbody>\n",
              "</table>\n",
              "</div>"
            ],
            "text/plain": [
              "     score     lemma_POS\n",
              "918      1    уютный_ADJ\n",
              "919      1    свежий_ADJ\n",
              "920      1  красивый_ADJ\n",
              "921      1    сытный_ADJ\n",
              "922      1   вкусный_ADJ"
            ]
          },
          "metadata": {
            "tags": []
          },
          "execution_count": 5
        }
      ]
    },
    {
      "cell_type": "code",
      "metadata": {
        "id": "1xmKvfv_Hb3K",
        "colab_type": "code",
        "colab": {}
      },
      "source": [
        "service_graph_scores = list(set([tuple([r[1], r[0]]) for r in service_graph_scores_df.values]))"
      ],
      "execution_count": 0,
      "outputs": []
    },
    {
      "cell_type": "code",
      "metadata": {
        "id": "dawq5dB9-Zq3",
        "colab_type": "code",
        "outputId": "e85f9cd1-2653-48ed-e4af-c843d9b1f287",
        "colab": {
          "base_uri": "https://localhost:8080/",
          "height": 204
        }
      },
      "source": [
        "food_graph_scores_df = pd.read_csv(\"food_sentiment_reclassified.csv\", sep='\\t', names=['word', 'POS', 'score'])\n",
        "food_graph_scores_df['lemma_POS'] = food_graph_scores_df['word'].apply(lambda s: s.strip('-').strip('.').lower()) + '_' + food_graph_scores_df['POS']\n",
        "food_graph_scores_df = food_graph_scores_df.drop(['POS', 'word'], axis=1)\n",
        "food_graph_scores_df.tail()"
      ],
      "execution_count": 7,
      "outputs": [
        {
          "output_type": "execute_result",
          "data": {
            "text/html": [
              "<div>\n",
              "<style scoped>\n",
              "    .dataframe tbody tr th:only-of-type {\n",
              "        vertical-align: middle;\n",
              "    }\n",
              "\n",
              "    .dataframe tbody tr th {\n",
              "        vertical-align: top;\n",
              "    }\n",
              "\n",
              "    .dataframe thead th {\n",
              "        text-align: right;\n",
              "    }\n",
              "</style>\n",
              "<table border=\"1\" class=\"dataframe\">\n",
              "  <thead>\n",
              "    <tr style=\"text-align: right;\">\n",
              "      <th></th>\n",
              "      <th>score</th>\n",
              "      <th>lemma_POS</th>\n",
              "    </tr>\n",
              "  </thead>\n",
              "  <tbody>\n",
              "    <tr>\n",
              "      <th>918</th>\n",
              "      <td>1</td>\n",
              "      <td>уютный_ADJ</td>\n",
              "    </tr>\n",
              "    <tr>\n",
              "      <th>919</th>\n",
              "      <td>1</td>\n",
              "      <td>свежий_ADJ</td>\n",
              "    </tr>\n",
              "    <tr>\n",
              "      <th>920</th>\n",
              "      <td>1</td>\n",
              "      <td>красивый_ADJ</td>\n",
              "    </tr>\n",
              "    <tr>\n",
              "      <th>921</th>\n",
              "      <td>1</td>\n",
              "      <td>сытный_ADJ</td>\n",
              "    </tr>\n",
              "    <tr>\n",
              "      <th>922</th>\n",
              "      <td>1</td>\n",
              "      <td>вкусный_ADJ</td>\n",
              "    </tr>\n",
              "  </tbody>\n",
              "</table>\n",
              "</div>"
            ],
            "text/plain": [
              "     score     lemma_POS\n",
              "918      1    уютный_ADJ\n",
              "919      1    свежий_ADJ\n",
              "920      1  красивый_ADJ\n",
              "921      1    сытный_ADJ\n",
              "922      1   вкусный_ADJ"
            ]
          },
          "metadata": {
            "tags": []
          },
          "execution_count": 7
        }
      ]
    },
    {
      "cell_type": "code",
      "metadata": {
        "id": "m_PyGzuuHmIT",
        "colab_type": "code",
        "colab": {}
      },
      "source": [
        "food_graph_scores = list(set([tuple([r[1], r[0]]) for r in food_graph_scores_df.values]))"
      ],
      "execution_count": 0,
      "outputs": []
    },
    {
      "cell_type": "markdown",
      "metadata": {
        "id": "tnxRWd1I-_YZ",
        "colab_type": "text"
      },
      "source": [
        "## Extract n-gram ranks"
      ]
    },
    {
      "cell_type": "code",
      "metadata": {
        "id": "BX3uLgRK-x1m",
        "colab_type": "code",
        "outputId": "8508b71d-f804-482f-a6e9-5209702464e3",
        "colab": {
          "base_uri": "https://localhost:8080/",
          "height": 204
        }
      },
      "source": [
        "!wget https://raw.githubusercontent.com/AnnaZhuravleva/avtobreja/master/synt_3grams/service_trigrams.csv"
      ],
      "execution_count": 9,
      "outputs": [
        {
          "output_type": "stream",
          "text": [
            "--2019-12-23 18:34:12--  https://raw.githubusercontent.com/AnnaZhuravleva/avtobreja/master/synt_3grams/service_trigrams.csv\n",
            "Resolving raw.githubusercontent.com (raw.githubusercontent.com)... 151.101.0.133, 151.101.64.133, 151.101.128.133, ...\n",
            "Connecting to raw.githubusercontent.com (raw.githubusercontent.com)|151.101.0.133|:443... connected.\n",
            "HTTP request sent, awaiting response... 200 OK\n",
            "Length: 461122 (450K) [text/plain]\n",
            "Saving to: ‘service_trigrams.csv’\n",
            "\n",
            "\rservice_trigrams.cs   0%[                    ]       0  --.-KB/s               \rservice_trigrams.cs 100%[===================>] 450.31K  --.-KB/s    in 0.06s   \n",
            "\n",
            "2019-12-23 18:34:12 (7.59 MB/s) - ‘service_trigrams.csv’ saved [461122/461122]\n",
            "\n"
          ],
          "name": "stdout"
        }
      ]
    },
    {
      "cell_type": "code",
      "metadata": {
        "id": "jbDJUder_RSa",
        "colab_type": "code",
        "outputId": "371db3ee-d9bc-44de-b028-1a6017bbe5c7",
        "colab": {
          "base_uri": "https://localhost:8080/",
          "height": 204
        }
      },
      "source": [
        "!wget https://raw.githubusercontent.com/AnnaZhuravleva/avtobreja/master/synt_3grams/food_trigrams.csv"
      ],
      "execution_count": 10,
      "outputs": [
        {
          "output_type": "stream",
          "text": [
            "--2019-12-23 18:34:14--  https://raw.githubusercontent.com/AnnaZhuravleva/avtobreja/master/synt_3grams/food_trigrams.csv\n",
            "Resolving raw.githubusercontent.com (raw.githubusercontent.com)... 151.101.0.133, 151.101.64.133, 151.101.128.133, ...\n",
            "Connecting to raw.githubusercontent.com (raw.githubusercontent.com)|151.101.0.133|:443... connected.\n",
            "HTTP request sent, awaiting response... 200 OK\n",
            "Length: 462920 (452K) [text/plain]\n",
            "Saving to: ‘food_trigrams.csv’\n",
            "\n",
            "\rfood_trigrams.csv     0%[                    ]       0  --.-KB/s               \rfood_trigrams.csv   100%[===================>] 452.07K  --.-KB/s    in 0.07s   \n",
            "\n",
            "2019-12-23 18:34:14 (6.04 MB/s) - ‘food_trigrams.csv’ saved [462920/462920]\n",
            "\n"
          ],
          "name": "stdout"
        }
      ]
    },
    {
      "cell_type": "code",
      "metadata": {
        "id": "WcpwiQq2_gA0",
        "colab_type": "code",
        "outputId": "a2e2cec1-49e3-461b-fde1-ac796ce3cbc3",
        "colab": {
          "base_uri": "https://localhost:8080/",
          "height": 204
        }
      },
      "source": [
        "service_n_grams = pd.read_csv('service_trigrams.csv', sep='\\t', names=['lemma_POS', 'rank'])\n",
        "service_n_grams.tail()"
      ],
      "execution_count": 11,
      "outputs": [
        {
          "output_type": "execute_result",
          "data": {
            "text/html": [
              "<div>\n",
              "<style scoped>\n",
              "    .dataframe tbody tr th:only-of-type {\n",
              "        vertical-align: middle;\n",
              "    }\n",
              "\n",
              "    .dataframe tbody tr th {\n",
              "        vertical-align: top;\n",
              "    }\n",
              "\n",
              "    .dataframe thead th {\n",
              "        text-align: right;\n",
              "    }\n",
              "</style>\n",
              "<table border=\"1\" class=\"dataframe\">\n",
              "  <thead>\n",
              "    <tr style=\"text-align: right;\">\n",
              "      <th></th>\n",
              "      <th>lemma_POS</th>\n",
              "      <th>rank</th>\n",
              "    </tr>\n",
              "  </thead>\n",
              "  <tbody>\n",
              "    <tr>\n",
              "      <th>8362</th>\n",
              "      <td>место_NOUN проведение_NOUN для_ADP</td>\n",
              "      <td>-76.696942</td>\n",
              "    </tr>\n",
              "    <tr>\n",
              "      <th>8363</th>\n",
              "      <td>место_NOUN город_NOUN</td>\n",
              "      <td>-78.811848</td>\n",
              "    </tr>\n",
              "    <tr>\n",
              "      <th>8364</th>\n",
              "      <td>место_NOUN обслуживание_NOUN с_ADP</td>\n",
              "      <td>-81.014264</td>\n",
              "    </tr>\n",
              "    <tr>\n",
              "      <th>8365</th>\n",
              "      <td>место_NOUN атмосфера_NOUN</td>\n",
              "      <td>-84.436807</td>\n",
              "    </tr>\n",
              "    <tr>\n",
              "      <th>8366</th>\n",
              "      <td>место_NOUN район_NOUN для_ADP</td>\n",
              "      <td>-96.897851</td>\n",
              "    </tr>\n",
              "  </tbody>\n",
              "</table>\n",
              "</div>"
            ],
            "text/plain": [
              "                               lemma_POS       rank\n",
              "8362  место_NOUN проведение_NOUN для_ADP -76.696942\n",
              "8363               место_NOUN город_NOUN -78.811848\n",
              "8364  место_NOUN обслуживание_NOUN с_ADP -81.014264\n",
              "8365           место_NOUN атмосфера_NOUN -84.436807\n",
              "8366       место_NOUN район_NOUN для_ADP -96.897851"
            ]
          },
          "metadata": {
            "tags": []
          },
          "execution_count": 11
        }
      ]
    },
    {
      "cell_type": "code",
      "metadata": {
        "id": "PXJL_QJC_aG8",
        "colab_type": "code",
        "outputId": "46fa9a89-a11c-43fd-b0cd-7c4631f7ecd6",
        "colab": {
          "base_uri": "https://localhost:8080/",
          "height": 204
        }
      },
      "source": [
        "food_n_grams =  pd.read_csv('food_trigrams.csv', sep='\\t', names=['lemma_POS', 'rank'])\n",
        "food_n_grams.tail()"
      ],
      "execution_count": 12,
      "outputs": [
        {
          "output_type": "execute_result",
          "data": {
            "text/html": [
              "<div>\n",
              "<style scoped>\n",
              "    .dataframe tbody tr th:only-of-type {\n",
              "        vertical-align: middle;\n",
              "    }\n",
              "\n",
              "    .dataframe tbody tr th {\n",
              "        vertical-align: top;\n",
              "    }\n",
              "\n",
              "    .dataframe thead th {\n",
              "        text-align: right;\n",
              "    }\n",
              "</style>\n",
              "<table border=\"1\" class=\"dataframe\">\n",
              "  <thead>\n",
              "    <tr style=\"text-align: right;\">\n",
              "      <th></th>\n",
              "      <th>lemma_POS</th>\n",
              "      <th>rank</th>\n",
              "    </tr>\n",
              "  </thead>\n",
              "  <tbody>\n",
              "    <tr>\n",
              "      <th>8362</th>\n",
              "      <td>плохо_ADJ не_PART но_CCONJ</td>\n",
              "      <td>-114.743118</td>\n",
              "    </tr>\n",
              "    <tr>\n",
              "      <th>8363</th>\n",
              "      <td>плохо_ADJ очень_ADV</td>\n",
              "      <td>-114.901504</td>\n",
              "    </tr>\n",
              "    <tr>\n",
              "      <th>8364</th>\n",
              "      <td>плохо_ADJ не_PART</td>\n",
              "      <td>-117.746496</td>\n",
              "    </tr>\n",
              "    <tr>\n",
              "      <th>8365</th>\n",
              "      <td>есть_VERB плохо_ADV</td>\n",
              "      <td>-119.570822</td>\n",
              "    </tr>\n",
              "    <tr>\n",
              "      <th>8366</th>\n",
              "      <td>плохой_ADJ не_PART интерьер_NOUN</td>\n",
              "      <td>-123.060394</td>\n",
              "    </tr>\n",
              "  </tbody>\n",
              "</table>\n",
              "</div>"
            ],
            "text/plain": [
              "                             lemma_POS        rank\n",
              "8362        плохо_ADJ не_PART но_CCONJ -114.743118\n",
              "8363               плохо_ADJ очень_ADV -114.901504\n",
              "8364                 плохо_ADJ не_PART -117.746496\n",
              "8365               есть_VERB плохо_ADV -119.570822\n",
              "8366  плохой_ADJ не_PART интерьер_NOUN -123.060394"
            ]
          },
          "metadata": {
            "tags": []
          },
          "execution_count": 12
        }
      ]
    },
    {
      "cell_type": "markdown",
      "metadata": {
        "id": "ZL5F8F3y_5w5",
        "colab_type": "text"
      },
      "source": [
        "## Exstract combined CNN and vector ranks"
      ]
    },
    {
      "cell_type": "code",
      "metadata": {
        "id": "OOncLdP-_5J6",
        "colab_type": "code",
        "outputId": "42176543-6fef-4810-faef-50ebeca09b73",
        "colab": {
          "base_uri": "https://localhost:8080/",
          "height": 204
        }
      },
      "source": [
        "!wget https://raw.githubusercontent.com/AnnaZhuravleva/avtobreja/master/word_lists/total_CNN%2BSAM/full_service_wo_mark.csv"
      ],
      "execution_count": 21,
      "outputs": [
        {
          "output_type": "stream",
          "text": [
            "--2019-12-23 18:39:42--  https://raw.githubusercontent.com/AnnaZhuravleva/avtobreja/master/word_lists/total_CNN%2BSAM/full_service_wo_mark.csv\n",
            "Resolving raw.githubusercontent.com (raw.githubusercontent.com)... 151.101.0.133, 151.101.64.133, 151.101.128.133, ...\n",
            "Connecting to raw.githubusercontent.com (raw.githubusercontent.com)|151.101.0.133|:443... connected.\n",
            "HTTP request sent, awaiting response... 200 OK\n",
            "Length: 1246393 (1.2M) [text/plain]\n",
            "Saving to: ‘full_service_wo_mark.csv’\n",
            "\n",
            "\rfull_service_wo_mar   0%[                    ]       0  --.-KB/s               \rfull_service_wo_mar 100%[===================>]   1.19M  --.-KB/s    in 0.07s   \n",
            "\n",
            "2019-12-23 18:39:42 (16.2 MB/s) - ‘full_service_wo_mark.csv’ saved [1246393/1246393]\n",
            "\n"
          ],
          "name": "stdout"
        }
      ]
    },
    {
      "cell_type": "code",
      "metadata": {
        "id": "j3GE3BtW__SV",
        "colab_type": "code",
        "outputId": "6d0eb978-4fc6-4124-b76e-021da1ada679",
        "colab": {
          "base_uri": "https://localhost:8080/",
          "height": 204
        }
      },
      "source": [
        "!wget https://raw.githubusercontent.com/AnnaZhuravleva/avtobreja/master/word_lists/total_CNN%2BSAM/full_food_wo_mark.csv"
      ],
      "execution_count": 16,
      "outputs": [
        {
          "output_type": "stream",
          "text": [
            "--2019-12-23 18:38:01--  https://raw.githubusercontent.com/AnnaZhuravleva/avtobreja/master/word_lists/total_CNN%2BSAM/full_food_wo_mark.csv\n",
            "Resolving raw.githubusercontent.com (raw.githubusercontent.com)... 151.101.0.133, 151.101.64.133, 151.101.128.133, ...\n",
            "Connecting to raw.githubusercontent.com (raw.githubusercontent.com)|151.101.0.133|:443... connected.\n",
            "HTTP request sent, awaiting response... 200 OK\n",
            "Length: 1301929 (1.2M) [text/plain]\n",
            "Saving to: ‘full_food_wo_mark.csv.1’\n",
            "\n",
            "\rfull_food_wo_mark.c   0%[                    ]       0  --.-KB/s               \rfull_food_wo_mark.c 100%[===================>]   1.24M  --.-KB/s    in 0.07s   \n",
            "\n",
            "2019-12-23 18:38:01 (16.9 MB/s) - ‘full_food_wo_mark.csv.1’ saved [1301929/1301929]\n",
            "\n"
          ],
          "name": "stdout"
        }
      ]
    },
    {
      "cell_type": "code",
      "metadata": {
        "id": "kEzM6IusALLG",
        "colab_type": "code",
        "outputId": "b74aed85-46fb-49c5-c4e7-f4607989ce64",
        "colab": {
          "base_uri": "https://localhost:8080/",
          "height": 204
        }
      },
      "source": [
        "service_combined =  pd.read_csv('full_service_wo_mark.csv', sep='\\t', names=['lemma_POS', 'rank'])\n",
        "service_combined.tail()"
      ],
      "execution_count": 23,
      "outputs": [
        {
          "output_type": "execute_result",
          "data": {
            "text/html": [
              "<div>\n",
              "<style scoped>\n",
              "    .dataframe tbody tr th:only-of-type {\n",
              "        vertical-align: middle;\n",
              "    }\n",
              "\n",
              "    .dataframe tbody tr th {\n",
              "        vertical-align: top;\n",
              "    }\n",
              "\n",
              "    .dataframe thead th {\n",
              "        text-align: right;\n",
              "    }\n",
              "</style>\n",
              "<table border=\"1\" class=\"dataframe\">\n",
              "  <thead>\n",
              "    <tr style=\"text-align: right;\">\n",
              "      <th></th>\n",
              "      <th>lemma_POS</th>\n",
              "      <th>rank</th>\n",
              "    </tr>\n",
              "  </thead>\n",
              "  <tbody>\n",
              "    <tr>\n",
              "      <th>29968</th>\n",
              "      <td>ласковый_ADJ</td>\n",
              "      <td>-110.269782</td>\n",
              "    </tr>\n",
              "    <tr>\n",
              "      <th>29969</th>\n",
              "      <td>любезный_ADJ</td>\n",
              "      <td>-111.020476</td>\n",
              "    </tr>\n",
              "    <tr>\n",
              "      <th>29970</th>\n",
              "      <td>дружелюбный_ADJ</td>\n",
              "      <td>-113.138820</td>\n",
              "    </tr>\n",
              "    <tr>\n",
              "      <th>29971</th>\n",
              "      <td>радушный_ADJ</td>\n",
              "      <td>-119.292144</td>\n",
              "    </tr>\n",
              "    <tr>\n",
              "      <th>29972</th>\n",
              "      <td>приветливый_ADJ</td>\n",
              "      <td>-120.355912</td>\n",
              "    </tr>\n",
              "  </tbody>\n",
              "</table>\n",
              "</div>"
            ],
            "text/plain": [
              "             lemma_POS        rank\n",
              "29968     ласковый_ADJ -110.269782\n",
              "29969     любезный_ADJ -111.020476\n",
              "29970  дружелюбный_ADJ -113.138820\n",
              "29971     радушный_ADJ -119.292144\n",
              "29972  приветливый_ADJ -120.355912"
            ]
          },
          "metadata": {
            "tags": []
          },
          "execution_count": 23
        }
      ]
    },
    {
      "cell_type": "code",
      "metadata": {
        "id": "VpiCa0AtAFci",
        "colab_type": "code",
        "outputId": "5a81b0ad-a346-4803-e8e5-0a7347446203",
        "colab": {
          "base_uri": "https://localhost:8080/",
          "height": 204
        }
      },
      "source": [
        "food_combined =  pd.read_csv('full_food_wo_mark.csv', sep='\\t', names=['lemma_POS', 'rank'])\n",
        "food_combined.tail()"
      ],
      "execution_count": 24,
      "outputs": [
        {
          "output_type": "execute_result",
          "data": {
            "text/html": [
              "<div>\n",
              "<style scoped>\n",
              "    .dataframe tbody tr th:only-of-type {\n",
              "        vertical-align: middle;\n",
              "    }\n",
              "\n",
              "    .dataframe tbody tr th {\n",
              "        vertical-align: top;\n",
              "    }\n",
              "\n",
              "    .dataframe thead th {\n",
              "        text-align: right;\n",
              "    }\n",
              "</style>\n",
              "<table border=\"1\" class=\"dataframe\">\n",
              "  <thead>\n",
              "    <tr style=\"text-align: right;\">\n",
              "      <th></th>\n",
              "      <th>lemma_POS</th>\n",
              "      <th>rank</th>\n",
              "    </tr>\n",
              "  </thead>\n",
              "  <tbody>\n",
              "    <tr>\n",
              "      <th>31260</th>\n",
              "      <td>необыкновенный_ADJ</td>\n",
              "      <td>-73.041091</td>\n",
              "    </tr>\n",
              "    <tr>\n",
              "      <th>31261</th>\n",
              "      <td>великолепный_ADJ</td>\n",
              "      <td>-76.084335</td>\n",
              "    </tr>\n",
              "    <tr>\n",
              "      <th>31262</th>\n",
              "      <td>живописный_ADJ</td>\n",
              "      <td>-76.777247</td>\n",
              "    </tr>\n",
              "    <tr>\n",
              "      <th>31263</th>\n",
              "      <td>обширный_ADJ</td>\n",
              "      <td>-77.776156</td>\n",
              "    </tr>\n",
              "    <tr>\n",
              "      <th>31264</th>\n",
              "      <td>величественный_ADJ</td>\n",
              "      <td>-80.639570</td>\n",
              "    </tr>\n",
              "  </tbody>\n",
              "</table>\n",
              "</div>"
            ],
            "text/plain": [
              "                lemma_POS       rank\n",
              "31260  необыкновенный_ADJ -73.041091\n",
              "31261    великолепный_ADJ -76.084335\n",
              "31262      живописный_ADJ -76.777247\n",
              "31263        обширный_ADJ -77.776156\n",
              "31264  величественный_ADJ -80.639570"
            ]
          },
          "metadata": {
            "tags": []
          },
          "execution_count": 24
        }
      ]
    },
    {
      "cell_type": "markdown",
      "metadata": {
        "id": "87DlstCjARTC",
        "colab_type": "text"
      },
      "source": [
        "## Crop at 1%"
      ]
    },
    {
      "cell_type": "markdown",
      "metadata": {
        "id": "ygMNetSlAayf",
        "colab_type": "text"
      },
      "source": [
        "### n-grams"
      ]
    },
    {
      "cell_type": "markdown",
      "metadata": {
        "id": "9gwtJpiiCda0",
        "colab_type": "text"
      },
      "source": [
        "#### service"
      ]
    },
    {
      "cell_type": "code",
      "metadata": {
        "id": "MDDJDbPBAaMO",
        "colab_type": "code",
        "outputId": "f154f21c-dddd-43f8-b5db-f3ba649affa0",
        "colab": {
          "base_uri": "https://localhost:8080/",
          "height": 419
        }
      },
      "source": [
        "service_n_grams.sort_values(['rank'], ascending=False)"
      ],
      "execution_count": 25,
      "outputs": [
        {
          "output_type": "execute_result",
          "data": {
            "text/html": [
              "<div>\n",
              "<style scoped>\n",
              "    .dataframe tbody tr th:only-of-type {\n",
              "        vertical-align: middle;\n",
              "    }\n",
              "\n",
              "    .dataframe tbody tr th {\n",
              "        vertical-align: top;\n",
              "    }\n",
              "\n",
              "    .dataframe thead th {\n",
              "        text-align: right;\n",
              "    }\n",
              "</style>\n",
              "<table border=\"1\" class=\"dataframe\">\n",
              "  <thead>\n",
              "    <tr style=\"text-align: right;\">\n",
              "      <th></th>\n",
              "      <th>lemma_POS</th>\n",
              "      <th>rank</th>\n",
              "    </tr>\n",
              "  </thead>\n",
              "  <tbody>\n",
              "    <tr>\n",
              "      <th>0</th>\n",
              "      <td>приветливый_ADJ доброжелательный_ADJ</td>\n",
              "      <td>216.582344</td>\n",
              "    </tr>\n",
              "    <tr>\n",
              "      <th>1</th>\n",
              "      <td>приветливый_ADJ внимательный_ADJ</td>\n",
              "      <td>210.865763</td>\n",
              "    </tr>\n",
              "    <tr>\n",
              "      <th>2</th>\n",
              "      <td>приветливый_ADJ вежливый_ADJ</td>\n",
              "      <td>199.615683</td>\n",
              "    </tr>\n",
              "    <tr>\n",
              "      <th>3</th>\n",
              "      <td>вежливый_ADJ приветливый_ADJ</td>\n",
              "      <td>199.615683</td>\n",
              "    </tr>\n",
              "    <tr>\n",
              "      <th>4</th>\n",
              "      <td>милый_ADJ приятный_ADJ</td>\n",
              "      <td>181.542751</td>\n",
              "    </tr>\n",
              "    <tr>\n",
              "      <th>...</th>\n",
              "      <td>...</td>\n",
              "      <td>...</td>\n",
              "    </tr>\n",
              "    <tr>\n",
              "      <th>8362</th>\n",
              "      <td>место_NOUN проведение_NOUN для_ADP</td>\n",
              "      <td>-76.696942</td>\n",
              "    </tr>\n",
              "    <tr>\n",
              "      <th>8363</th>\n",
              "      <td>место_NOUN город_NOUN</td>\n",
              "      <td>-78.811848</td>\n",
              "    </tr>\n",
              "    <tr>\n",
              "      <th>8364</th>\n",
              "      <td>место_NOUN обслуживание_NOUN с_ADP</td>\n",
              "      <td>-81.014264</td>\n",
              "    </tr>\n",
              "    <tr>\n",
              "      <th>8365</th>\n",
              "      <td>место_NOUN атмосфера_NOUN</td>\n",
              "      <td>-84.436807</td>\n",
              "    </tr>\n",
              "    <tr>\n",
              "      <th>8366</th>\n",
              "      <td>место_NOUN район_NOUN для_ADP</td>\n",
              "      <td>-96.897851</td>\n",
              "    </tr>\n",
              "  </tbody>\n",
              "</table>\n",
              "<p>8367 rows × 2 columns</p>\n",
              "</div>"
            ],
            "text/plain": [
              "                                 lemma_POS        rank\n",
              "0     приветливый_ADJ доброжелательный_ADJ  216.582344\n",
              "1         приветливый_ADJ внимательный_ADJ  210.865763\n",
              "2             приветливый_ADJ вежливый_ADJ  199.615683\n",
              "3             вежливый_ADJ приветливый_ADJ  199.615683\n",
              "4                   милый_ADJ приятный_ADJ  181.542751\n",
              "...                                    ...         ...\n",
              "8362    место_NOUN проведение_NOUN для_ADP  -76.696942\n",
              "8363                 место_NOUN город_NOUN  -78.811848\n",
              "8364    место_NOUN обслуживание_NOUN с_ADP  -81.014264\n",
              "8365             место_NOUN атмосфера_NOUN  -84.436807\n",
              "8366         место_NOUN район_NOUN для_ADP  -96.897851\n",
              "\n",
              "[8367 rows x 2 columns]"
            ]
          },
          "metadata": {
            "tags": []
          },
          "execution_count": 25
        }
      ]
    },
    {
      "cell_type": "code",
      "metadata": {
        "id": "XTdkBNK5BIqE",
        "colab_type": "code",
        "outputId": "e7c7f4de-1225-4d0f-93bf-d1e629e355a7",
        "colab": {
          "base_uri": "https://localhost:8080/",
          "height": 34
        }
      },
      "source": [
        "len(service_n_grams) * 0.01"
      ],
      "execution_count": 26,
      "outputs": [
        {
          "output_type": "execute_result",
          "data": {
            "text/plain": [
              "83.67"
            ]
          },
          "metadata": {
            "tags": []
          },
          "execution_count": 26
        }
      ]
    },
    {
      "cell_type": "code",
      "metadata": {
        "id": "iqhpmRKtBBBm",
        "colab_type": "code",
        "colab": {}
      },
      "source": [
        "service_n_grams_sorted = list(service_n_grams.sort_values(['rank'], ascending=False)[\"lemma_POS\"])"
      ],
      "execution_count": 0,
      "outputs": []
    },
    {
      "cell_type": "code",
      "metadata": {
        "id": "J3jq4rLVBWHC",
        "colab_type": "code",
        "outputId": "a943de32-9364-4302-aa1c-f807ca90f0c1",
        "colab": {
          "base_uri": "https://localhost:8080/",
          "height": 34
        }
      },
      "source": [
        "service_n_grams_good = service_n_grams_sorted[:int(len(service_n_grams) * 0.01)]\n",
        "service_n_grams_bad = service_n_grams_sorted[-int(len(service_n_grams) * 0.01):]\n",
        "service_n_grams_good[0]"
      ],
      "execution_count": 28,
      "outputs": [
        {
          "output_type": "execute_result",
          "data": {
            "text/plain": [
              "'приветливый_ADJ доброжелательный_ADJ'"
            ]
          },
          "metadata": {
            "tags": []
          },
          "execution_count": 28
        }
      ]
    },
    {
      "cell_type": "code",
      "metadata": {
        "id": "rHvgwTWeC0wp",
        "colab_type": "code",
        "colab": {}
      },
      "source": [
        "service_n_gram_scores = [(word, 1)  for word in service_n_grams_good] + [(word, 0)  for word in service_n_grams_bad]"
      ],
      "execution_count": 0,
      "outputs": []
    },
    {
      "cell_type": "code",
      "metadata": {
        "id": "PCAEiqNWDJmL",
        "colab_type": "code",
        "colab": {}
      },
      "source": [
        "def crop_and_score(df, ratio=0.01):\n",
        "  df_sorted = list(df.sort_values(['rank'], ascending=False)[\"lemma_POS\"])\n",
        "  df_good = df_sorted[:int(len(df) * ratio)]\n",
        "  df_bad = df_sorted[-int(len(df) * ratio):]\n",
        "  return [(word, 1)  for word in df_good] + [(word, 0)  for word in df_bad]"
      ],
      "execution_count": 0,
      "outputs": []
    },
    {
      "cell_type": "code",
      "metadata": {
        "id": "naSYhHU4Dr6t",
        "colab_type": "code",
        "outputId": "6eed2d82-2fba-4f8b-e313-3b3146820e88",
        "colab": {
          "base_uri": "https://localhost:8080/",
          "height": 34
        }
      },
      "source": [
        "service_n_gram_scores == crop_and_score(service_n_grams)"
      ],
      "execution_count": 31,
      "outputs": [
        {
          "output_type": "execute_result",
          "data": {
            "text/plain": [
              "True"
            ]
          },
          "metadata": {
            "tags": []
          },
          "execution_count": 31
        }
      ]
    },
    {
      "cell_type": "code",
      "metadata": {
        "id": "cfEg9tfWEWwN",
        "colab_type": "code",
        "outputId": "1ef0c558-db69-4878-8a30-ba2cb8aadcc0",
        "colab": {
          "base_uri": "https://localhost:8080/",
          "height": 204
        }
      },
      "source": [
        "service_n_gram_scores_df = pd.DataFrame(service_n_gram_scores, columns =['lemma_POS', 'score']) \n",
        "service_n_gram_scores_df.tail()"
      ],
      "execution_count": 32,
      "outputs": [
        {
          "output_type": "execute_result",
          "data": {
            "text/html": [
              "<div>\n",
              "<style scoped>\n",
              "    .dataframe tbody tr th:only-of-type {\n",
              "        vertical-align: middle;\n",
              "    }\n",
              "\n",
              "    .dataframe tbody tr th {\n",
              "        vertical-align: top;\n",
              "    }\n",
              "\n",
              "    .dataframe thead th {\n",
              "        text-align: right;\n",
              "    }\n",
              "</style>\n",
              "<table border=\"1\" class=\"dataframe\">\n",
              "  <thead>\n",
              "    <tr style=\"text-align: right;\">\n",
              "      <th></th>\n",
              "      <th>lemma_POS</th>\n",
              "      <th>score</th>\n",
              "    </tr>\n",
              "  </thead>\n",
              "  <tbody>\n",
              "    <tr>\n",
              "      <th>161</th>\n",
              "      <td>место_NOUN проведение_NOUN для_ADP</td>\n",
              "      <td>0</td>\n",
              "    </tr>\n",
              "    <tr>\n",
              "      <th>162</th>\n",
              "      <td>место_NOUN город_NOUN</td>\n",
              "      <td>0</td>\n",
              "    </tr>\n",
              "    <tr>\n",
              "      <th>163</th>\n",
              "      <td>место_NOUN обслуживание_NOUN с_ADP</td>\n",
              "      <td>0</td>\n",
              "    </tr>\n",
              "    <tr>\n",
              "      <th>164</th>\n",
              "      <td>место_NOUN атмосфера_NOUN</td>\n",
              "      <td>0</td>\n",
              "    </tr>\n",
              "    <tr>\n",
              "      <th>165</th>\n",
              "      <td>место_NOUN район_NOUN для_ADP</td>\n",
              "      <td>0</td>\n",
              "    </tr>\n",
              "  </tbody>\n",
              "</table>\n",
              "</div>"
            ],
            "text/plain": [
              "                              lemma_POS  score\n",
              "161  место_NOUN проведение_NOUN для_ADP      0\n",
              "162               место_NOUN город_NOUN      0\n",
              "163  место_NOUN обслуживание_NOUN с_ADP      0\n",
              "164           место_NOUN атмосфера_NOUN      0\n",
              "165       место_NOUN район_NOUN для_ADP      0"
            ]
          },
          "metadata": {
            "tags": []
          },
          "execution_count": 32
        }
      ]
    },
    {
      "cell_type": "markdown",
      "metadata": {
        "id": "iv2LpJZ_CkdH",
        "colab_type": "text"
      },
      "source": [
        "#### food"
      ]
    },
    {
      "cell_type": "code",
      "metadata": {
        "id": "iYzjcmvWDEDw",
        "colab_type": "code",
        "outputId": "a76f2b51-6c79-4e50-9869-87ed483d9af2",
        "colab": {
          "base_uri": "https://localhost:8080/",
          "height": 204
        }
      },
      "source": [
        "food_n_gram_scores = crop_and_score(food_n_grams)\n",
        "food_n_gram_scores_df = pd.DataFrame(food_n_gram_scores, columns =['lemma_POS', 'score']) \n",
        "food_n_gram_scores_df.tail()"
      ],
      "execution_count": 33,
      "outputs": [
        {
          "output_type": "execute_result",
          "data": {
            "text/html": [
              "<div>\n",
              "<style scoped>\n",
              "    .dataframe tbody tr th:only-of-type {\n",
              "        vertical-align: middle;\n",
              "    }\n",
              "\n",
              "    .dataframe tbody tr th {\n",
              "        vertical-align: top;\n",
              "    }\n",
              "\n",
              "    .dataframe thead th {\n",
              "        text-align: right;\n",
              "    }\n",
              "</style>\n",
              "<table border=\"1\" class=\"dataframe\">\n",
              "  <thead>\n",
              "    <tr style=\"text-align: right;\">\n",
              "      <th></th>\n",
              "      <th>lemma_POS</th>\n",
              "      <th>score</th>\n",
              "    </tr>\n",
              "  </thead>\n",
              "  <tbody>\n",
              "    <tr>\n",
              "      <th>161</th>\n",
              "      <td>плохо_ADJ не_PART но_CCONJ</td>\n",
              "      <td>0</td>\n",
              "    </tr>\n",
              "    <tr>\n",
              "      <th>162</th>\n",
              "      <td>плохо_ADJ очень_ADV</td>\n",
              "      <td>0</td>\n",
              "    </tr>\n",
              "    <tr>\n",
              "      <th>163</th>\n",
              "      <td>плохо_ADJ не_PART</td>\n",
              "      <td>0</td>\n",
              "    </tr>\n",
              "    <tr>\n",
              "      <th>164</th>\n",
              "      <td>есть_VERB плохо_ADV</td>\n",
              "      <td>0</td>\n",
              "    </tr>\n",
              "    <tr>\n",
              "      <th>165</th>\n",
              "      <td>плохой_ADJ не_PART интерьер_NOUN</td>\n",
              "      <td>0</td>\n",
              "    </tr>\n",
              "  </tbody>\n",
              "</table>\n",
              "</div>"
            ],
            "text/plain": [
              "                            lemma_POS  score\n",
              "161        плохо_ADJ не_PART но_CCONJ      0\n",
              "162               плохо_ADJ очень_ADV      0\n",
              "163                 плохо_ADJ не_PART      0\n",
              "164               есть_VERB плохо_ADV      0\n",
              "165  плохой_ADJ не_PART интерьер_NOUN      0"
            ]
          },
          "metadata": {
            "tags": []
          },
          "execution_count": 33
        }
      ]
    },
    {
      "cell_type": "markdown",
      "metadata": {
        "id": "1EE4dvPHAV-r",
        "colab_type": "text"
      },
      "source": [
        "### CNN + vector"
      ]
    },
    {
      "cell_type": "code",
      "metadata": {
        "id": "xJHgwJZuEAlU",
        "colab_type": "code",
        "outputId": "23605398-b45a-43c3-b8ea-4d3ae4585fb4",
        "colab": {
          "base_uri": "https://localhost:8080/",
          "height": 204
        }
      },
      "source": [
        "service_combined_scores = crop_and_score(service_combined)\n",
        "service_combined_scores_df = pd.DataFrame(service_combined_scores, columns =['lemma_POS', 'score']) \n",
        "service_combined_scores_df.tail()"
      ],
      "execution_count": 34,
      "outputs": [
        {
          "output_type": "execute_result",
          "data": {
            "text/html": [
              "<div>\n",
              "<style scoped>\n",
              "    .dataframe tbody tr th:only-of-type {\n",
              "        vertical-align: middle;\n",
              "    }\n",
              "\n",
              "    .dataframe tbody tr th {\n",
              "        vertical-align: top;\n",
              "    }\n",
              "\n",
              "    .dataframe thead th {\n",
              "        text-align: right;\n",
              "    }\n",
              "</style>\n",
              "<table border=\"1\" class=\"dataframe\">\n",
              "  <thead>\n",
              "    <tr style=\"text-align: right;\">\n",
              "      <th></th>\n",
              "      <th>lemma_POS</th>\n",
              "      <th>score</th>\n",
              "    </tr>\n",
              "  </thead>\n",
              "  <tbody>\n",
              "    <tr>\n",
              "      <th>593</th>\n",
              "      <td>ласковый_ADJ</td>\n",
              "      <td>0</td>\n",
              "    </tr>\n",
              "    <tr>\n",
              "      <th>594</th>\n",
              "      <td>любезный_ADJ</td>\n",
              "      <td>0</td>\n",
              "    </tr>\n",
              "    <tr>\n",
              "      <th>595</th>\n",
              "      <td>дружелюбный_ADJ</td>\n",
              "      <td>0</td>\n",
              "    </tr>\n",
              "    <tr>\n",
              "      <th>596</th>\n",
              "      <td>радушный_ADJ</td>\n",
              "      <td>0</td>\n",
              "    </tr>\n",
              "    <tr>\n",
              "      <th>597</th>\n",
              "      <td>приветливый_ADJ</td>\n",
              "      <td>0</td>\n",
              "    </tr>\n",
              "  </tbody>\n",
              "</table>\n",
              "</div>"
            ],
            "text/plain": [
              "           lemma_POS  score\n",
              "593     ласковый_ADJ      0\n",
              "594     любезный_ADJ      0\n",
              "595  дружелюбный_ADJ      0\n",
              "596     радушный_ADJ      0\n",
              "597  приветливый_ADJ      0"
            ]
          },
          "metadata": {
            "tags": []
          },
          "execution_count": 34
        }
      ]
    },
    {
      "cell_type": "code",
      "metadata": {
        "id": "QeICNxJ0D72s",
        "colab_type": "code",
        "outputId": "6bb04f9d-ffd6-46c3-be89-4b8df6ebbeef",
        "colab": {
          "base_uri": "https://localhost:8080/",
          "height": 204
        }
      },
      "source": [
        "food_combined_scores = crop_and_score(food_combined)\n",
        "food_combined_scores_df = pd.DataFrame(food_combined_scores, columns =['lemma_POS', 'score']) \n",
        "food_combined_scores_df.tail()"
      ],
      "execution_count": 35,
      "outputs": [
        {
          "output_type": "execute_result",
          "data": {
            "text/html": [
              "<div>\n",
              "<style scoped>\n",
              "    .dataframe tbody tr th:only-of-type {\n",
              "        vertical-align: middle;\n",
              "    }\n",
              "\n",
              "    .dataframe tbody tr th {\n",
              "        vertical-align: top;\n",
              "    }\n",
              "\n",
              "    .dataframe thead th {\n",
              "        text-align: right;\n",
              "    }\n",
              "</style>\n",
              "<table border=\"1\" class=\"dataframe\">\n",
              "  <thead>\n",
              "    <tr style=\"text-align: right;\">\n",
              "      <th></th>\n",
              "      <th>lemma_POS</th>\n",
              "      <th>score</th>\n",
              "    </tr>\n",
              "  </thead>\n",
              "  <tbody>\n",
              "    <tr>\n",
              "      <th>619</th>\n",
              "      <td>необыкновенный_ADJ</td>\n",
              "      <td>0</td>\n",
              "    </tr>\n",
              "    <tr>\n",
              "      <th>620</th>\n",
              "      <td>великолепный_ADJ</td>\n",
              "      <td>0</td>\n",
              "    </tr>\n",
              "    <tr>\n",
              "      <th>621</th>\n",
              "      <td>живописный_ADJ</td>\n",
              "      <td>0</td>\n",
              "    </tr>\n",
              "    <tr>\n",
              "      <th>622</th>\n",
              "      <td>обширный_ADJ</td>\n",
              "      <td>0</td>\n",
              "    </tr>\n",
              "    <tr>\n",
              "      <th>623</th>\n",
              "      <td>величественный_ADJ</td>\n",
              "      <td>0</td>\n",
              "    </tr>\n",
              "  </tbody>\n",
              "</table>\n",
              "</div>"
            ],
            "text/plain": [
              "              lemma_POS  score\n",
              "619  необыкновенный_ADJ      0\n",
              "620    великолепный_ADJ      0\n",
              "621      живописный_ADJ      0\n",
              "622        обширный_ADJ      0\n",
              "623  величественный_ADJ      0"
            ]
          },
          "metadata": {
            "tags": []
          },
          "execution_count": 35
        }
      ]
    },
    {
      "cell_type": "markdown",
      "metadata": {
        "id": "p-iu0UfpFlPh",
        "colab_type": "text"
      },
      "source": [
        "## Compare graph & combined\n",
        "\n",
        "**CONTRADICTIONS WILL BE RESOLVED BY HAND**"
      ]
    },
    {
      "cell_type": "code",
      "metadata": {
        "id": "Qn8a29ZfLBjf",
        "colab_type": "code",
        "colab": {}
      },
      "source": [
        "def extend_vocabulary(scores, vocabulary):\n",
        "  scores_dict = dict()\n",
        "  for word, score in scores:\n",
        "    scores_dict[word] = score\n",
        "  for word in vocabulary:\n",
        "    if word not in scores_dict:\n",
        "      scores_dict[word] = np.nan\n",
        "  return [el[1] for el in sorted(list(scores_dict.items()), key = lambda el: el[0])]"
      ],
      "execution_count": 0,
      "outputs": []
    },
    {
      "cell_type": "markdown",
      "metadata": {
        "id": "mVHW4-e4SI1q",
        "colab_type": "text"
      },
      "source": [
        "### Service"
      ]
    },
    {
      "cell_type": "code",
      "metadata": {
        "colab_type": "code",
        "id": "7hPxGSteSm-3",
        "colab": {}
      },
      "source": [
        "vocab_service = sorted(list(set([el[0] for el in service_combined_scores + service_graph_scores])))"
      ],
      "execution_count": 0,
      "outputs": []
    },
    {
      "cell_type": "code",
      "metadata": {
        "colab_type": "code",
        "outputId": "abac2f09-4603-4c0f-8510-4d3ce0198b4b",
        "id": "wbtiND5qSm-8",
        "colab": {
          "base_uri": "https://localhost:8080/",
          "height": 204
        }
      },
      "source": [
        "service_df = pd.DataFrame(columns=['graph', 'combined'], index=vocab_service)\n",
        "service_df['graph'] = extend_vocabulary(service_graph_scores, vocab_service)\n",
        "service_df['combined'] = extend_vocabulary(service_combined_scores, vocab_service)\n",
        "service_df.tail()"
      ],
      "execution_count": 38,
      "outputs": [
        {
          "output_type": "execute_result",
          "data": {
            "text/html": [
              "<div>\n",
              "<style scoped>\n",
              "    .dataframe tbody tr th:only-of-type {\n",
              "        vertical-align: middle;\n",
              "    }\n",
              "\n",
              "    .dataframe tbody tr th {\n",
              "        vertical-align: top;\n",
              "    }\n",
              "\n",
              "    .dataframe thead th {\n",
              "        text-align: right;\n",
              "    }\n",
              "</style>\n",
              "<table border=\"1\" class=\"dataframe\">\n",
              "  <thead>\n",
              "    <tr style=\"text-align: right;\">\n",
              "      <th></th>\n",
              "      <th>graph</th>\n",
              "      <th>combined</th>\n",
              "    </tr>\n",
              "  </thead>\n",
              "  <tbody>\n",
              "    <tr>\n",
              "      <th>японский_ADJ</th>\n",
              "      <td>0.0</td>\n",
              "      <td>NaN</td>\n",
              "    </tr>\n",
              "    <tr>\n",
              "      <th>японско-минималистический_ADJ</th>\n",
              "      <td>0.0</td>\n",
              "      <td>NaN</td>\n",
              "    </tr>\n",
              "    <tr>\n",
              "      <th>япошка_NOUN</th>\n",
              "      <td>NaN</td>\n",
              "      <td>1.0</td>\n",
              "    </tr>\n",
              "    <tr>\n",
              "      <th>яркий_ADJ</th>\n",
              "      <td>1.0</td>\n",
              "      <td>NaN</td>\n",
              "    </tr>\n",
              "    <tr>\n",
              "      <th>ясный_ADJ</th>\n",
              "      <td>0.0</td>\n",
              "      <td>NaN</td>\n",
              "    </tr>\n",
              "  </tbody>\n",
              "</table>\n",
              "</div>"
            ],
            "text/plain": [
              "                               graph  combined\n",
              "японский_ADJ                     0.0       NaN\n",
              "японско-минималистический_ADJ    0.0       NaN\n",
              "япошка_NOUN                      NaN       1.0\n",
              "яркий_ADJ                        1.0       NaN\n",
              "ясный_ADJ                        0.0       NaN"
            ]
          },
          "metadata": {
            "tags": []
          },
          "execution_count": 38
        }
      ]
    },
    {
      "cell_type": "code",
      "metadata": {
        "colab_type": "code",
        "outputId": "fd4c4cee-fe77-4fb4-8ba9-84dd59f597e5",
        "id": "8UN4TTgBSm-_",
        "colab": {
          "base_uri": "https://localhost:8080/",
          "height": 948
        }
      },
      "source": [
        "service_df['ok'] = service_df['graph'] == service_df['combined']\n",
        "service_df[service_df['ok'] == False].dropna()"
      ],
      "execution_count": 39,
      "outputs": [
        {
          "output_type": "execute_result",
          "data": {
            "text/html": [
              "<div>\n",
              "<style scoped>\n",
              "    .dataframe tbody tr th:only-of-type {\n",
              "        vertical-align: middle;\n",
              "    }\n",
              "\n",
              "    .dataframe tbody tr th {\n",
              "        vertical-align: top;\n",
              "    }\n",
              "\n",
              "    .dataframe thead th {\n",
              "        text-align: right;\n",
              "    }\n",
              "</style>\n",
              "<table border=\"1\" class=\"dataframe\">\n",
              "  <thead>\n",
              "    <tr style=\"text-align: right;\">\n",
              "      <th></th>\n",
              "      <th>graph</th>\n",
              "      <th>combined</th>\n",
              "      <th>ok</th>\n",
              "    </tr>\n",
              "  </thead>\n",
              "  <tbody>\n",
              "    <tr>\n",
              "      <th>ароматный_ADJ</th>\n",
              "      <td>1.0</td>\n",
              "      <td>0.0</td>\n",
              "      <td>False</td>\n",
              "    </tr>\n",
              "    <tr>\n",
              "      <th>вежливый_ADJ</th>\n",
              "      <td>1.0</td>\n",
              "      <td>0.0</td>\n",
              "      <td>False</td>\n",
              "    </tr>\n",
              "    <tr>\n",
              "      <th>веселый_ADJ</th>\n",
              "      <td>1.0</td>\n",
              "      <td>0.0</td>\n",
              "      <td>False</td>\n",
              "    </tr>\n",
              "    <tr>\n",
              "      <th>внимательный_ADJ</th>\n",
              "      <td>1.0</td>\n",
              "      <td>0.0</td>\n",
              "      <td>False</td>\n",
              "    </tr>\n",
              "    <tr>\n",
              "      <th>доброжелательный_ADJ</th>\n",
              "      <td>1.0</td>\n",
              "      <td>0.0</td>\n",
              "      <td>False</td>\n",
              "    </tr>\n",
              "    <tr>\n",
              "      <th>дорогой_ADJ</th>\n",
              "      <td>1.0</td>\n",
              "      <td>0.0</td>\n",
              "      <td>False</td>\n",
              "    </tr>\n",
              "    <tr>\n",
              "      <th>дружелюбный_ADJ</th>\n",
              "      <td>1.0</td>\n",
              "      <td>0.0</td>\n",
              "      <td>False</td>\n",
              "    </tr>\n",
              "    <tr>\n",
              "      <th>интересный_ADJ</th>\n",
              "      <td>1.0</td>\n",
              "      <td>0.0</td>\n",
              "      <td>False</td>\n",
              "    </tr>\n",
              "    <tr>\n",
              "      <th>комфортный_ADJ</th>\n",
              "      <td>1.0</td>\n",
              "      <td>0.0</td>\n",
              "      <td>False</td>\n",
              "    </tr>\n",
              "    <tr>\n",
              "      <th>красивый_ADJ</th>\n",
              "      <td>1.0</td>\n",
              "      <td>0.0</td>\n",
              "      <td>False</td>\n",
              "    </tr>\n",
              "    <tr>\n",
              "      <th>легкий_ADJ</th>\n",
              "      <td>1.0</td>\n",
              "      <td>0.0</td>\n",
              "      <td>False</td>\n",
              "    </tr>\n",
              "    <tr>\n",
              "      <th>любезный_ADJ</th>\n",
              "      <td>1.0</td>\n",
              "      <td>0.0</td>\n",
              "      <td>False</td>\n",
              "    </tr>\n",
              "    <tr>\n",
              "      <th>мягкий_ADJ</th>\n",
              "      <td>1.0</td>\n",
              "      <td>0.0</td>\n",
              "      <td>False</td>\n",
              "    </tr>\n",
              "    <tr>\n",
              "      <th>недорогой_ADJ</th>\n",
              "      <td>1.0</td>\n",
              "      <td>0.0</td>\n",
              "      <td>False</td>\n",
              "    </tr>\n",
              "    <tr>\n",
              "      <th>ненавязчивый_ADJ</th>\n",
              "      <td>1.0</td>\n",
              "      <td>0.0</td>\n",
              "      <td>False</td>\n",
              "    </tr>\n",
              "    <tr>\n",
              "      <th>обходительный_ADJ</th>\n",
              "      <td>1.0</td>\n",
              "      <td>0.0</td>\n",
              "      <td>False</td>\n",
              "    </tr>\n",
              "    <tr>\n",
              "      <th>оригинальный_ADJ</th>\n",
              "      <td>1.0</td>\n",
              "      <td>0.0</td>\n",
              "      <td>False</td>\n",
              "    </tr>\n",
              "    <tr>\n",
              "      <th>отзывчивый_ADJ</th>\n",
              "      <td>1.0</td>\n",
              "      <td>0.0</td>\n",
              "      <td>False</td>\n",
              "    </tr>\n",
              "    <tr>\n",
              "      <th>предупредительный_ADJ</th>\n",
              "      <td>1.0</td>\n",
              "      <td>0.0</td>\n",
              "      <td>False</td>\n",
              "    </tr>\n",
              "    <tr>\n",
              "      <th>приветливый_ADJ</th>\n",
              "      <td>1.0</td>\n",
              "      <td>0.0</td>\n",
              "      <td>False</td>\n",
              "    </tr>\n",
              "    <tr>\n",
              "      <th>светлый_ADJ</th>\n",
              "      <td>1.0</td>\n",
              "      <td>0.0</td>\n",
              "      <td>False</td>\n",
              "    </tr>\n",
              "    <tr>\n",
              "      <th>симпатичный_ADJ</th>\n",
              "      <td>1.0</td>\n",
              "      <td>0.0</td>\n",
              "      <td>False</td>\n",
              "    </tr>\n",
              "    <tr>\n",
              "      <th>спокойный_ADJ</th>\n",
              "      <td>1.0</td>\n",
              "      <td>0.0</td>\n",
              "      <td>False</td>\n",
              "    </tr>\n",
              "    <tr>\n",
              "      <th>теплый_ADJ</th>\n",
              "      <td>1.0</td>\n",
              "      <td>0.0</td>\n",
              "      <td>False</td>\n",
              "    </tr>\n",
              "    <tr>\n",
              "      <th>тихий_ADJ</th>\n",
              "      <td>1.0</td>\n",
              "      <td>0.0</td>\n",
              "      <td>False</td>\n",
              "    </tr>\n",
              "    <tr>\n",
              "      <th>удивительный_ADJ</th>\n",
              "      <td>1.0</td>\n",
              "      <td>0.0</td>\n",
              "      <td>False</td>\n",
              "    </tr>\n",
              "    <tr>\n",
              "      <th>удобный_ADJ</th>\n",
              "      <td>1.0</td>\n",
              "      <td>0.0</td>\n",
              "      <td>False</td>\n",
              "    </tr>\n",
              "    <tr>\n",
              "      <th>уютно_ADJ</th>\n",
              "      <td>1.0</td>\n",
              "      <td>0.0</td>\n",
              "      <td>False</td>\n",
              "    </tr>\n",
              "    <tr>\n",
              "      <th>щедрый_ADJ</th>\n",
              "      <td>1.0</td>\n",
              "      <td>0.0</td>\n",
              "      <td>False</td>\n",
              "    </tr>\n",
              "  </tbody>\n",
              "</table>\n",
              "</div>"
            ],
            "text/plain": [
              "                       graph  combined     ok\n",
              "ароматный_ADJ            1.0       0.0  False\n",
              "вежливый_ADJ             1.0       0.0  False\n",
              "веселый_ADJ              1.0       0.0  False\n",
              "внимательный_ADJ         1.0       0.0  False\n",
              "доброжелательный_ADJ     1.0       0.0  False\n",
              "дорогой_ADJ              1.0       0.0  False\n",
              "дружелюбный_ADJ          1.0       0.0  False\n",
              "интересный_ADJ           1.0       0.0  False\n",
              "комфортный_ADJ           1.0       0.0  False\n",
              "красивый_ADJ             1.0       0.0  False\n",
              "легкий_ADJ               1.0       0.0  False\n",
              "любезный_ADJ             1.0       0.0  False\n",
              "мягкий_ADJ               1.0       0.0  False\n",
              "недорогой_ADJ            1.0       0.0  False\n",
              "ненавязчивый_ADJ         1.0       0.0  False\n",
              "обходительный_ADJ        1.0       0.0  False\n",
              "оригинальный_ADJ         1.0       0.0  False\n",
              "отзывчивый_ADJ           1.0       0.0  False\n",
              "предупредительный_ADJ    1.0       0.0  False\n",
              "приветливый_ADJ          1.0       0.0  False\n",
              "светлый_ADJ              1.0       0.0  False\n",
              "симпатичный_ADJ          1.0       0.0  False\n",
              "спокойный_ADJ            1.0       0.0  False\n",
              "теплый_ADJ               1.0       0.0  False\n",
              "тихий_ADJ                1.0       0.0  False\n",
              "удивительный_ADJ         1.0       0.0  False\n",
              "удобный_ADJ              1.0       0.0  False\n",
              "уютно_ADJ                1.0       0.0  False\n",
              "щедрый_ADJ               1.0       0.0  False"
            ]
          },
          "metadata": {
            "tags": []
          },
          "execution_count": 39
        }
      ]
    },
    {
      "cell_type": "code",
      "metadata": {
        "id": "fnRu4osfVHbL",
        "colab_type": "code",
        "outputId": "00c6c4f6-31f8-4182-c687-78721009c2c8",
        "colab": {
          "base_uri": "https://localhost:8080/",
          "height": 510
        }
      },
      "source": [
        "resolve_service = list(service_df[service_df['ok'] == False].dropna().index)\n",
        "resolve_service"
      ],
      "execution_count": 40,
      "outputs": [
        {
          "output_type": "execute_result",
          "data": {
            "text/plain": [
              "['ароматный_ADJ',\n",
              " 'вежливый_ADJ',\n",
              " 'веселый_ADJ',\n",
              " 'внимательный_ADJ',\n",
              " 'доброжелательный_ADJ',\n",
              " 'дорогой_ADJ',\n",
              " 'дружелюбный_ADJ',\n",
              " 'интересный_ADJ',\n",
              " 'комфортный_ADJ',\n",
              " 'красивый_ADJ',\n",
              " 'легкий_ADJ',\n",
              " 'любезный_ADJ',\n",
              " 'мягкий_ADJ',\n",
              " 'недорогой_ADJ',\n",
              " 'ненавязчивый_ADJ',\n",
              " 'обходительный_ADJ',\n",
              " 'оригинальный_ADJ',\n",
              " 'отзывчивый_ADJ',\n",
              " 'предупредительный_ADJ',\n",
              " 'приветливый_ADJ',\n",
              " 'светлый_ADJ',\n",
              " 'симпатичный_ADJ',\n",
              " 'спокойный_ADJ',\n",
              " 'теплый_ADJ',\n",
              " 'тихий_ADJ',\n",
              " 'удивительный_ADJ',\n",
              " 'удобный_ADJ',\n",
              " 'уютно_ADJ',\n",
              " 'щедрый_ADJ']"
            ]
          },
          "metadata": {
            "tags": []
          },
          "execution_count": 40
        }
      ]
    },
    {
      "cell_type": "code",
      "metadata": {
        "id": "xM2cQ-fTVVcn",
        "colab_type": "code",
        "outputId": "412d3d3b-a403-46f2-c808-794ed5bb4db2",
        "colab": {
          "base_uri": "https://localhost:8080/",
          "height": 204
        }
      },
      "source": [
        "ok_service_df = service_df.drop(index=resolve_service).fillna(0)\n",
        "ok_service_df = pd.DataFrame(ok_service_df['graph'] + ok_service_df['combined'], columns=['correct'])\n",
        "ok_service_df.tail()"
      ],
      "execution_count": 41,
      "outputs": [
        {
          "output_type": "execute_result",
          "data": {
            "text/html": [
              "<div>\n",
              "<style scoped>\n",
              "    .dataframe tbody tr th:only-of-type {\n",
              "        vertical-align: middle;\n",
              "    }\n",
              "\n",
              "    .dataframe tbody tr th {\n",
              "        vertical-align: top;\n",
              "    }\n",
              "\n",
              "    .dataframe thead th {\n",
              "        text-align: right;\n",
              "    }\n",
              "</style>\n",
              "<table border=\"1\" class=\"dataframe\">\n",
              "  <thead>\n",
              "    <tr style=\"text-align: right;\">\n",
              "      <th></th>\n",
              "      <th>correct</th>\n",
              "    </tr>\n",
              "  </thead>\n",
              "  <tbody>\n",
              "    <tr>\n",
              "      <th>японский_ADJ</th>\n",
              "      <td>0.0</td>\n",
              "    </tr>\n",
              "    <tr>\n",
              "      <th>японско-минималистический_ADJ</th>\n",
              "      <td>0.0</td>\n",
              "    </tr>\n",
              "    <tr>\n",
              "      <th>япошка_NOUN</th>\n",
              "      <td>1.0</td>\n",
              "    </tr>\n",
              "    <tr>\n",
              "      <th>яркий_ADJ</th>\n",
              "      <td>1.0</td>\n",
              "    </tr>\n",
              "    <tr>\n",
              "      <th>ясный_ADJ</th>\n",
              "      <td>0.0</td>\n",
              "    </tr>\n",
              "  </tbody>\n",
              "</table>\n",
              "</div>"
            ],
            "text/plain": [
              "                               correct\n",
              "японский_ADJ                       0.0\n",
              "японско-минималистический_ADJ      0.0\n",
              "япошка_NOUN                        1.0\n",
              "яркий_ADJ                          1.0\n",
              "ясный_ADJ                          0.0"
            ]
          },
          "metadata": {
            "tags": []
          },
          "execution_count": 41
        }
      ]
    },
    {
      "cell_type": "code",
      "metadata": {
        "id": "_UIW0yyKW9mK",
        "colab_type": "code",
        "outputId": "38e24d77-bb41-4362-b7d0-e74761374569",
        "colab": {
          "base_uri": "https://localhost:8080/",
          "height": 204
        }
      },
      "source": [
        "resolved_service_df = pd.DataFrame([1.0]*len(resolve_service), columns=['correct'], index=resolve_service)\n",
        "resolved_service_df.tail()"
      ],
      "execution_count": 42,
      "outputs": [
        {
          "output_type": "execute_result",
          "data": {
            "text/html": [
              "<div>\n",
              "<style scoped>\n",
              "    .dataframe tbody tr th:only-of-type {\n",
              "        vertical-align: middle;\n",
              "    }\n",
              "\n",
              "    .dataframe tbody tr th {\n",
              "        vertical-align: top;\n",
              "    }\n",
              "\n",
              "    .dataframe thead th {\n",
              "        text-align: right;\n",
              "    }\n",
              "</style>\n",
              "<table border=\"1\" class=\"dataframe\">\n",
              "  <thead>\n",
              "    <tr style=\"text-align: right;\">\n",
              "      <th></th>\n",
              "      <th>correct</th>\n",
              "    </tr>\n",
              "  </thead>\n",
              "  <tbody>\n",
              "    <tr>\n",
              "      <th>тихий_ADJ</th>\n",
              "      <td>1.0</td>\n",
              "    </tr>\n",
              "    <tr>\n",
              "      <th>удивительный_ADJ</th>\n",
              "      <td>1.0</td>\n",
              "    </tr>\n",
              "    <tr>\n",
              "      <th>удобный_ADJ</th>\n",
              "      <td>1.0</td>\n",
              "    </tr>\n",
              "    <tr>\n",
              "      <th>уютно_ADJ</th>\n",
              "      <td>1.0</td>\n",
              "    </tr>\n",
              "    <tr>\n",
              "      <th>щедрый_ADJ</th>\n",
              "      <td>1.0</td>\n",
              "    </tr>\n",
              "  </tbody>\n",
              "</table>\n",
              "</div>"
            ],
            "text/plain": [
              "                  correct\n",
              "тихий_ADJ             1.0\n",
              "удивительный_ADJ      1.0\n",
              "удобный_ADJ           1.0\n",
              "уютно_ADJ             1.0\n",
              "щедрый_ADJ            1.0"
            ]
          },
          "metadata": {
            "tags": []
          },
          "execution_count": 42
        }
      ]
    },
    {
      "cell_type": "code",
      "metadata": {
        "id": "bb4s2g-UZHc_",
        "colab_type": "code",
        "outputId": "192cea45-9415-4ace-c0a4-eaca81cd1906",
        "colab": {
          "base_uri": "https://localhost:8080/",
          "height": 419
        }
      },
      "source": [
        "ok_service_df.append(resolved_service_df)"
      ],
      "execution_count": 43,
      "outputs": [
        {
          "output_type": "execute_result",
          "data": {
            "text/html": [
              "<div>\n",
              "<style scoped>\n",
              "    .dataframe tbody tr th:only-of-type {\n",
              "        vertical-align: middle;\n",
              "    }\n",
              "\n",
              "    .dataframe tbody tr th {\n",
              "        vertical-align: top;\n",
              "    }\n",
              "\n",
              "    .dataframe thead th {\n",
              "        text-align: right;\n",
              "    }\n",
              "</style>\n",
              "<table border=\"1\" class=\"dataframe\">\n",
              "  <thead>\n",
              "    <tr style=\"text-align: right;\">\n",
              "      <th></th>\n",
              "      <th>correct</th>\n",
              "    </tr>\n",
              "  </thead>\n",
              "  <tbody>\n",
              "    <tr>\n",
              "      <th>авторский_ADJ</th>\n",
              "      <td>0.0</td>\n",
              "    </tr>\n",
              "    <tr>\n",
              "      <th>адекватный_ADJ</th>\n",
              "      <td>0.0</td>\n",
              "    </tr>\n",
              "    <tr>\n",
              "      <th>адоптировать_ADJ</th>\n",
              "      <td>0.0</td>\n",
              "    </tr>\n",
              "    <tr>\n",
              "      <th>азиатский_ADJ</th>\n",
              "      <td>0.0</td>\n",
              "    </tr>\n",
              "    <tr>\n",
              "      <th>аккуратненький_ADJ</th>\n",
              "      <td>0.0</td>\n",
              "    </tr>\n",
              "    <tr>\n",
              "      <th>...</th>\n",
              "      <td>...</td>\n",
              "    </tr>\n",
              "    <tr>\n",
              "      <th>тихий_ADJ</th>\n",
              "      <td>1.0</td>\n",
              "    </tr>\n",
              "    <tr>\n",
              "      <th>удивительный_ADJ</th>\n",
              "      <td>1.0</td>\n",
              "    </tr>\n",
              "    <tr>\n",
              "      <th>удобный_ADJ</th>\n",
              "      <td>1.0</td>\n",
              "    </tr>\n",
              "    <tr>\n",
              "      <th>уютно_ADJ</th>\n",
              "      <td>1.0</td>\n",
              "    </tr>\n",
              "    <tr>\n",
              "      <th>щедрый_ADJ</th>\n",
              "      <td>1.0</td>\n",
              "    </tr>\n",
              "  </tbody>\n",
              "</table>\n",
              "<p>1398 rows × 1 columns</p>\n",
              "</div>"
            ],
            "text/plain": [
              "                    correct\n",
              "авторский_ADJ           0.0\n",
              "адекватный_ADJ          0.0\n",
              "адоптировать_ADJ        0.0\n",
              "азиатский_ADJ           0.0\n",
              "аккуратненький_ADJ      0.0\n",
              "...                     ...\n",
              "тихий_ADJ               1.0\n",
              "удивительный_ADJ        1.0\n",
              "удобный_ADJ             1.0\n",
              "уютно_ADJ               1.0\n",
              "щедрый_ADJ              1.0\n",
              "\n",
              "[1398 rows x 1 columns]"
            ]
          },
          "metadata": {
            "tags": []
          },
          "execution_count": 43
        }
      ]
    },
    {
      "cell_type": "code",
      "metadata": {
        "id": "dXplmtPkZ0ya",
        "colab_type": "code",
        "colab": {}
      },
      "source": [
        "ok_service_scores = [tuple(r) for r in ok_service_df.append(resolved_service_df).reset_index().values]"
      ],
      "execution_count": 0,
      "outputs": []
    },
    {
      "cell_type": "markdown",
      "metadata": {
        "id": "_DxhOS9xSDgn",
        "colab_type": "text"
      },
      "source": [
        "### Food"
      ]
    },
    {
      "cell_type": "code",
      "metadata": {
        "id": "wJ4IxeQ0GSEO",
        "colab_type": "code",
        "colab": {}
      },
      "source": [
        "vocab_food = sorted(list(set([el[0] for el in food_combined_scores + food_graph_scores])))"
      ],
      "execution_count": 0,
      "outputs": []
    },
    {
      "cell_type": "code",
      "metadata": {
        "id": "GYXS8gIVOc-z",
        "colab_type": "code",
        "outputId": "fc369a39-e1bb-4b4e-b19d-4c18c502cd2e",
        "colab": {
          "base_uri": "https://localhost:8080/",
          "height": 204
        }
      },
      "source": [
        "food_df = pd.DataFrame(columns=['graph', 'combined'], index=vocab_food)\n",
        "food_df['graph'] = extend_vocabulary(food_graph_scores, vocab_food)\n",
        "food_df['combined'] = extend_vocabulary(food_combined_scores, vocab_food)\n",
        "food_df.tail()"
      ],
      "execution_count": 46,
      "outputs": [
        {
          "output_type": "execute_result",
          "data": {
            "text/html": [
              "<div>\n",
              "<style scoped>\n",
              "    .dataframe tbody tr th:only-of-type {\n",
              "        vertical-align: middle;\n",
              "    }\n",
              "\n",
              "    .dataframe tbody tr th {\n",
              "        vertical-align: top;\n",
              "    }\n",
              "\n",
              "    .dataframe thead th {\n",
              "        text-align: right;\n",
              "    }\n",
              "</style>\n",
              "<table border=\"1\" class=\"dataframe\">\n",
              "  <thead>\n",
              "    <tr style=\"text-align: right;\">\n",
              "      <th></th>\n",
              "      <th>graph</th>\n",
              "      <th>combined</th>\n",
              "    </tr>\n",
              "  </thead>\n",
              "  <tbody>\n",
              "    <tr>\n",
              "      <th>японский_ADJ</th>\n",
              "      <td>0.0</td>\n",
              "      <td>NaN</td>\n",
              "    </tr>\n",
              "    <tr>\n",
              "      <th>японско-минималистический_ADJ</th>\n",
              "      <td>0.0</td>\n",
              "      <td>NaN</td>\n",
              "    </tr>\n",
              "    <tr>\n",
              "      <th>яркий_ADJ</th>\n",
              "      <td>1.0</td>\n",
              "      <td>0.0</td>\n",
              "    </tr>\n",
              "    <tr>\n",
              "      <th>ярусный_ADJ</th>\n",
              "      <td>NaN</td>\n",
              "      <td>0.0</td>\n",
              "    </tr>\n",
              "    <tr>\n",
              "      <th>ясный_ADJ</th>\n",
              "      <td>0.0</td>\n",
              "      <td>NaN</td>\n",
              "    </tr>\n",
              "  </tbody>\n",
              "</table>\n",
              "</div>"
            ],
            "text/plain": [
              "                               graph  combined\n",
              "японский_ADJ                     0.0       NaN\n",
              "японско-минималистический_ADJ    0.0       NaN\n",
              "яркий_ADJ                        1.0       0.0\n",
              "ярусный_ADJ                      NaN       0.0\n",
              "ясный_ADJ                        0.0       NaN"
            ]
          },
          "metadata": {
            "tags": []
          },
          "execution_count": 46
        }
      ]
    },
    {
      "cell_type": "code",
      "metadata": {
        "id": "d5VLNnhqQOrF",
        "colab_type": "code",
        "outputId": "46036afa-1df2-4a4b-f406-c2892422ed02",
        "colab": {
          "base_uri": "https://localhost:8080/",
          "height": 669
        }
      },
      "source": [
        "food_df['ok'] = food_df['graph'] == food_df['combined']\n",
        "food_df[food_df['ok'] == False].dropna()"
      ],
      "execution_count": 47,
      "outputs": [
        {
          "output_type": "execute_result",
          "data": {
            "text/html": [
              "<div>\n",
              "<style scoped>\n",
              "    .dataframe tbody tr th:only-of-type {\n",
              "        vertical-align: middle;\n",
              "    }\n",
              "\n",
              "    .dataframe tbody tr th {\n",
              "        vertical-align: top;\n",
              "    }\n",
              "\n",
              "    .dataframe thead th {\n",
              "        text-align: right;\n",
              "    }\n",
              "</style>\n",
              "<table border=\"1\" class=\"dataframe\">\n",
              "  <thead>\n",
              "    <tr style=\"text-align: right;\">\n",
              "      <th></th>\n",
              "      <th>graph</th>\n",
              "      <th>combined</th>\n",
              "      <th>ok</th>\n",
              "    </tr>\n",
              "  </thead>\n",
              "  <tbody>\n",
              "    <tr>\n",
              "      <th>глупо_ADJ</th>\n",
              "      <td>0.0</td>\n",
              "      <td>1.0</td>\n",
              "      <td>False</td>\n",
              "    </tr>\n",
              "    <tr>\n",
              "      <th>голодный_ADJ</th>\n",
              "      <td>0.0</td>\n",
              "      <td>1.0</td>\n",
              "      <td>False</td>\n",
              "    </tr>\n",
              "    <tr>\n",
              "      <th>дурной_ADJ</th>\n",
              "      <td>0.0</td>\n",
              "      <td>1.0</td>\n",
              "      <td>False</td>\n",
              "    </tr>\n",
              "    <tr>\n",
              "      <th>замечательный_ADJ</th>\n",
              "      <td>1.0</td>\n",
              "      <td>0.0</td>\n",
              "      <td>False</td>\n",
              "    </tr>\n",
              "    <tr>\n",
              "      <th>злой_ADJ</th>\n",
              "      <td>0.0</td>\n",
              "      <td>1.0</td>\n",
              "      <td>False</td>\n",
              "    </tr>\n",
              "    <tr>\n",
              "      <th>невкусно_ADJ</th>\n",
              "      <td>0.0</td>\n",
              "      <td>1.0</td>\n",
              "      <td>False</td>\n",
              "    </tr>\n",
              "    <tr>\n",
              "      <th>невкусный_ADJ</th>\n",
              "      <td>0.0</td>\n",
              "      <td>1.0</td>\n",
              "      <td>False</td>\n",
              "    </tr>\n",
              "    <tr>\n",
              "      <th>незабываемый_ADJ</th>\n",
              "      <td>1.0</td>\n",
              "      <td>0.0</td>\n",
              "      <td>False</td>\n",
              "    </tr>\n",
              "    <tr>\n",
              "      <th>необычный_ADJ</th>\n",
              "      <td>1.0</td>\n",
              "      <td>0.0</td>\n",
              "      <td>False</td>\n",
              "    </tr>\n",
              "    <tr>\n",
              "      <th>несъедобный_ADJ</th>\n",
              "      <td>0.0</td>\n",
              "      <td>1.0</td>\n",
              "      <td>False</td>\n",
              "    </tr>\n",
              "    <tr>\n",
              "      <th>нормально_ADJ</th>\n",
              "      <td>0.0</td>\n",
              "      <td>1.0</td>\n",
              "      <td>False</td>\n",
              "    </tr>\n",
              "    <tr>\n",
              "      <th>обидный_ADJ</th>\n",
              "      <td>0.0</td>\n",
              "      <td>1.0</td>\n",
              "      <td>False</td>\n",
              "    </tr>\n",
              "    <tr>\n",
              "      <th>оригинальный_ADJ</th>\n",
              "      <td>1.0</td>\n",
              "      <td>0.0</td>\n",
              "      <td>False</td>\n",
              "    </tr>\n",
              "    <tr>\n",
              "      <th>отвратительно_ADJ</th>\n",
              "      <td>0.0</td>\n",
              "      <td>1.0</td>\n",
              "      <td>False</td>\n",
              "    </tr>\n",
              "    <tr>\n",
              "      <th>плохо_ADJ</th>\n",
              "      <td>0.0</td>\n",
              "      <td>1.0</td>\n",
              "      <td>False</td>\n",
              "    </tr>\n",
              "    <tr>\n",
              "      <th>плохой_ADJ</th>\n",
              "      <td>0.0</td>\n",
              "      <td>1.0</td>\n",
              "      <td>False</td>\n",
              "    </tr>\n",
              "    <tr>\n",
              "      <th>удивительный_ADJ</th>\n",
              "      <td>1.0</td>\n",
              "      <td>0.0</td>\n",
              "      <td>False</td>\n",
              "    </tr>\n",
              "    <tr>\n",
              "      <th>хороший_ADJ</th>\n",
              "      <td>0.0</td>\n",
              "      <td>1.0</td>\n",
              "      <td>False</td>\n",
              "    </tr>\n",
              "    <tr>\n",
              "      <th>хорошо_ADJ</th>\n",
              "      <td>0.0</td>\n",
              "      <td>1.0</td>\n",
              "      <td>False</td>\n",
              "    </tr>\n",
              "    <tr>\n",
              "      <th>яркий_ADJ</th>\n",
              "      <td>1.0</td>\n",
              "      <td>0.0</td>\n",
              "      <td>False</td>\n",
              "    </tr>\n",
              "  </tbody>\n",
              "</table>\n",
              "</div>"
            ],
            "text/plain": [
              "                   graph  combined     ok\n",
              "глупо_ADJ            0.0       1.0  False\n",
              "голодный_ADJ         0.0       1.0  False\n",
              "дурной_ADJ           0.0       1.0  False\n",
              "замечательный_ADJ    1.0       0.0  False\n",
              "злой_ADJ             0.0       1.0  False\n",
              "невкусно_ADJ         0.0       1.0  False\n",
              "невкусный_ADJ        0.0       1.0  False\n",
              "незабываемый_ADJ     1.0       0.0  False\n",
              "необычный_ADJ        1.0       0.0  False\n",
              "несъедобный_ADJ      0.0       1.0  False\n",
              "нормально_ADJ        0.0       1.0  False\n",
              "обидный_ADJ          0.0       1.0  False\n",
              "оригинальный_ADJ     1.0       0.0  False\n",
              "отвратительно_ADJ    0.0       1.0  False\n",
              "плохо_ADJ            0.0       1.0  False\n",
              "плохой_ADJ           0.0       1.0  False\n",
              "удивительный_ADJ     1.0       0.0  False\n",
              "хороший_ADJ          0.0       1.0  False\n",
              "хорошо_ADJ           0.0       1.0  False\n",
              "яркий_ADJ            1.0       0.0  False"
            ]
          },
          "metadata": {
            "tags": []
          },
          "execution_count": 47
        }
      ]
    },
    {
      "cell_type": "code",
      "metadata": {
        "id": "K8JcHAzEVPfX",
        "colab_type": "code",
        "outputId": "8793d786-331d-4585-b185-0cccc69d62d7",
        "colab": {
          "base_uri": "https://localhost:8080/",
          "height": 357
        }
      },
      "source": [
        "resolve_food = list(food_df[food_df['ok'] == False].dropna().index)\n",
        "resolve_food"
      ],
      "execution_count": 48,
      "outputs": [
        {
          "output_type": "execute_result",
          "data": {
            "text/plain": [
              "['глупо_ADJ',\n",
              " 'голодный_ADJ',\n",
              " 'дурной_ADJ',\n",
              " 'замечательный_ADJ',\n",
              " 'злой_ADJ',\n",
              " 'невкусно_ADJ',\n",
              " 'невкусный_ADJ',\n",
              " 'незабываемый_ADJ',\n",
              " 'необычный_ADJ',\n",
              " 'несъедобный_ADJ',\n",
              " 'нормально_ADJ',\n",
              " 'обидный_ADJ',\n",
              " 'оригинальный_ADJ',\n",
              " 'отвратительно_ADJ',\n",
              " 'плохо_ADJ',\n",
              " 'плохой_ADJ',\n",
              " 'удивительный_ADJ',\n",
              " 'хороший_ADJ',\n",
              " 'хорошо_ADJ',\n",
              " 'яркий_ADJ']"
            ]
          },
          "metadata": {
            "tags": []
          },
          "execution_count": 48
        }
      ]
    },
    {
      "cell_type": "code",
      "metadata": {
        "colab_type": "code",
        "outputId": "b59b7bff-3232-425f-b395-b20f53da2c57",
        "id": "VgJxYWmoasID",
        "colab": {
          "base_uri": "https://localhost:8080/",
          "height": 204
        }
      },
      "source": [
        "ok_food_df = food_df.drop(index=resolve_food).fillna(0)\n",
        "ok_food_df = pd.DataFrame(ok_food_df['graph'] + ok_food_df['combined'], columns=['correct'])\n",
        "ok_food_df.tail()"
      ],
      "execution_count": 49,
      "outputs": [
        {
          "output_type": "execute_result",
          "data": {
            "text/html": [
              "<div>\n",
              "<style scoped>\n",
              "    .dataframe tbody tr th:only-of-type {\n",
              "        vertical-align: middle;\n",
              "    }\n",
              "\n",
              "    .dataframe tbody tr th {\n",
              "        vertical-align: top;\n",
              "    }\n",
              "\n",
              "    .dataframe thead th {\n",
              "        text-align: right;\n",
              "    }\n",
              "</style>\n",
              "<table border=\"1\" class=\"dataframe\">\n",
              "  <thead>\n",
              "    <tr style=\"text-align: right;\">\n",
              "      <th></th>\n",
              "      <th>correct</th>\n",
              "    </tr>\n",
              "  </thead>\n",
              "  <tbody>\n",
              "    <tr>\n",
              "      <th>янтарный_ADJ</th>\n",
              "      <td>0.0</td>\n",
              "    </tr>\n",
              "    <tr>\n",
              "      <th>японский_ADJ</th>\n",
              "      <td>0.0</td>\n",
              "    </tr>\n",
              "    <tr>\n",
              "      <th>японско-минималистический_ADJ</th>\n",
              "      <td>0.0</td>\n",
              "    </tr>\n",
              "    <tr>\n",
              "      <th>ярусный_ADJ</th>\n",
              "      <td>0.0</td>\n",
              "    </tr>\n",
              "    <tr>\n",
              "      <th>ясный_ADJ</th>\n",
              "      <td>0.0</td>\n",
              "    </tr>\n",
              "  </tbody>\n",
              "</table>\n",
              "</div>"
            ],
            "text/plain": [
              "                               correct\n",
              "янтарный_ADJ                       0.0\n",
              "японский_ADJ                       0.0\n",
              "японско-минималистический_ADJ      0.0\n",
              "ярусный_ADJ                        0.0\n",
              "ясный_ADJ                          0.0"
            ]
          },
          "metadata": {
            "tags": []
          },
          "execution_count": 49
        }
      ]
    },
    {
      "cell_type": "code",
      "metadata": {
        "id": "igiBMgYZbSam",
        "colab_type": "code",
        "colab": {}
      },
      "source": [
        "resolved_food = [('вкусный_ADJ', 1.0),\n",
        "                ('глупо_ADJ', 0.0),\n",
        "                ('голодный_ADJ', 0.0),\n",
        "                ('дурной_ADJ', 0.0),\n",
        "                ('замечательный_ADJ', 1.0),\n",
        "                ('злой_ADJ', 0.0),\n",
        "                ('невкусно_ADJ', 0.0),\n",
        "                ('невкусный_ADJ', 0.0),\n",
        "                ('незабываемый_ADJ', 1.0),\n",
        "                ('необычный_ADJ', 1.0),\n",
        "                ('несъедобный_ADJ', 0.0),\n",
        "                ('нормально_ADJ', 1.0),\n",
        "                ('обидный_ADJ', 0.0),\n",
        "                ('оригинальный_ADJ', 1.0),\n",
        "                ('отвратительно_ADJ', 0.0),\n",
        "                ('плохо_ADJ', 0.0),\n",
        "                ('плохой_ADJ', 0.0),\n",
        "                ('удивительный_ADJ', 1.0),\n",
        "                ('хороший_ADJ', 1.0),\n",
        "                ('хорошо_ADJ', 1.0),\n",
        "                ('яркий_ADJ', 1.0)]"
      ],
      "execution_count": 0,
      "outputs": []
    },
    {
      "cell_type": "code",
      "metadata": {
        "colab_type": "code",
        "outputId": "72b2f1f9-470a-4f4f-c700-ab108789f9d2",
        "id": "Lg3p5VDCasIG",
        "colab": {
          "base_uri": "https://localhost:8080/",
          "height": 204
        }
      },
      "source": [
        "resolved_food_df = pd.DataFrame([el[1] for el in resolved_food], columns=['correct'], index=resolve_food+['вкусный'])\n",
        "resolved_food_df.tail()"
      ],
      "execution_count": 56,
      "outputs": [
        {
          "output_type": "execute_result",
          "data": {
            "text/html": [
              "<div>\n",
              "<style scoped>\n",
              "    .dataframe tbody tr th:only-of-type {\n",
              "        vertical-align: middle;\n",
              "    }\n",
              "\n",
              "    .dataframe tbody tr th {\n",
              "        vertical-align: top;\n",
              "    }\n",
              "\n",
              "    .dataframe thead th {\n",
              "        text-align: right;\n",
              "    }\n",
              "</style>\n",
              "<table border=\"1\" class=\"dataframe\">\n",
              "  <thead>\n",
              "    <tr style=\"text-align: right;\">\n",
              "      <th></th>\n",
              "      <th>correct</th>\n",
              "    </tr>\n",
              "  </thead>\n",
              "  <tbody>\n",
              "    <tr>\n",
              "      <th>удивительный_ADJ</th>\n",
              "      <td>0.0</td>\n",
              "    </tr>\n",
              "    <tr>\n",
              "      <th>хороший_ADJ</th>\n",
              "      <td>1.0</td>\n",
              "    </tr>\n",
              "    <tr>\n",
              "      <th>хорошо_ADJ</th>\n",
              "      <td>1.0</td>\n",
              "    </tr>\n",
              "    <tr>\n",
              "      <th>яркий_ADJ</th>\n",
              "      <td>1.0</td>\n",
              "    </tr>\n",
              "    <tr>\n",
              "      <th>вкусный</th>\n",
              "      <td>1.0</td>\n",
              "    </tr>\n",
              "  </tbody>\n",
              "</table>\n",
              "</div>"
            ],
            "text/plain": [
              "                  correct\n",
              "удивительный_ADJ      0.0\n",
              "хороший_ADJ           1.0\n",
              "хорошо_ADJ            1.0\n",
              "яркий_ADJ             1.0\n",
              "вкусный               1.0"
            ]
          },
          "metadata": {
            "tags": []
          },
          "execution_count": 56
        }
      ]
    },
    {
      "cell_type": "code",
      "metadata": {
        "colab_type": "code",
        "outputId": "104c1bb0-152b-4a5b-8622-540634f3acff",
        "id": "XwXm0nImasIJ",
        "colab": {
          "base_uri": "https://localhost:8080/",
          "height": 419
        }
      },
      "source": [
        "ok_food_df.append(resolved_food_df)"
      ],
      "execution_count": 57,
      "outputs": [
        {
          "output_type": "execute_result",
          "data": {
            "text/html": [
              "<div>\n",
              "<style scoped>\n",
              "    .dataframe tbody tr th:only-of-type {\n",
              "        vertical-align: middle;\n",
              "    }\n",
              "\n",
              "    .dataframe tbody tr th {\n",
              "        vertical-align: top;\n",
              "    }\n",
              "\n",
              "    .dataframe thead th {\n",
              "        text-align: right;\n",
              "    }\n",
              "</style>\n",
              "<table border=\"1\" class=\"dataframe\">\n",
              "  <thead>\n",
              "    <tr style=\"text-align: right;\">\n",
              "      <th></th>\n",
              "      <th>correct</th>\n",
              "    </tr>\n",
              "  </thead>\n",
              "  <tbody>\n",
              "    <tr>\n",
              "      <th>авторский_ADJ</th>\n",
              "      <td>0.0</td>\n",
              "    </tr>\n",
              "    <tr>\n",
              "      <th>агрессивный_NOUN</th>\n",
              "      <td>1.0</td>\n",
              "    </tr>\n",
              "    <tr>\n",
              "      <th>адекватный_ADJ</th>\n",
              "      <td>0.0</td>\n",
              "    </tr>\n",
              "    <tr>\n",
              "      <th>адоптировать_ADJ</th>\n",
              "      <td>0.0</td>\n",
              "    </tr>\n",
              "    <tr>\n",
              "      <th>ажурный_ADJ</th>\n",
              "      <td>0.0</td>\n",
              "    </tr>\n",
              "    <tr>\n",
              "      <th>...</th>\n",
              "      <td>...</td>\n",
              "    </tr>\n",
              "    <tr>\n",
              "      <th>удивительный_ADJ</th>\n",
              "      <td>0.0</td>\n",
              "    </tr>\n",
              "    <tr>\n",
              "      <th>хороший_ADJ</th>\n",
              "      <td>1.0</td>\n",
              "    </tr>\n",
              "    <tr>\n",
              "      <th>хорошо_ADJ</th>\n",
              "      <td>1.0</td>\n",
              "    </tr>\n",
              "    <tr>\n",
              "      <th>яркий_ADJ</th>\n",
              "      <td>1.0</td>\n",
              "    </tr>\n",
              "    <tr>\n",
              "      <th>вкусный</th>\n",
              "      <td>1.0</td>\n",
              "    </tr>\n",
              "  </tbody>\n",
              "</table>\n",
              "<p>1458 rows × 1 columns</p>\n",
              "</div>"
            ],
            "text/plain": [
              "                  correct\n",
              "авторский_ADJ         0.0\n",
              "агрессивный_NOUN      1.0\n",
              "адекватный_ADJ        0.0\n",
              "адоптировать_ADJ      0.0\n",
              "ажурный_ADJ           0.0\n",
              "...                   ...\n",
              "удивительный_ADJ      0.0\n",
              "хороший_ADJ           1.0\n",
              "хорошо_ADJ            1.0\n",
              "яркий_ADJ             1.0\n",
              "вкусный               1.0\n",
              "\n",
              "[1458 rows x 1 columns]"
            ]
          },
          "metadata": {
            "tags": []
          },
          "execution_count": 57
        }
      ]
    },
    {
      "cell_type": "code",
      "metadata": {
        "colab_type": "code",
        "id": "rp7f9fWIasIM",
        "colab": {}
      },
      "source": [
        "ok_food_scores = [tuple(r) for r in ok_food_df.append(resolved_food_df).reset_index().values]"
      ],
      "execution_count": 0,
      "outputs": []
    },
    {
      "cell_type": "markdown",
      "metadata": {
        "id": "FvGGE6BaSFRK",
        "colab_type": "text"
      },
      "source": [
        "## Combine all"
      ]
    },
    {
      "cell_type": "markdown",
      "metadata": {
        "id": "q98Udyevc-Fg",
        "colab_type": "text"
      },
      "source": [
        "### Service"
      ]
    },
    {
      "cell_type": "code",
      "metadata": {
        "id": "l4T0Ybm9ZsIp",
        "colab_type": "code",
        "colab": {}
      },
      "source": [
        "ok_service_scores += service_n_gram_scores"
      ],
      "execution_count": 0,
      "outputs": []
    },
    {
      "cell_type": "code",
      "metadata": {
        "id": "2hRn0VYhb_4E",
        "colab_type": "code",
        "outputId": "c12d11b4-f1a5-4ef2-8649-775e72477d11",
        "colab": {
          "base_uri": "https://localhost:8080/",
          "height": 419
        }
      },
      "source": [
        "final_service_scores_df = pd.DataFrame(ok_service_scores, columns=['word', 'score'])\n",
        "final_service_scores_df['score'] = final_service_scores_df['score'].apply(int)\n",
        "final_service_scores_df"
      ],
      "execution_count": 60,
      "outputs": [
        {
          "output_type": "execute_result",
          "data": {
            "text/html": [
              "<div>\n",
              "<style scoped>\n",
              "    .dataframe tbody tr th:only-of-type {\n",
              "        vertical-align: middle;\n",
              "    }\n",
              "\n",
              "    .dataframe tbody tr th {\n",
              "        vertical-align: top;\n",
              "    }\n",
              "\n",
              "    .dataframe thead th {\n",
              "        text-align: right;\n",
              "    }\n",
              "</style>\n",
              "<table border=\"1\" class=\"dataframe\">\n",
              "  <thead>\n",
              "    <tr style=\"text-align: right;\">\n",
              "      <th></th>\n",
              "      <th>word</th>\n",
              "      <th>score</th>\n",
              "    </tr>\n",
              "  </thead>\n",
              "  <tbody>\n",
              "    <tr>\n",
              "      <th>0</th>\n",
              "      <td>авторский_ADJ</td>\n",
              "      <td>0</td>\n",
              "    </tr>\n",
              "    <tr>\n",
              "      <th>1</th>\n",
              "      <td>адекватный_ADJ</td>\n",
              "      <td>0</td>\n",
              "    </tr>\n",
              "    <tr>\n",
              "      <th>2</th>\n",
              "      <td>адоптировать_ADJ</td>\n",
              "      <td>0</td>\n",
              "    </tr>\n",
              "    <tr>\n",
              "      <th>3</th>\n",
              "      <td>азиатский_ADJ</td>\n",
              "      <td>0</td>\n",
              "    </tr>\n",
              "    <tr>\n",
              "      <th>4</th>\n",
              "      <td>аккуратненький_ADJ</td>\n",
              "      <td>0</td>\n",
              "    </tr>\n",
              "    <tr>\n",
              "      <th>...</th>\n",
              "      <td>...</td>\n",
              "      <td>...</td>\n",
              "    </tr>\n",
              "    <tr>\n",
              "      <th>1559</th>\n",
              "      <td>место_NOUN проведение_NOUN для_ADP</td>\n",
              "      <td>0</td>\n",
              "    </tr>\n",
              "    <tr>\n",
              "      <th>1560</th>\n",
              "      <td>место_NOUN город_NOUN</td>\n",
              "      <td>0</td>\n",
              "    </tr>\n",
              "    <tr>\n",
              "      <th>1561</th>\n",
              "      <td>место_NOUN обслуживание_NOUN с_ADP</td>\n",
              "      <td>0</td>\n",
              "    </tr>\n",
              "    <tr>\n",
              "      <th>1562</th>\n",
              "      <td>место_NOUN атмосфера_NOUN</td>\n",
              "      <td>0</td>\n",
              "    </tr>\n",
              "    <tr>\n",
              "      <th>1563</th>\n",
              "      <td>место_NOUN район_NOUN для_ADP</td>\n",
              "      <td>0</td>\n",
              "    </tr>\n",
              "  </tbody>\n",
              "</table>\n",
              "<p>1564 rows × 2 columns</p>\n",
              "</div>"
            ],
            "text/plain": [
              "                                    word  score\n",
              "0                          авторский_ADJ      0\n",
              "1                         адекватный_ADJ      0\n",
              "2                       адоптировать_ADJ      0\n",
              "3                          азиатский_ADJ      0\n",
              "4                     аккуратненький_ADJ      0\n",
              "...                                  ...    ...\n",
              "1559  место_NOUN проведение_NOUN для_ADP      0\n",
              "1560               место_NOUN город_NOUN      0\n",
              "1561  место_NOUN обслуживание_NOUN с_ADP      0\n",
              "1562           место_NOUN атмосфера_NOUN      0\n",
              "1563       место_NOUN район_NOUN для_ADP      0\n",
              "\n",
              "[1564 rows x 2 columns]"
            ]
          },
          "metadata": {
            "tags": []
          },
          "execution_count": 60
        }
      ]
    },
    {
      "cell_type": "code",
      "metadata": {
        "id": "9wBCC8YPchMW",
        "colab_type": "code",
        "colab": {}
      },
      "source": [
        "final_service_scores_df.to_csv('/content/drive/My Drive/studies/HSE/prog/nlp/proj/final_service_scores.csv', index=False)"
      ],
      "execution_count": 0,
      "outputs": []
    },
    {
      "cell_type": "markdown",
      "metadata": {
        "id": "MiAS-L4EdCQ8",
        "colab_type": "text"
      },
      "source": [
        "### food"
      ]
    },
    {
      "cell_type": "code",
      "metadata": {
        "id": "pGsZ6pBWb6Tt",
        "colab_type": "code",
        "colab": {}
      },
      "source": [
        "ok_food_scores += food_n_gram_scores"
      ],
      "execution_count": 0,
      "outputs": []
    },
    {
      "cell_type": "code",
      "metadata": {
        "colab_type": "code",
        "outputId": "f54b72d4-4b8d-4d85-ccc2-70f094a1d7c8",
        "id": "JmxdU9smdH2v",
        "colab": {
          "base_uri": "https://localhost:8080/",
          "height": 419
        }
      },
      "source": [
        "final_food_scores_df = pd.DataFrame(ok_food_scores, columns=['word', 'score'])\n",
        "final_food_scores_df['score'] = final_food_scores_df['score'].apply(int)\n",
        "final_food_scores_df"
      ],
      "execution_count": 63,
      "outputs": [
        {
          "output_type": "execute_result",
          "data": {
            "text/html": [
              "<div>\n",
              "<style scoped>\n",
              "    .dataframe tbody tr th:only-of-type {\n",
              "        vertical-align: middle;\n",
              "    }\n",
              "\n",
              "    .dataframe tbody tr th {\n",
              "        vertical-align: top;\n",
              "    }\n",
              "\n",
              "    .dataframe thead th {\n",
              "        text-align: right;\n",
              "    }\n",
              "</style>\n",
              "<table border=\"1\" class=\"dataframe\">\n",
              "  <thead>\n",
              "    <tr style=\"text-align: right;\">\n",
              "      <th></th>\n",
              "      <th>word</th>\n",
              "      <th>score</th>\n",
              "    </tr>\n",
              "  </thead>\n",
              "  <tbody>\n",
              "    <tr>\n",
              "      <th>0</th>\n",
              "      <td>авторский_ADJ</td>\n",
              "      <td>0</td>\n",
              "    </tr>\n",
              "    <tr>\n",
              "      <th>1</th>\n",
              "      <td>агрессивный_NOUN</td>\n",
              "      <td>1</td>\n",
              "    </tr>\n",
              "    <tr>\n",
              "      <th>2</th>\n",
              "      <td>адекватный_ADJ</td>\n",
              "      <td>0</td>\n",
              "    </tr>\n",
              "    <tr>\n",
              "      <th>3</th>\n",
              "      <td>адоптировать_ADJ</td>\n",
              "      <td>0</td>\n",
              "    </tr>\n",
              "    <tr>\n",
              "      <th>4</th>\n",
              "      <td>ажурный_ADJ</td>\n",
              "      <td>0</td>\n",
              "    </tr>\n",
              "    <tr>\n",
              "      <th>...</th>\n",
              "      <td>...</td>\n",
              "      <td>...</td>\n",
              "    </tr>\n",
              "    <tr>\n",
              "      <th>1619</th>\n",
              "      <td>плохо_ADJ не_PART но_CCONJ</td>\n",
              "      <td>0</td>\n",
              "    </tr>\n",
              "    <tr>\n",
              "      <th>1620</th>\n",
              "      <td>плохо_ADJ очень_ADV</td>\n",
              "      <td>0</td>\n",
              "    </tr>\n",
              "    <tr>\n",
              "      <th>1621</th>\n",
              "      <td>плохо_ADJ не_PART</td>\n",
              "      <td>0</td>\n",
              "    </tr>\n",
              "    <tr>\n",
              "      <th>1622</th>\n",
              "      <td>есть_VERB плохо_ADV</td>\n",
              "      <td>0</td>\n",
              "    </tr>\n",
              "    <tr>\n",
              "      <th>1623</th>\n",
              "      <td>плохой_ADJ не_PART интерьер_NOUN</td>\n",
              "      <td>0</td>\n",
              "    </tr>\n",
              "  </tbody>\n",
              "</table>\n",
              "<p>1624 rows × 2 columns</p>\n",
              "</div>"
            ],
            "text/plain": [
              "                                  word  score\n",
              "0                        авторский_ADJ      0\n",
              "1                     агрессивный_NOUN      1\n",
              "2                       адекватный_ADJ      0\n",
              "3                     адоптировать_ADJ      0\n",
              "4                          ажурный_ADJ      0\n",
              "...                                ...    ...\n",
              "1619        плохо_ADJ не_PART но_CCONJ      0\n",
              "1620               плохо_ADJ очень_ADV      0\n",
              "1621                 плохо_ADJ не_PART      0\n",
              "1622               есть_VERB плохо_ADV      0\n",
              "1623  плохой_ADJ не_PART интерьер_NOUN      0\n",
              "\n",
              "[1624 rows x 2 columns]"
            ]
          },
          "metadata": {
            "tags": []
          },
          "execution_count": 63
        }
      ]
    },
    {
      "cell_type": "code",
      "metadata": {
        "colab_type": "code",
        "id": "rHExFXPCdH23",
        "colab": {}
      },
      "source": [
        "final_food_scores_df.to_csv('/content/drive/My Drive/studies/HSE/prog/nlp/proj/final_food_scores.csv', index=False)"
      ],
      "execution_count": 0,
      "outputs": []
    }
  ]
}