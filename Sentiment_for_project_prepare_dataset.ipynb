{
  "nbformat": 4,
  "nbformat_minor": 0,
  "metadata": {
    "accelerator": "GPU",
    "colab": {
      "name": "Sentiment for project: prepare dataset.ipynb",
      "provenance": [],
      "collapsed_sections": [],
      "machine_shape": "hm",
      "include_colab_link": true
    },
    "kernelspec": {
      "name": "python3",
      "display_name": "Python 3"
    },
    "language_info": {
      "codemirror_mode": {
        "name": "ipython",
        "version": 3
      },
      "file_extension": ".py",
      "mimetype": "text/x-python",
      "name": "python",
      "nbconvert_exporter": "python",
      "pygments_lexer": "ipython3",
      "version": "3.7.4"
    }
  },
  "cells": [
    {
      "cell_type": "markdown",
      "metadata": {
        "id": "view-in-github",
        "colab_type": "text"
      },
      "source": [
        "<a href=\"https://colab.research.google.com/github/AnnaZhuravleva/avtobreja/blob/master/Sentiment_for_project_prepare_dataset.ipynb\" target=\"_parent\"><img src=\"https://colab.research.google.com/assets/colab-badge.svg\" alt=\"Open In Colab\"/></a>"
      ]
    },
    {
      "cell_type": "code",
      "metadata": {
        "id": "huRpgYfsJ0Q2",
        "colab_type": "code",
        "colab": {
          "base_uri": "https://localhost:8080/",
          "height": 106
        },
        "outputId": "03e352f8-76b0-40ae-d8e1-3d90ad0e0da9"
      },
      "source": [
        "!pip install conllu\n",
        "!pip install tqdm"
      ],
      "execution_count": 1,
      "outputs": [
        {
          "output_type": "stream",
          "text": [
            "Collecting conllu\n",
            "  Downloading https://files.pythonhosted.org/packages/cf/39/869a01c157b135832ce95a60a7ee75062a80e32941e00fc3d3b79331eb50/conllu-2.2-py2.py3-none-any.whl\n",
            "Installing collected packages: conllu\n",
            "Successfully installed conllu-2.2\n",
            "Requirement already satisfied: tqdm in /usr/local/lib/python3.6/dist-packages (4.28.1)\n"
          ],
          "name": "stdout"
        }
      ]
    },
    {
      "cell_type": "code",
      "metadata": {
        "colab_type": "code",
        "id": "x3s8x5jkzwoO",
        "colab": {}
      },
      "source": [
        "import numpy as np\n",
        "import pandas as pd\n",
        "import os\n",
        "\n",
        "from conllu import parse\n",
        "from tqdm import tqdm"
      ],
      "execution_count": 0,
      "outputs": []
    },
    {
      "cell_type": "markdown",
      "metadata": {
        "id": "DFeFPWhajwCH",
        "colab_type": "text"
      },
      "source": [
        "### Подготовка данных\n",
        "Каждый текст - строчка из токенов лемма_тег. Оценки отдельно выведены для сервиса, отдельно для еды. Мы будем строить бинарную классификацию, поэтому будем считать оценки выше 5 положительными, а 5 и ниже — отрицательными."
      ]
    },
    {
      "cell_type": "code",
      "metadata": {
        "id": "TGJ_RsrXR0ZT",
        "colab_type": "code",
        "colab": {}
      },
      "source": [
        "for instance in list(tqdm._instances): \n",
        "    tqdm._decr_instances(instance)"
      ],
      "execution_count": 0,
      "outputs": []
    },
    {
      "cell_type": "code",
      "metadata": {
        "id": "gOZWESjuKeCH",
        "colab_type": "code",
        "outputId": "e5b05941-b981-41c1-fd11-7a1ef7aa623d",
        "colab": {
          "base_uri": "https://localhost:8080/",
          "height": 35
        }
      },
      "source": [
        "from google.colab import drive\n",
        "drive.mount(\"/content/drive\", force_remount=True)"
      ],
      "execution_count": 0,
      "outputs": [
        {
          "output_type": "stream",
          "text": [
            "Mounted at /content/drive\n"
          ],
          "name": "stdout"
        }
      ]
    },
    {
      "cell_type": "code",
      "metadata": {
        "id": "Ol44VAdHjmK4",
        "colab_type": "code",
        "colab": {}
      },
      "source": [
        "path = \"/content/drive/My Drive/studies/HSE/prog/nlp/parsed_train\""
      ],
      "execution_count": 0,
      "outputs": []
    },
    {
      "cell_type": "code",
      "metadata": {
        "id": "SFzyAU4JMHSW",
        "colab_type": "code",
        "outputId": "08586ed1-85ee-4fb3-8d21-e729c9a5abb3",
        "colab": {
          "base_uri": "https://localhost:8080/",
          "height": 212
        }
      },
      "source": [
        "!wget https://raw.githubusercontent.com/AnnaZhuravleva/avtobreja/master/SentiRuEval_rest_train/SentiRuEval_rest_train.csv"
      ],
      "execution_count": 0,
      "outputs": [
        {
          "output_type": "stream",
          "text": [
            "--2019-12-20 15:03:08--  https://raw.githubusercontent.com/AnnaZhuravleva/avtobreja/master/SentiRuEval_rest_train/SentiRuEval_rest_train.csv\n",
            "Resolving raw.githubusercontent.com (raw.githubusercontent.com)... 151.101.0.133, 151.101.64.133, 151.101.128.133, ...\n",
            "Connecting to raw.githubusercontent.com (raw.githubusercontent.com)|151.101.0.133|:443... connected.\n",
            "HTTP request sent, awaiting response... 200 OK\n",
            "Length: 36571759 (35M) [text/plain]\n",
            "Saving to: ‘SentiRuEval_rest_train.csv’\n",
            "\n",
            "SentiRuEval_rest_tr 100%[===================>]  34.88M   124MB/s    in 0.3s    \n",
            "\n",
            "2019-12-20 15:03:11 (124 MB/s) - ‘SentiRuEval_rest_train.csv’ saved [36571759/36571759]\n",
            "\n"
          ],
          "name": "stdout"
        }
      ]
    },
    {
      "cell_type": "code",
      "metadata": {
        "id": "iuOgjX2pMIsR",
        "colab_type": "code",
        "outputId": "64833826-0494-40b5-a506-3471f9e1120a",
        "colab": {
          "base_uri": "https://localhost:8080/",
          "height": 194
        }
      },
      "source": [
        "scored = pd.read_csv(\"SentiRuEval_rest_train.csv\", index_col=0)\n",
        "scored[\"food\"] = scored[\"food\"].apply(int)\n",
        "scored[\"service\"] = scored[\"service\"].apply(int)\n",
        "scored.head()"
      ],
      "execution_count": 0,
      "outputs": [
        {
          "output_type": "execute_result",
          "data": {
            "text/html": [
              "<div>\n",
              "<style scoped>\n",
              "    .dataframe tbody tr th:only-of-type {\n",
              "        vertical-align: middle;\n",
              "    }\n",
              "\n",
              "    .dataframe tbody tr th {\n",
              "        vertical-align: top;\n",
              "    }\n",
              "\n",
              "    .dataframe thead th {\n",
              "        text-align: right;\n",
              "    }\n",
              "</style>\n",
              "<table border=\"1\" class=\"dataframe\">\n",
              "  <thead>\n",
              "    <tr style=\"text-align: right;\">\n",
              "      <th></th>\n",
              "      <th>food</th>\n",
              "      <th>service</th>\n",
              "      <th>text</th>\n",
              "    </tr>\n",
              "  </thead>\n",
              "  <tbody>\n",
              "    <tr>\n",
              "      <th>0</th>\n",
              "      <td>8</td>\n",
              "      <td>8</td>\n",
              "      <td>И пускай на меня не обижается наш прославленны...</td>\n",
              "    </tr>\n",
              "    <tr>\n",
              "      <th>1</th>\n",
              "      <td>9</td>\n",
              "      <td>10</td>\n",
              "      <td>- Здравствуйте. Виа Д’Арженто! - Добрый вечер,...</td>\n",
              "    </tr>\n",
              "    <tr>\n",
              "      <th>2</th>\n",
              "      <td>9</td>\n",
              "      <td>1</td>\n",
              "      <td>Советую вам уволить Вашего метродотеля Елену, ...</td>\n",
              "    </tr>\n",
              "    <tr>\n",
              "      <th>3</th>\n",
              "      <td>8</td>\n",
              "      <td>9</td>\n",
              "      <td>отличный средне вековый интеръер. Приятное обс...</td>\n",
              "    </tr>\n",
              "    <tr>\n",
              "      <th>4</th>\n",
              "      <td>10</td>\n",
              "      <td>8</td>\n",
              "      <td>Ужинали в ресторане Баден-Баден 6 марта . Импо...</td>\n",
              "    </tr>\n",
              "  </tbody>\n",
              "</table>\n",
              "</div>"
            ],
            "text/plain": [
              "   food  service                                               text\n",
              "0     8        8  И пускай на меня не обижается наш прославленны...\n",
              "1     9       10  - Здравствуйте. Виа Д’Арженто! - Добрый вечер,...\n",
              "2     9        1  Советую вам уволить Вашего метродотеля Елену, ...\n",
              "3     8        9  отличный средне вековый интеръер. Приятное обс...\n",
              "4    10        8  Ужинали в ресторане Баден-Баден 6 марта . Импо..."
            ]
          },
          "metadata": {
            "tags": []
          },
          "execution_count": 4
        }
      ]
    },
    {
      "cell_type": "code",
      "metadata": {
        "id": "bnqavaEQNepm",
        "colab_type": "code",
        "outputId": "4ba08d16-8a88-4db6-992e-08690a0074d7",
        "colab": {
          "base_uri": "https://localhost:8080/",
          "height": 35
        }
      },
      "source": [
        "num_texts = len(scored.index)\n",
        "num_texts"
      ],
      "execution_count": 0,
      "outputs": [
        {
          "output_type": "execute_result",
          "data": {
            "text/plain": [
              "19034"
            ]
          },
          "metadata": {
            "tags": []
          },
          "execution_count": 5
        }
      ]
    },
    {
      "cell_type": "code",
      "metadata": {
        "id": "74SFsaAGLKO0",
        "colab_type": "code",
        "colab": {}
      },
      "source": [
        "preprocessed_texts = []\n",
        "for i in tqdm(range(num_texts)):\n",
        "    with open(os.path.join(path, f'{i}.conllu'), \"r\", encoding='utf-8') as f:\n",
        "      conllu_text = parse(f.read())    \n",
        "      lemma_pos_text = []\n",
        "      for sentence in conllu_text:\n",
        "          for word in sentence:\n",
        "              lemma_pos_text.append('_'.join([word[\"lemma\"].lower().strip('-'), word[\"upostag\"]]))\n",
        "      preprocessed_texts.append(' '.join(lemma_pos_text))"
      ],
      "execution_count": 0,
      "outputs": []
    },
    {
      "cell_type": "code",
      "metadata": {
        "id": "saEvwnlCOy-1",
        "colab_type": "code",
        "colab": {}
      },
      "source": [
        "len(preprocessed_texts)"
      ],
      "execution_count": 0,
      "outputs": []
    },
    {
      "cell_type": "code",
      "metadata": {
        "id": "f1JsDbf_imPT",
        "colab_type": "code",
        "colab": {}
      },
      "source": [
        "scored[\"lemma_POS\"] = preprocessed_texts\n",
        "scored.head()"
      ],
      "execution_count": 0,
      "outputs": []
    },
    {
      "cell_type": "code",
      "metadata": {
        "id": "GBze6Kmxs1L7",
        "colab_type": "code",
        "colab": {}
      },
      "source": [
        "scored.tail()"
      ],
      "execution_count": 0,
      "outputs": []
    },
    {
      "cell_type": "code",
      "metadata": {
        "id": "7W2CFFGKr078",
        "colab_type": "code",
        "colab": {}
      },
      "source": [
        "scored.to_csv(\"/content/drive/My Drive/studies/HSE/prog/nlp/SentiRuEval_rest_train_lemma_POS.csv\")"
      ],
      "execution_count": 0,
      "outputs": []
    },
    {
      "cell_type": "code",
      "metadata": {
        "id": "gUqSakq6sai7",
        "colab_type": "code",
        "outputId": "ce7ceecd-3130-468a-ae03-2da36a8c44d2",
        "colab": {
          "base_uri": "https://localhost:8080/",
          "height": 194
        }
      },
      "source": [
        "scored = pd.read_csv(\"/content/drive/My Drive/studies/HSE/prog/nlp/SentiRuEval_rest_train_lemma_POS.csv\", index_col=0)\n",
        "scored.tail()"
      ],
      "execution_count": 0,
      "outputs": [
        {
          "output_type": "execute_result",
          "data": {
            "text/html": [
              "<div>\n",
              "<style scoped>\n",
              "    .dataframe tbody tr th:only-of-type {\n",
              "        vertical-align: middle;\n",
              "    }\n",
              "\n",
              "    .dataframe tbody tr th {\n",
              "        vertical-align: top;\n",
              "    }\n",
              "\n",
              "    .dataframe thead th {\n",
              "        text-align: right;\n",
              "    }\n",
              "</style>\n",
              "<table border=\"1\" class=\"dataframe\">\n",
              "  <thead>\n",
              "    <tr style=\"text-align: right;\">\n",
              "      <th></th>\n",
              "      <th>food</th>\n",
              "      <th>service</th>\n",
              "      <th>text</th>\n",
              "      <th>lemma_POS</th>\n",
              "    </tr>\n",
              "  </thead>\n",
              "  <tbody>\n",
              "    <tr>\n",
              "      <th>19029</th>\n",
              "      <td>2</td>\n",
              "      <td>3</td>\n",
              "      <td>С тех пор, как побывала последний раз, мнение ...</td>\n",
              "      <td>с_ADP тот_DET пора_NOUN ,_PUNCT как_SCONJ быва...</td>\n",
              "    </tr>\n",
              "    <tr>\n",
              "      <th>19030</th>\n",
              "      <td>1</td>\n",
              "      <td>1</td>\n",
              "      <td>Обнаруженный в салате таракан очень поразил!!!...</td>\n",
              "      <td>обнаружить_VERB в_ADP салат_NOUN таракан_NOUN ...</td>\n",
              "    </tr>\n",
              "    <tr>\n",
              "      <th>19031</th>\n",
              "      <td>6</td>\n",
              "      <td>5</td>\n",
              "      <td>Забавное заведение. Симпатичный светлый интерь...</td>\n",
              "      <td>забавный_ADJ заведение_NOUN ._PUNCT симпатичны...</td>\n",
              "    </tr>\n",
              "    <tr>\n",
              "      <th>19032</th>\n",
              "      <td>8</td>\n",
              "      <td>9</td>\n",
              "      <td>Поздравляем администрацию ресторана Навруз с Н...</td>\n",
              "      <td>поздравлять_VERB администрация_NOUN ресторан_N...</td>\n",
              "    </tr>\n",
              "    <tr>\n",
              "      <th>19033</th>\n",
              "      <td>8</td>\n",
              "      <td>8</td>\n",
              "      <td>Очень нравиться интерьер. Отличный гриль.Карта...</td>\n",
              "      <td>очень_ADV нравиться_VERB интерьер_NOUN ._PUNCT...</td>\n",
              "    </tr>\n",
              "  </tbody>\n",
              "</table>\n",
              "</div>"
            ],
            "text/plain": [
              "       food  ...                                          lemma_POS\n",
              "19029     2  ...  с_ADP тот_DET пора_NOUN ,_PUNCT как_SCONJ быва...\n",
              "19030     1  ...  обнаружить_VERB в_ADP салат_NOUN таракан_NOUN ...\n",
              "19031     6  ...  забавный_ADJ заведение_NOUN ._PUNCT симпатичны...\n",
              "19032     8  ...  поздравлять_VERB администрация_NOUN ресторан_N...\n",
              "19033     8  ...  очень_ADV нравиться_VERB интерьер_NOUN ._PUNCT...\n",
              "\n",
              "[5 rows x 4 columns]"
            ]
          },
          "metadata": {
            "tags": []
          },
          "execution_count": 9
        }
      ]
    },
    {
      "cell_type": "code",
      "metadata": {
        "colab_type": "code",
        "id": "nMlTYXVnQMda",
        "colab": {}
      },
      "source": [
        "texts = list(scored[\"lemma_POS\"].apply(lambda s: s.split()))"
      ],
      "execution_count": 0,
      "outputs": []
    }
  ]
}