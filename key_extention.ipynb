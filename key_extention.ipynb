{
 "cells": [
  {
   "cell_type": "markdown",
   "metadata": {},
   "source": [
    "Для начала мы хотим опреледить значимые для нашего корпуса слова. Для этого мы сравним частотности токенов нашего корпуса и какого-нибудь нейтрального. В качестве нейтрального корпуса мы задействуем кусок ГИКРЯ, по размеру равный нашему корпусу.\n",
    "\n",
    "Мы знаем, что в нашем корпусе 3953288 токенов и имеем частотный список."
   ]
  },
  {
   "cell_type": "code",
   "execution_count": 132,
   "metadata": {},
   "outputs": [],
   "source": [
    "import os\n",
    "import pickle\n",
    "from collections import Counter\n",
    "\n",
    "\n",
    "with open(os.path.join(\"utils\", \"food_corpus_word_counter.pickle\"), \"rb\") as fd:\n",
    "    food_corpus_counter = pickle.load(fd)"
   ]
  },
  {
   "cell_type": "code",
   "execution_count": 2,
   "metadata": {},
   "outputs": [],
   "source": [
    "import sys\n",
    "import ufal.udpipe\n",
    "\n",
    "ud_model = ufal.udpipe.Model.load(\"russian-syntagrus-ud-2.4-190531.udpipe\")\n",
    "pipe = ufal.udpipe.Pipeline(ud_model, \"tokenize\", \"tag\", \"parse\", \"conllu\")"
   ]
  },
  {
   "cell_type": "code",
   "execution_count": 86,
   "metadata": {},
   "outputs": [],
   "source": [
    "with open(\"ruwac-parsed.out\", \"r\") as file:\n",
    "    corpus = file.read(120500000)"
   ]
  },
  {
   "cell_type": "code",
   "execution_count": 87,
   "metadata": {},
   "outputs": [
    {
     "name": "stdout",
     "output_type": "stream",
     "text": [
      "3956622\n"
     ]
    }
   ],
   "source": [
    "print(len(corpus.split(\"\\n\")))"
   ]
  },
  {
   "cell_type": "code",
   "execution_count": 92,
   "metadata": {},
   "outputs": [
    {
     "name": "stderr",
     "output_type": "stream",
     "text": [
      "100%|██████████| 3956622/3956622 [20:19<00:00, 3244.38it/s]\n"
     ]
    }
   ],
   "source": [
    "from tqdm import tqdm\n",
    "\n",
    "neutral_counter = Counter()\n",
    "\n",
    "tokens = corpus.split(\"\\n\")\n",
    "for token in tqdm(tokens):\n",
    "    if len(token.split(\"\\t\")) > 4:\n",
    "        tag = pipe.process(token.split(\"\\t\")[3]).split(\"\\t\")[3]\n",
    "        neutral_counter.update({token.split(\"\\t\")[3] + \"_\" + tag: 1})"
   ]
  },
  {
   "cell_type": "code",
   "execution_count": 93,
   "metadata": {},
   "outputs": [],
   "source": [
    "with open(os.path.join(\"utils\", \"neutral_corpus_word_counter.pickle\"), \"wb\") as fd:\n",
    "    food_corpus_counter = pickle.dump(neutral_counter, fd)"
   ]
  },
  {
   "cell_type": "code",
   "execution_count": 95,
   "metadata": {},
   "outputs": [
    {
     "data": {
      "text/plain": [
       "[(',_PUNCT', 311870),\n",
       " ('._PUNCT', 204368),\n",
       " ('и_CCONJ', 103893),\n",
       " ('в_ADP', 92811),\n",
       " ('не_PART', 60135),\n",
       " ('я_PRON', 49189),\n",
       " ('на_ADP', 47512),\n",
       " ('что_SCONJ', 43791),\n",
       " (')_PUNCT', 38694),\n",
       " ('быть_AUX', 37759)]"
      ]
     },
     "execution_count": 95,
     "metadata": {},
     "output_type": "execute_result"
    }
   ],
   "source": [
    "neutral_counter.most_common(10)"
   ]
  },
  {
   "cell_type": "code",
   "execution_count": 133,
   "metadata": {},
   "outputs": [],
   "source": [
    "for key in list(food_corpus_counter):\n",
    "    if key in neutral_counter and (\"_NOUN\" in key or \"_VERB\" in key):\n",
    "        food_corpus_counter[key] = food_corpus_counter[key] / neutral_counter[key]\n",
    "    else:\n",
    "        food_corpus_counter.pop(key)"
   ]
  },
  {
   "cell_type": "markdown",
   "metadata": {},
   "source": [
    "Нас интересуют только те токены, которые существенно существеннее в нашем корпусе, чем в нейтральном. Выберем некоторое количество наиболее особенных"
   ]
  },
  {
   "cell_type": "code",
   "execution_count": 217,
   "metadata": {},
   "outputs": [
    {
     "data": {
      "text/plain": [
       "[('телятина_NOUN', 564.0),\n",
       " ('вспомянуть_VERB', 441.0),\n",
       " ('сервировка_NOUN', 309.0),\n",
       " ('гребешка_NOUN', 289.0),\n",
       " ('пр._NOUN', 286.0),\n",
       " ('котлет_NOUN', 262.0),\n",
       " ('грудок_NOUN', 251.0),\n",
       " ('хостес_NOUN', 229.0),\n",
       " ('морс_NOUN', 222.66666666666666),\n",
       " ('шеф-повар_NOUN', 217.5)]"
      ]
     },
     "execution_count": 217,
     "metadata": {},
     "output_type": "execute_result"
    }
   ],
   "source": [
    "food_corpus_counter.most_common(10)"
   ]
  },
  {
   "cell_type": "code",
   "execution_count": 205,
   "metadata": {},
   "outputs": [],
   "source": [
    "keys = food_corpus_counter.most_common(700)"
   ]
  },
  {
   "cell_type": "markdown",
   "metadata": {},
   "source": [
    "Найдем центроиды имеющихся ключей по еде и посервису. Получаем два центроида. Далее мы будем использовать их как отправную точку для кластеризации значимых токенов в keys."
   ]
  },
  {
   "cell_type": "code",
   "execution_count": 206,
   "metadata": {},
   "outputs": [
    {
     "name": "stdout",
     "output_type": "stream",
     "text": [
      "['бутерброд', 'овощ', 'рагу', 'кушанье', 'батон', 'жаркое', 'напиток', 'суп', 'алкоголь', 'десерт', 'кляр', 'повар', 'сыр', 'кетчуп', 'тарелка', 'пицца', 'готовить', 'яство', 'паста', 'состав', 'спирт', 'говядина', 'варить', 'щука', 'кофе', 'гребешок', 'борщ', 'просфора', 'ингредиент', 'зажаривать', 'гуляш', 'тефтели', 'плюшка', 'ветчина', 'пшеница', 'запеканка', 'булочка', 'хлеб', 'баранина', 'морс', 'колбаса', 'выпечка', 'лимонад', 'квас', 'соус', 'молоко', 'печень', 'сок', 'свинина', 'ликёр', 'вино', 'цезарь', 'лосось', 'тунец', 'компот', 'подливка', 'бульон', 'нектар', 'блюдо', 'пунш', 'снедь', 'сосиска', 'обед', 'шампанское', 'краб', 'питие', 'пирог', 'стряпать', 'окунь', 'ужин', 'коктейль', 'песто', 'член', 'кальмар', 'поджаривать', 'жратва', 'пища', 'рыба', 'жарить', 'цена', 'мясо', 'японский', 'пирожок', 'плов', 'яичница', 'порция', 'коньяк', 'сухарь', 'форель', 'салат', 'макароны', 'котлета', 'йогурт', 'вермут', 'винегрет', 'кухня', 'завтрак', 'кока-кола', 'лисичка', 'гренок', 'еда', 'конина', 'каша', 'отварный', 'выпивка', 'кролик', 'ситро', 'креветка', 'кусок', 'чипсы', 'европейский', 'пиво', 'виски', 'булка', 'кисель', 'млеко']\n",
      "['официант', 'обслуживание', 'услуга', 'подсказывать', 'администрация', 'приносить', 'официантка', 'логистика', 'посоветовать', 'управление', 'руководство', 'персонал', 'пожелание', 'командование', 'советовать', 'транспорт', 'обслуживать', 'админ', 'рекомендовать', 'администратор', 'сервис', 'самоуправление']\n"
     ]
    }
   ],
   "source": [
    "from gensim.models import KeyedVectors\n",
    "import numpy as np\n",
    "import pymorphy2\n",
    "import os\n",
    "\n",
    "morph = pymorphy2.MorphAnalyzer()\n",
    "model = KeyedVectors.load_word2vec_format(os.path.join(\"wv\", \"model.bin\"), binary=True)\n",
    "\n",
    "tags = {\"NOUN\": \"NOUN\",\n",
    "       \"INFN\": \"VERB\",\n",
    "       \"ADJF\": \"ADJ\"}\n",
    "\n",
    "\n",
    "def get_key_centroids(key_path):\n",
    "    vectors = []\n",
    "    with open(key_path, \"r\") as file:\n",
    "        keys = file.read().split()\n",
    "        print(keys)\n",
    "        for i, key in enumerate(keys):\n",
    "            tag = morph.parse(key)[0].tag.POS\n",
    "            model_token = keys[i] + \"_\" + tags[tag]\n",
    "            if model_token in model:\n",
    "                vectors.append(model[model_token])\n",
    "    return np.mean(vectors)\n",
    "\n",
    "food_centroid = get_key_centroids(os.path.join(\"seeds\", \"food_key_extended.txt\"))\n",
    "service_centroid = get_key_centroids(os.path.join(\"seeds\", \"service_key_extended.txt\"))"
   ]
  },
  {
   "cell_type": "code",
   "execution_count": 207,
   "metadata": {},
   "outputs": [],
   "source": [
    "vectorized_keys = []\n",
    "vectorized_labels = []\n",
    "\n",
    "for key in keys:\n",
    "    if key[0] in model:\n",
    "        vectorized_keys.append(np.array(model[key[0]]))\n",
    "        vectorized_labels.append(key[0])\n",
    "\n",
    "vectorized_keys = np.array(vectorized_keys)"
   ]
  },
  {
   "cell_type": "code",
   "execution_count": 208,
   "metadata": {},
   "outputs": [
    {
     "data": {
      "text/plain": [
       "(564, 300)"
      ]
     },
     "execution_count": 208,
     "metadata": {},
     "output_type": "execute_result"
    }
   ],
   "source": [
    "vectorized_keys.shape"
   ]
  },
  {
   "cell_type": "markdown",
   "metadata": {},
   "source": [
    "Нормализуем векторизованные эмбеддинги и центроиды."
   ]
  },
  {
   "cell_type": "code",
   "execution_count": 209,
   "metadata": {},
   "outputs": [],
   "source": [
    "from sklearn.preprocessing import normalize\n",
    "\n",
    "normalized_embs = normalize(food_centroid + service_centroid + vectorized_keys, axis=1)"
   ]
  },
  {
   "cell_type": "code",
   "execution_count": 210,
   "metadata": {},
   "outputs": [],
   "source": [
    "keys_to_sort = normalized_embs[2:]\n",
    "food_centroid = normalized_embs[0]\n",
    "service_centroid = normalized_embs[1]"
   ]
  },
  {
   "cell_type": "code",
   "execution_count": 211,
   "metadata": {},
   "outputs": [
    {
     "name": "stderr",
     "output_type": "stream",
     "text": [
      "/usr/local/lib/python3.6/dist-packages/sklearn/cluster/k_means_.py:969: RuntimeWarning: Explicit initial center position passed: performing only one init in k-means instead of n_init=10\n",
      "  return_n_iter=True)\n"
     ]
    },
    {
     "data": {
      "text/plain": [
       "array([1, 0, 0, 0, 0, 1, 0, 1, 0, 1, 0, 0, 0, 0, 0, 1, 0, 0, 0, 0, 1, 1,\n",
       "       0, 1, 0, 0, 0, 1, 0, 1, 0, 0, 0, 0, 1, 0, 1, 0, 1, 0, 0, 0, 0, 1,\n",
       "       1, 0, 1, 0, 0, 0, 1, 0, 0, 1, 0, 1, 0, 1, 0, 0, 1, 0, 1, 0, 1, 1,\n",
       "       0, 0, 1, 0, 0, 0, 0, 0, 0, 1, 1, 1, 1, 0, 0, 0, 1, 0, 1, 1, 1, 0,\n",
       "       0, 1, 0, 0, 0, 1, 0, 0, 1, 0, 0, 0, 0, 0, 1, 0, 0, 1, 0, 0, 1, 1,\n",
       "       0, 1, 0, 0, 1, 1, 0, 0, 0, 1, 1, 0, 1, 1, 0, 0, 0, 1, 0, 1, 1, 1,\n",
       "       0, 0, 0, 0, 0, 1, 1, 0, 1, 0, 1, 1, 0, 1, 0, 0, 0, 0, 0, 0, 0, 0,\n",
       "       1, 1, 1, 0, 1, 0, 0, 1, 1, 0, 0, 1, 1, 1, 1, 0, 1, 0, 1, 0, 1, 0,\n",
       "       1, 0, 0, 0, 0, 1, 0, 1, 0, 0, 1, 0, 1, 0, 0, 1, 1, 0, 0, 1, 1, 0,\n",
       "       1, 1, 0, 1, 0, 1, 0, 1, 0, 1, 1, 1, 1, 0, 0, 0, 0, 0, 0, 1, 0, 0,\n",
       "       1, 1, 0, 1, 0, 0, 0, 1, 0, 0, 0, 0, 1, 1, 0, 1, 1, 0, 1, 0, 1, 0,\n",
       "       0, 0, 0, 1, 0, 1, 0, 0, 1, 0, 1, 1, 0, 0, 1, 0, 1, 0, 1, 1, 0, 1,\n",
       "       0, 1, 0, 1, 1, 0, 0, 0, 1, 1, 1, 0, 1, 1, 1, 0, 0, 1, 0, 0, 1, 1,\n",
       "       0, 0, 0, 0, 1, 1, 1, 0, 0, 0, 1, 1, 0, 0, 0, 0, 0, 0, 1, 0, 1, 0,\n",
       "       0, 0, 1, 1, 0, 0, 1, 1, 1, 1, 1, 1, 1, 1, 0, 1, 1, 0, 0, 1, 0, 1,\n",
       "       0, 1, 0, 0, 1, 1, 1, 1, 0, 1, 1, 0, 0, 1, 1, 0, 0, 1, 0, 1, 0, 1,\n",
       "       1, 0, 0, 0, 1, 1, 0, 1, 0, 0, 0, 0, 0, 0, 0, 1, 1, 1, 1, 1, 0, 0,\n",
       "       0, 1, 1, 1, 1, 1, 1, 1, 1, 1, 1, 1, 0, 0, 1, 0, 1, 1, 1, 0, 0, 0,\n",
       "       1, 1, 1, 0, 1, 1, 1, 1, 1, 0, 0, 1, 0, 0, 1, 0, 0, 1, 1, 1, 1, 1,\n",
       "       1, 0, 0, 1, 1, 1, 1, 0, 1, 0, 0, 0, 1, 0, 1, 0, 1, 0, 0, 0, 1, 0,\n",
       "       1, 0, 1, 0, 1, 0, 0, 0, 0, 0, 0, 1, 1, 1, 0, 0, 1, 0, 1, 1, 0, 1,\n",
       "       0, 1, 0, 0, 1, 1, 1, 0, 1, 1, 1, 1, 1, 1, 0, 1, 0, 1, 1, 0, 1, 1,\n",
       "       1, 0, 1, 1, 1, 1, 0, 1, 1, 0, 1, 0, 0, 1, 1, 1, 0, 0, 1, 0, 0, 1,\n",
       "       0, 1, 1, 1, 0, 0, 0, 1, 1, 0, 1, 0, 1, 1, 1, 0, 0, 1, 0, 0, 0, 1,\n",
       "       0, 1, 0, 0, 1, 1, 0, 1, 0, 1, 1, 0, 1, 1, 1, 0, 1, 1, 1, 1, 1, 1,\n",
       "       1, 1, 1, 0, 1, 1, 1, 1, 1, 1, 1, 1], dtype=int32)"
      ]
     },
     "execution_count": 211,
     "metadata": {},
     "output_type": "execute_result"
    }
   ],
   "source": [
    "from sklearn.cluster import KMeans\n",
    "\n",
    "kmeans = KMeans(n_clusters=2, init=np.array([food_centroid, service_centroid]), random_state=0).fit(keys_to_sort)\n",
    "sorted_keys = kmeans.labels_\n",
    "sorted_keys"
   ]
  },
  {
   "cell_type": "code",
   "execution_count": 212,
   "metadata": {},
   "outputs": [],
   "source": [
    "new_food_keys = []\n",
    "new_service_keys = []\n",
    "\n",
    "for i, class_ in enumerate(sorted_keys):\n",
    "    new_food_keys.append(vectorized_labels[i]) if class_ == 0 else new_service_keys.append(vectorized_labels[i]) "
   ]
  },
  {
   "cell_type": "code",
   "execution_count": 213,
   "metadata": {},
   "outputs": [
    {
     "name": "stdout",
     "output_type": "stream",
     "text": [
      "food: ['вспомянуть_VERB', 'сервировка_NOUN', 'гребешка_NOUN', 'котлет_NOUN', 'шеф-повар_NOUN', 'цыпленка_NOUN', 'угрь_NOUN', 'медальон_NOUN', 'баранина_NOUN', 'десерт_NOUN', 'мангал_NOUN', 'горшочка_NOUN', 'резервировать_VERB', 'эклер_NOUN', 'шпинат_NOUN', 'объедение_NOUN', 'стейк_NOUN', 'диванчик_NOUN', 'харчо_NOUN', 'плошка_NOUN', 'курочка_NOUN', 'кальяна_NOUN', 'заморозка_NOUN', 'орешка_NOUN', 'вареник_NOUN', 'говядина_NOUN', 'рагу_NOUN', 'ресторатор_NOUN', 'пирога_NOUN', 'мант_NOUN', 'бармен_NOUN', 'бекон_NOUN', 'банкет_NOUN', 'кляр_NOUN', 'гребешок_NOUN', 'ур_NOUN', 'закуска_NOUN', 'кальмар_NOUN', 'меню_NOUN', 'подложка_NOUN', 'кебаб_NOUN', 'маринад_NOUN', 'перечница_NOUN', 'накурить_VERB', 'сиг_NOUN', 'интерьер_NOUN', 'томат_NOUN', 'колбаска_NOUN', 'рис_NOUN', 'каперс_NOUN', 'заполненность_NOUN', 'караок_NOUN', 'соус_NOUN', 'капуччино_NOUN', 'пепельница_NOUN', 'нарекание_NOUN', 'свинина_NOUN', 'обсчитать_VERB', 'сидр_NOUN', 'сухарик_NOUN', 'суша_NOUN', 'лобио_NOUN', 'дыхать_VERB', 'фисташка_NOUN', 'повар_NOUN', 'порция_NOUN', 'фенхель_NOUN', 'терраса_NOUN', 'лучок_NOUN', 'кисло_NOUN', 'чек_NOUN', 'помидорчик_NOUN', 'див_NOUN', 'ресторация_NOUN', 'швейцар_NOUN', 'четвертинка_NOUN', 'возлежать_VERB', 'ужинать_VERB', 'заказывать_VERB', 'оленина_NOUN', 'фаст-фуд_NOUN', 'заведение_NOUN', 'усеться_VERB', 'шампанский_NOUN', 'пицца_NOUN', 'пампушка_NOUN', 'декорировать_VERB', 'вытяжка_NOUN', 'комочка_NOUN', 'судак_NOUN', 'диванный_VERB', 'вилочка_NOUN', 'трюфель_NOUN', 'щи_NOUN', 'киш_NOUN', 'кура_NOUN', 'долька_NOUN', 'своротить_VERB', 'сухофрукт_NOUN', 'приветливость_NOUN', 'микс_NOUN', 'подвальчик_NOUN', 'плазма_NOUN', 'кунжут_NOUN', 'кислинка_NOUN', 'фрикаделька_NOUN', 'квас_NOUN', 'вечерка_NOUN', 'окрошка_NOUN', 'паштет_NOUN', 'тарелка_NOUN', 'уточка_NOUN', 'осьминога_NOUN', 'цукат_NOUN', 'грейпфрут_NOUN', 'загруженность_NOUN', 'паб_NOUN', 'уть_NOUN', 'пробовать_VERB', 'месторасположение_NOUN', 'поперчить_VERB', 'корзиночка_NOUN', 'перекусить_VERB', 'накладка_NOUN', 'изысканность_NOUN', 'салфетка_NOUN', 'каравай_NOUN', 'вкуснятина_NOUN', 'столовка_NOUN', 'соломка_NOUN', 'изыска_NOUN', 'расхотеться_VERB', 'сервировать_VERB', 'припарковаться_VERB', 'котлетка_NOUN', 'доливать_VERB', 'лонг_NOUN', 'нарезка_NOUN', 'анчоус_NOUN', 'натанцеваться_VERB', 'полотенец_NOUN', 'глинтвейн_NOUN', 'форель_NOUN', 'заказ_NOUN', 'дегустировать_VERB', 'консервировать_VERB', 'стручок_NOUN', 'бокальчик_NOUN', 'вентиляция_NOUN', 'бисквит_NOUN', 'перепробовать_VERB', 'фуршет_NOUN', 'шампиньон_NOUN', 'помидор_NOUN', 'хвать_VERB', 'минога_NOUN', 'сметанка_NOUN', 'бар_NOUN', 'заправка_NOUN', 'фасоль_NOUN', 'тать_VERB', 'канарейка_NOUN', 'зал_NOUN', 'трапеза_NOUN', 'стойка_NOUN', 'вкрапление_NOUN', 'справлять_VERB', 'борщ_NOUN', 'кувшина_NOUN', 'пиццерия_NOUN', 'расторопность_NOUN', 'ведерка_NOUN', 'хамка_NOUN', 'бэби_NOUN', 'казан_NOUN', 'лепешка_NOUN', 'пельмень_NOUN', 'овощ_NOUN', 'инжир_NOUN', 'наедаться_VERB', 'экстерьер_NOUN', 'микроволновка_NOUN', 'ангелочка_NOUN', 'аутентичность_NOUN', 'лагер_NOUN', 'принести_VERB', 'декоратор_NOUN', 'подгореть_VERB', 'объеться_VERB', 'лисичка_NOUN', 'броня_NOUN', 'купон_NOUN', 'отзыв_NOUN', 'лять_VERB', 'галдеж_NOUN', 'усаживать_VERB', 'уплетать_VERB', 'сдобрить_VERB', 'рассадить_VERB', 'шалман_NOUN', 'осетр_NOUN', 'вынос_NOUN', 'напиток_NOUN', 'обслужить_VERB', 'штрудель_NOUN', 'салатик_NOUN', 'краб_NOUN', 'гурман_NOUN', 'оливье_NOUN', 'уборная_NOUN', 'изыск_NOUN', 'корзинка_NOUN', 'заказанный_VERB', 'вокалистка_NOUN', 'рулет_NOUN', 'освежать_VERB', 'торжество_NOUN', 'послевкусие_NOUN', 'администратор_NOUN', 'праздновать_VERB', 'порадовать_VERB', 'стерлядь_NOUN', 'комплимент_NOUN', 'объесться_VERB', 'местечко_NOUN', 'изюминка_NOUN', 'обслуга_NOUN', 'приплюсовать_VERB', 'биток_NOUN', 'рассиживаться_VERB', 'марципан_NOUN', 'разморозить_VERB', 'мельничка_NOUN', 'угоститься_VERB', 'пивовар_NOUN', 'пиво_NOUN', 'утка_NOUN', 'бульон_NOUN', 'пудинг_NOUN', 'икра_NOUN', 'остыть_VERB', 'корочка_NOUN', 'начинка_NOUN', 'морковь_NOUN', 'сироп_NOUN', 'перелить_VERB', 'пропитка_NOUN', 'трубочка_NOUN', 'гардероб_NOUN', 'еда_NOUN', 'омлет_NOUN', 'мень_NOUN', 'перебор_NOUN', 'старательность_NOUN', 'розочка_NOUN', 'разворотить_VERB', 'заляпать_VERB', 'васек_NOUN', 'висюлька_NOUN', 'физалис_NOUN', 'спешать_VERB', 'приготовить_VERB', 'остывать_VERB', 'текила_NOUN', 'расплатиться_VERB', 'ингредиент_NOUN', 'оттенять_VERB', 'прибор_NOUN', 'перец_NOUN', 'здороваться_VERB', 'клубника_NOUN', 'доплатить_VERB', 'мя_NOUN', 'кусочек_NOUN', 'вешалка_NOUN', 'солить_VERB', 'булочка_NOUN', 'ложечка_NOUN', 'свадьба_NOUN', 'кафешка_NOUN', 'чипсы_NOUN', 'огрех_NOUN', 'гармонировать_VERB', 'обходительность_NOUN']\n",
      "service: ['телятина_NOUN', 'морс_NOUN', 'официант_NOUN', 'пересолить_VERB', 'мусс_NOUN', 'индейка_NOUN', 'пюре_NOUN', 'лазанье_NOUN', 'шашлычок_NOUN', 'комплемент_NOUN', 'мидие_NOUN', 'медиум_NOUN', 'официантка_NOUN', 'пармезан_NOUN', 'угорь_NOUN', 'пинт_NOUN', 'гарнир_NOUN', 'филе_NOUN', 'обивка_NOUN', 'обслуживание_NOUN', 'картофель_NOUN', 'ресторан_NOUN', 'накрытие_NOUN', 'горошка_NOUN', 'оладья_NOUN', 'тарелочка_NOUN', 'баклажан_NOUN', 'цезарь_NOUN', 'обслуживать_VERB', 'оливка_NOUN', 'осадка_NOUN', 'салат_NOUN', 'столик_NOUN', 'обжарить_VERB', 'лимонад_NOUN', 'морепродукт_NOUN', 'драник_NOUN', 'шашлык_NOUN', 'кусочка_NOUN', 'сельдь_NOUN', 'персонал_NOUN', 'суп_NOUN', 'грудка_NOUN', 'супчик_NOUN', 'листика_NOUN', 'радушие_NOUN', 'селедочка_NOUN', 'сочность_NOUN', 'придраться_VERB', 'мармелад_NOUN', 'обедать_VERB', 'лагман_NOUN', 'прожарить_VERB', 'обговаривать_VERB', 'процветание_NOUN', 'паста_NOUN', 'видывать_VERB', 'чабрец_NOUN', 'чечевица_NOUN', 'ценник_NOUN', 'барашка_NOUN', 'гуляш_NOUN', 'ветчина_NOUN', 'соление_NOUN', 'греча_NOUN', 'проектор_NOUN', 'бокал_NOUN', 'бронировать_VERB', 'доброжелательность_NOUN', 'забронировать_VERB', 'присыпать_VERB', 'кухня_NOUN', 'отметь_VERB', 'кондитер_NOUN', 'заказать_VERB', 'наесться_VERB', 'креветка_NOUN', 'яство_NOUN', 'лапша_NOUN', 'подкачать_VERB', 'перчик_NOUN', 'радуться_VERB', 'саксофонист_NOUN', 'панибратство_NOUN', 'миня_NOUN', 'консистенция_NOUN', 'веранда_NOUN', 'ваз_NOUN', 'мидия_NOUN', 'апельсина_NOUN', 'печенка_NOUN', 'мег_NOUN', 'фаршированный_VERB', 'тара_NOUN', 'мисочка_NOUN', 'уныть_VERB', 'антрекот_NOUN', 'диссонировать_VERB', 'абажур_NOUN', 'заварка_NOUN', 'кофемашина_NOUN', 'облизать_VERB', 'вырезка_NOUN', 'смородина_NOUN', 'блинчик_NOUN', 'посещение_NOUN', 'тд_NOUN', 'едать_VERB', 'забывчивость_NOUN', 'текучка_NOUN', 'ихать_VERB', 'чаинка_NOUN', 'компот_NOUN', 'панировка_NOUN', 'миньон_NOUN', 'закуток_NOUN', 'базилик_NOUN', 'подача_NOUN', 'сыр_NOUN', 'суфле_NOUN', 'еть_VERB', 'осьминог_NOUN', 'буженина_NOUN', 'пунктика_NOUN', 'кальвадос_NOUN', 'бурд_NOUN', 'скатерть_NOUN', 'оказия_NOUN', 'курица_NOUN', 'вафля_NOUN', 'зеленушка_NOUN', 'зажарить_VERB', 'предупредительность_NOUN', 'умиротворять_VERB', 'бегемота_NOUN', 'мд_NOUN', 'молодца_NOUN', 'усы_NOUN', 'подзывать_VERB', 'фаршировать_VERB', 'разогревать_VERB', 'американо_VERB', 'пересадить_VERB', 'коктейль_NOUN', 'мясо_NOUN', 'сервис_NOUN', 'портить_VERB', 'кафе_NOUN', 'торт_NOUN', 'оголодать_VERB', 'морозилка_NOUN', 'бифштекс_NOUN', 'поскупиться_VERB', 'середнячок_NOUN', 'маслина_NOUN', 'тмин_NOUN', 'сливки_NOUN', 'понравиться_VERB', 'лимон_NOUN', 'свекла_NOUN', 'униформа_NOUN', 'атмосфера_NOUN', 'подпортить_VERB', 'разносол_NOUN', 'джина_NOUN', 'вуалировать_VERB', 'шторка_NOUN', 'зарезервировать_VERB', 'задрапировать_VERB', 'округлять_VERB', 'оттенить_VERB', 'косячок_NOUN', 'обрамление_NOUN', 'бро_NOUN', 'папайя_NOUN', 'корпоратив_NOUN', 'огурец_NOUN', 'убранство_NOUN', 'рецептура_NOUN', 'картошечка_NOUN', 'скрашивать_VERB', 'филадельфия_NOUN', 'запеканка_NOUN', 'демократичность_NOUN', 'очередность_NOUN', 'стол_NOUN', 'каракатица_NOUN', 'гриб_NOUN', 'чай_NOUN', 'настойка_NOUN', 'котика_NOUN', 'льдинка_NOUN', 'самообслуживание_NOUN', 'пересесть_VERB', 'похлебка_NOUN', 'закусь_VERB', 'скудность_NOUN', 'избегнуть_VERB', 'аниматор_NOUN', 'рюмочка_NOUN', 'кудесник_NOUN', 'голяшка_NOUN', 'тыква_NOUN', 'придирка_NOUN', 'подавать_VERB', 'стажер_NOUN', 'шарлотка_NOUN', 'сытость_NOUN', 'хотить_VERB', 'сорт_NOUN', 'усадить_VERB', 'разбавить_VERB', 'убавить_VERB', 'приглушить_VERB', 'фарш_NOUN', 'петрушка_NOUN', 'местоположение_NOUN', 'уют_NOUN', 'месиво_NOUN', 'спутница_NOUN', 'декорирование_NOUN', 'бль_NOUN', 'стульчик_NOUN', 'поверка_NOUN', 'сметься_VERB', 'супец_NOUN', 'девичник_NOUN', 'выпекать_VERB', 'добреть_VERB', 'куличик_NOUN', 'силос_NOUN', 'предостеречь_VERB', 'карандашик_NOUN', 'подстаканник_NOUN', 'фиша_NOUN', 'пивок_NOUN', 'пенка_NOUN', 'сырник_NOUN', 'обстановка_NOUN', 'сметана_NOUN', 'огурчик_NOUN', 'гостеприимство_NOUN', 'специя_NOUN', 'осматриваться_VERB', 'переварить_VERB', 'вкус_NOUN', 'попивать_VERB', 'тк_NOUN', 'дыня_NOUN', 'айс_NOUN', 'студень_NOUN', 'имбирь_NOUN', 'торшер_NOUN', 'поднос_NOUN', 'ракушка_NOUN', 'танцпол_NOUN', 'изыскать_VERB', 'майонез_NOUN', 'подливать_VERB', 'груша_NOUN', 'текстура_NOUN', 'свинарник_NOUN', 'перекус_NOUN', 'саксофон_NOUN', 'теплоход_NOUN', 'промашка_NOUN', 'дробь_NOUN', 'отзвониться_VERB', 'синьор_NOUN', 'вычурность_NOUN', 'лепка_NOUN', 'голодуха_NOUN', 'засиживаться_VERB', 'одолжение_NOUN', 'коптильня_NOUN', 'раздолье_NOUN', 'отчитывать_VERB', 'благожелательность_NOUN']\n"
     ]
    }
   ],
   "source": [
    "print(\"food:\", new_food_keys)\n",
    "print(\"service:\", new_service_keys)"
   ]
  },
  {
   "cell_type": "markdown",
   "metadata": {},
   "source": [
    "Ключи получились не очень, особенно у сервиса. Попробуем взять только самые близкие к центроидам токены из всех, что рассортировала модель."
   ]
  },
  {
   "cell_type": "code",
   "execution_count": 214,
   "metadata": {},
   "outputs": [],
   "source": [
    "from scipy.spatial.distance import cosine\n",
    "\n",
    "food_cosine = Counter()\n",
    "service_cosine = Counter()\n",
    "\n",
    "for i, class_ in enumerate(sorted_keys):\n",
    "    if class_ == 0:\n",
    "        food_cosine.update({vectorized_labels[i]: cosine(food_centroid, keys_to_sort[i])})\n",
    "    else:\n",
    "        service_cosine.update({vectorized_labels[i]: cosine(service_centroid, keys_to_sort[i])})"
   ]
  },
  {
   "cell_type": "code",
   "execution_count": 221,
   "metadata": {},
   "outputs": [
    {
     "data": {
      "text/plain": [
       "[('сметанка_NOUN', 0.8887681216001511),\n",
       " ('пропитка_NOUN', 0.8865084424614906),\n",
       " ('вспомянуть_VERB', 0.8723135590553284),\n",
       " ('кура_NOUN', 0.8707289546728134),\n",
       " ('четвертинка_NOUN', 0.8680258989334106),\n",
       " ('нарезка_NOUN', 0.8620701432228088),\n",
       " ('котлетка_NOUN', 0.8579867482185364),\n",
       " ('вытяжка_NOUN', 0.8513587862253189),\n",
       " ('лучок_NOUN', 0.8502956330776215),\n",
       " ('старательность_NOUN', 0.8368657678365707)]"
      ]
     },
     "execution_count": 221,
     "metadata": {},
     "output_type": "execute_result"
    }
   ],
   "source": [
    "food_cosine.most_common(10)"
   ]
  },
  {
   "cell_type": "code",
   "execution_count": 220,
   "metadata": {},
   "outputs": [
    {
     "data": {
      "text/plain": [
       "[('подливать_VERB', 1.2080330699682236),\n",
       " ('фаршировать_VERB', 1.1630410701036453),\n",
       " ('пенка_NOUN', 1.1565651595592499),\n",
       " ('официантка_NOUN', 1.1546566933393478),\n",
       " ('соление_NOUN', 1.1514314860105515),\n",
       " ('мидие_NOUN', 1.14872445166111),\n",
       " ('абажур_NOUN', 1.1450221538543701),\n",
       " ('оладья_NOUN', 1.1426728963851929),\n",
       " ('сельдь_NOUN', 1.1379251182079315),\n",
       " ('подавать_VERB', 1.1338455975055695)]"
      ]
     },
     "execution_count": 220,
     "metadata": {},
     "output_type": "execute_result"
    }
   ],
   "source": [
    "service_cosine.most_common(10)"
   ]
  },
  {
   "cell_type": "markdown",
   "metadata": {},
   "source": [
    "Все равно что-то не очень хорошо."
   ]
  },
  {
   "cell_type": "code",
   "execution_count": 224,
   "metadata": {},
   "outputs": [],
   "source": [
    "with open(os.path.join(\"seeds\", \"super_extended_food_keys.txt\"), \"w\") as fd:\n",
    "    for el in food_cosine.most_common():\n",
    "        fd.write(el[0] + \"\\t\" + str(el[1]) + \"\\n\")\n",
    "        \n",
    "with open(os.path.join(\"seeds\", \"super_extended_service_keys.txt\"), \"w\") as fd:\n",
    "    for el in service_cosine.most_common():\n",
    "        fd.write(el[0] + \"\\t\" + str(el[1]) + \"\\n\")"
   ]
  },
  {
   "cell_type": "code",
   "execution_count": null,
   "metadata": {},
   "outputs": [],
   "source": []
  }
 ],
 "metadata": {
  "kernelspec": {
   "display_name": "Python 3",
   "language": "python",
   "name": "python3"
  },
  "language_info": {
   "codemirror_mode": {
    "name": "ipython",
    "version": 3
   },
   "file_extension": ".py",
   "mimetype": "text/x-python",
   "name": "python",
   "nbconvert_exporter": "python",
   "pygments_lexer": "ipython3",
   "version": "3.6.8"
  }
 },
 "nbformat": 4,
 "nbformat_minor": 2
}
