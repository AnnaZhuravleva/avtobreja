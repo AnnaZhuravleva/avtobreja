{
  "nbformat": 4,
  "nbformat_minor": 0,
  "metadata": {
    "accelerator": "GPU",
    "colab": {
      "name": "Aspect separation.ipynb",
      "provenance": [],
      "collapsed_sections": [],
      "machine_shape": "hm",
      "include_colab_link": true
    },
    "kernelspec": {
      "name": "python3",
      "display_name": "Python 3"
    },
    "language_info": {
      "codemirror_mode": {
        "name": "ipython",
        "version": 3
      },
      "file_extension": ".py",
      "mimetype": "text/x-python",
      "name": "python",
      "nbconvert_exporter": "python",
      "pygments_lexer": "ipython3",
      "version": "3.7.4"
    }
  },
  "cells": [
    {
      "cell_type": "markdown",
      "metadata": {
        "id": "view-in-github",
        "colab_type": "text"
      },
      "source": [
        "<a href=\"https://colab.research.google.com/github/AnnaZhuravleva/avtobreja/blob/master/Aspect_separation.ipynb\" target=\"_parent\"><img src=\"https://colab.research.google.com/assets/colab-badge.svg\" alt=\"Open In Colab\"/></a>"
      ]
    },
    {
      "cell_type": "code",
      "metadata": {
        "colab_type": "code",
        "id": "Ec9ls9EIzwn_",
        "outputId": "94b03074-0a76-46f7-d751-9fea7f060e99",
        "colab": {
          "base_uri": "https://localhost:8080/",
          "height": 355
        }
      },
      "source": [
        "!pip install innvestigate"
      ],
      "execution_count": 1,
      "outputs": [
        {
          "output_type": "stream",
          "text": [
            "Requirement already satisfied: innvestigate in /usr/local/lib/python3.6/dist-packages (1.0.8)\n",
            "Requirement already satisfied: numpy in /usr/local/lib/python3.6/dist-packages (from innvestigate) (1.17.4)\n",
            "Requirement already satisfied: h5py in /usr/local/lib/python3.6/dist-packages (from innvestigate) (2.8.0)\n",
            "Requirement already satisfied: future in /usr/local/lib/python3.6/dist-packages (from innvestigate) (0.16.0)\n",
            "Requirement already satisfied: pillow in /usr/local/lib/python3.6/dist-packages (from innvestigate) (4.3.0)\n",
            "Requirement already satisfied: keras==2.2.4 in /usr/local/lib/python3.6/dist-packages (from innvestigate) (2.2.4)\n",
            "Requirement already satisfied: scipy in /usr/local/lib/python3.6/dist-packages (from innvestigate) (1.3.3)\n",
            "Requirement already satisfied: pytest in /usr/local/lib/python3.6/dist-packages (from innvestigate) (3.6.4)\n",
            "Requirement already satisfied: six in /usr/local/lib/python3.6/dist-packages (from h5py->innvestigate) (1.12.0)\n",
            "Requirement already satisfied: olefile in /usr/local/lib/python3.6/dist-packages (from pillow->innvestigate) (0.46)\n",
            "Requirement already satisfied: pyyaml in /usr/local/lib/python3.6/dist-packages (from keras==2.2.4->innvestigate) (3.13)\n",
            "Requirement already satisfied: keras-applications>=1.0.6 in /usr/local/lib/python3.6/dist-packages (from keras==2.2.4->innvestigate) (1.0.8)\n",
            "Requirement already satisfied: keras-preprocessing>=1.0.5 in /usr/local/lib/python3.6/dist-packages (from keras==2.2.4->innvestigate) (1.1.0)\n",
            "Requirement already satisfied: setuptools in /usr/local/lib/python3.6/dist-packages (from pytest->innvestigate) (42.0.2)\n",
            "Requirement already satisfied: attrs>=17.4.0 in /usr/local/lib/python3.6/dist-packages (from pytest->innvestigate) (19.3.0)\n",
            "Requirement already satisfied: py>=1.5.0 in /usr/local/lib/python3.6/dist-packages (from pytest->innvestigate) (1.8.0)\n",
            "Requirement already satisfied: pluggy<0.8,>=0.5 in /usr/local/lib/python3.6/dist-packages (from pytest->innvestigate) (0.7.1)\n",
            "Requirement already satisfied: atomicwrites>=1.0 in /usr/local/lib/python3.6/dist-packages (from pytest->innvestigate) (1.3.0)\n",
            "Requirement already satisfied: more-itertools>=4.0.0 in /usr/local/lib/python3.6/dist-packages (from pytest->innvestigate) (8.0.2)\n"
          ],
          "name": "stdout"
        }
      ]
    },
    {
      "cell_type": "code",
      "metadata": {
        "colab_type": "code",
        "id": "cBt9Gi0PzwoK",
        "outputId": "2c710fa6-13e7-4d00-c360-b3b8226a7e77",
        "colab": {
          "base_uri": "https://localhost:8080/",
          "height": 372
        }
      },
      "source": [
        "!pip install tensorflow==1.14.0"
      ],
      "execution_count": 2,
      "outputs": [
        {
          "output_type": "stream",
          "text": [
            "Requirement already satisfied: tensorflow==1.14.0 in /usr/local/lib/python3.6/dist-packages (1.14.0)\n",
            "Requirement already satisfied: absl-py>=0.7.0 in /usr/local/lib/python3.6/dist-packages (from tensorflow==1.14.0) (0.8.1)\n",
            "Requirement already satisfied: six>=1.10.0 in /usr/local/lib/python3.6/dist-packages (from tensorflow==1.14.0) (1.12.0)\n",
            "Requirement already satisfied: google-pasta>=0.1.6 in /usr/local/lib/python3.6/dist-packages (from tensorflow==1.14.0) (0.1.8)\n",
            "Requirement already satisfied: protobuf>=3.6.1 in /usr/local/lib/python3.6/dist-packages (from tensorflow==1.14.0) (3.10.0)\n",
            "Requirement already satisfied: tensorflow-estimator<1.15.0rc0,>=1.14.0rc0 in /usr/local/lib/python3.6/dist-packages (from tensorflow==1.14.0) (1.14.0)\n",
            "Requirement already satisfied: wrapt>=1.11.1 in /usr/local/lib/python3.6/dist-packages (from tensorflow==1.14.0) (1.11.2)\n",
            "Requirement already satisfied: termcolor>=1.1.0 in /usr/local/lib/python3.6/dist-packages (from tensorflow==1.14.0) (1.1.0)\n",
            "Requirement already satisfied: wheel>=0.26 in /usr/local/lib/python3.6/dist-packages (from tensorflow==1.14.0) (0.33.6)\n",
            "Requirement already satisfied: keras-applications>=1.0.6 in /usr/local/lib/python3.6/dist-packages (from tensorflow==1.14.0) (1.0.8)\n",
            "Requirement already satisfied: gast>=0.2.0 in /usr/local/lib/python3.6/dist-packages (from tensorflow==1.14.0) (0.2.2)\n",
            "Requirement already satisfied: grpcio>=1.8.6 in /usr/local/lib/python3.6/dist-packages (from tensorflow==1.14.0) (1.15.0)\n",
            "Requirement already satisfied: keras-preprocessing>=1.0.5 in /usr/local/lib/python3.6/dist-packages (from tensorflow==1.14.0) (1.1.0)\n",
            "Requirement already satisfied: numpy<2.0,>=1.14.5 in /usr/local/lib/python3.6/dist-packages (from tensorflow==1.14.0) (1.17.4)\n",
            "Requirement already satisfied: astor>=0.6.0 in /usr/local/lib/python3.6/dist-packages (from tensorflow==1.14.0) (0.8.1)\n",
            "Requirement already satisfied: tensorboard<1.15.0,>=1.14.0 in /usr/local/lib/python3.6/dist-packages (from tensorflow==1.14.0) (1.14.0)\n",
            "Requirement already satisfied: setuptools in /usr/local/lib/python3.6/dist-packages (from protobuf>=3.6.1->tensorflow==1.14.0) (42.0.2)\n",
            "Requirement already satisfied: h5py in /usr/local/lib/python3.6/dist-packages (from keras-applications>=1.0.6->tensorflow==1.14.0) (2.8.0)\n",
            "Requirement already satisfied: werkzeug>=0.11.15 in /usr/local/lib/python3.6/dist-packages (from tensorboard<1.15.0,>=1.14.0->tensorflow==1.14.0) (0.16.0)\n",
            "Requirement already satisfied: markdown>=2.6.8 in /usr/local/lib/python3.6/dist-packages (from tensorboard<1.15.0,>=1.14.0->tensorflow==1.14.0) (3.1.1)\n"
          ],
          "name": "stdout"
        }
      ]
    },
    {
      "cell_type": "code",
      "metadata": {
        "id": "XtO9KcJducxB",
        "colab_type": "code",
        "outputId": "b1cacb2b-a8d4-43b2-f5d8-858acd7ac20f",
        "colab": {
          "base_uri": "https://localhost:8080/",
          "height": 35
        }
      },
      "source": [
        "!pip install tqdm"
      ],
      "execution_count": 3,
      "outputs": [
        {
          "output_type": "stream",
          "text": [
            "Requirement already satisfied: tqdm in /usr/local/lib/python3.6/dist-packages (4.28.1)\n"
          ],
          "name": "stdout"
        }
      ]
    },
    {
      "cell_type": "code",
      "metadata": {
        "colab_type": "code",
        "id": "56mr43dU082W",
        "colab": {}
      },
      "source": [
        "!wget http://vectors.nlpl.eu/repository/11/180.zip"
      ],
      "execution_count": 0,
      "outputs": []
    },
    {
      "cell_type": "code",
      "metadata": {
        "id": "S6yBlvapyZD3",
        "colab_type": "code",
        "colab": {
          "base_uri": "https://localhost:8080/",
          "height": 106
        },
        "outputId": "f5b54316-d01e-4c29-a65f-417b841a5b86"
      },
      "source": [
        "!unzip 180.zip"
      ],
      "execution_count": 104,
      "outputs": [
        {
          "output_type": "stream",
          "text": [
            "Archive:  180.zip\n",
            "  inflating: README                  \n",
            "  inflating: meta.json               \n",
            "  inflating: model.bin               \n",
            "  inflating: model.txt               \n"
          ],
          "name": "stdout"
        }
      ]
    },
    {
      "cell_type": "code",
      "metadata": {
        "colab_type": "code",
        "id": "x3s8x5jkzwoO",
        "outputId": "d0121c53-ba3b-4340-c609-bb9f43aea425",
        "colab": {
          "base_uri": "https://localhost:8080/",
          "height": 528
        }
      },
      "source": [
        "import innvestigate\n",
        "import keras.backend\n",
        "import keras.models\n",
        "import matplotlib.pyplot as plt\n",
        "import numpy as np\n",
        "import os\n",
        "import pandas as pd\n",
        "import pickle\n",
        "import sys\n",
        "import time\n",
        "\n",
        "from collections import Counter\n",
        "from gensim.models import KeyedVectors\n",
        "from itertools import chain\n",
        "from innvestigate.utils.tests.networks import base as network_base\n",
        "from matplotlib import cm, transforms\n",
        "from sklearn.model_selection import train_test_split\n",
        "from tqdm import tqdm"
      ],
      "execution_count": 7,
      "outputs": [
        {
          "output_type": "stream",
          "text": [
            "Using TensorFlow backend.\n",
            "/usr/local/lib/python3.6/dist-packages/tensorflow/python/framework/dtypes.py:516: FutureWarning: Passing (type, 1) or '1type' as a synonym of type is deprecated; in a future version of numpy, it will be understood as (type, (1,)) / '(1,)type'.\n",
            "  _np_qint8 = np.dtype([(\"qint8\", np.int8, 1)])\n",
            "/usr/local/lib/python3.6/dist-packages/tensorflow/python/framework/dtypes.py:517: FutureWarning: Passing (type, 1) or '1type' as a synonym of type is deprecated; in a future version of numpy, it will be understood as (type, (1,)) / '(1,)type'.\n",
            "  _np_quint8 = np.dtype([(\"quint8\", np.uint8, 1)])\n",
            "/usr/local/lib/python3.6/dist-packages/tensorflow/python/framework/dtypes.py:518: FutureWarning: Passing (type, 1) or '1type' as a synonym of type is deprecated; in a future version of numpy, it will be understood as (type, (1,)) / '(1,)type'.\n",
            "  _np_qint16 = np.dtype([(\"qint16\", np.int16, 1)])\n",
            "/usr/local/lib/python3.6/dist-packages/tensorflow/python/framework/dtypes.py:519: FutureWarning: Passing (type, 1) or '1type' as a synonym of type is deprecated; in a future version of numpy, it will be understood as (type, (1,)) / '(1,)type'.\n",
            "  _np_quint16 = np.dtype([(\"quint16\", np.uint16, 1)])\n",
            "/usr/local/lib/python3.6/dist-packages/tensorflow/python/framework/dtypes.py:520: FutureWarning: Passing (type, 1) or '1type' as a synonym of type is deprecated; in a future version of numpy, it will be understood as (type, (1,)) / '(1,)type'.\n",
            "  _np_qint32 = np.dtype([(\"qint32\", np.int32, 1)])\n",
            "/usr/local/lib/python3.6/dist-packages/tensorflow/python/framework/dtypes.py:525: FutureWarning: Passing (type, 1) or '1type' as a synonym of type is deprecated; in a future version of numpy, it will be understood as (type, (1,)) / '(1,)type'.\n",
            "  np_resource = np.dtype([(\"resource\", np.ubyte, 1)])\n",
            "/usr/local/lib/python3.6/dist-packages/tensorboard/compat/tensorflow_stub/dtypes.py:541: FutureWarning: Passing (type, 1) or '1type' as a synonym of type is deprecated; in a future version of numpy, it will be understood as (type, (1,)) / '(1,)type'.\n",
            "  _np_qint8 = np.dtype([(\"qint8\", np.int8, 1)])\n",
            "/usr/local/lib/python3.6/dist-packages/tensorboard/compat/tensorflow_stub/dtypes.py:542: FutureWarning: Passing (type, 1) or '1type' as a synonym of type is deprecated; in a future version of numpy, it will be understood as (type, (1,)) / '(1,)type'.\n",
            "  _np_quint8 = np.dtype([(\"quint8\", np.uint8, 1)])\n",
            "/usr/local/lib/python3.6/dist-packages/tensorboard/compat/tensorflow_stub/dtypes.py:543: FutureWarning: Passing (type, 1) or '1type' as a synonym of type is deprecated; in a future version of numpy, it will be understood as (type, (1,)) / '(1,)type'.\n",
            "  _np_qint16 = np.dtype([(\"qint16\", np.int16, 1)])\n",
            "/usr/local/lib/python3.6/dist-packages/tensorboard/compat/tensorflow_stub/dtypes.py:544: FutureWarning: Passing (type, 1) or '1type' as a synonym of type is deprecated; in a future version of numpy, it will be understood as (type, (1,)) / '(1,)type'.\n",
            "  _np_quint16 = np.dtype([(\"quint16\", np.uint16, 1)])\n",
            "/usr/local/lib/python3.6/dist-packages/tensorboard/compat/tensorflow_stub/dtypes.py:545: FutureWarning: Passing (type, 1) or '1type' as a synonym of type is deprecated; in a future version of numpy, it will be understood as (type, (1,)) / '(1,)type'.\n",
            "  _np_qint32 = np.dtype([(\"qint32\", np.int32, 1)])\n",
            "/usr/local/lib/python3.6/dist-packages/tensorboard/compat/tensorflow_stub/dtypes.py:550: FutureWarning: Passing (type, 1) or '1type' as a synonym of type is deprecated; in a future version of numpy, it will be understood as (type, (1,)) / '(1,)type'.\n",
            "  np_resource = np.dtype([(\"resource\", np.ubyte, 1)])\n"
          ],
          "name": "stderr"
        },
        {
          "output_type": "display_data",
          "data": {
            "text/html": [
              "<p style=\"color: red;\">\n",
              "The default version of TensorFlow in Colab will soon switch to TensorFlow 2.x.<br>\n",
              "We recommend you <a href=\"https://www.tensorflow.org/guide/migrate\" target=\"_blank\">upgrade</a> now \n",
              "or ensure your notebook will continue to use TensorFlow 1.x via the <code>%tensorflow_version 1.x</code> magic:\n",
              "<a href=\"https://colab.research.google.com/notebooks/tensorflow_version.ipynb\" target=\"_blank\">more info</a>.</p>\n"
            ],
            "text/plain": [
              "<IPython.core.display.HTML object>"
            ]
          },
          "metadata": {
            "tags": []
          }
        }
      ]
    },
    {
      "cell_type": "markdown",
      "metadata": {
        "id": "DFeFPWhajwCH",
        "colab_type": "text"
      },
      "source": [
        "### Данные\n",
        "Каждый текст - строчка из токенов лемма_тег. Оценки отдельно выведены для сервиса, отдельно для еды. Мы будем строить бинарную классификацию, поэтому будем считать оценки выше 5 положительными, а 5 и ниже — отрицательными."
      ]
    },
    {
      "cell_type": "code",
      "metadata": {
        "id": "gOZWESjuKeCH",
        "colab_type": "code",
        "outputId": "4deb8551-20e9-4ab5-df1f-67f059a31f11",
        "colab": {
          "base_uri": "https://localhost:8080/",
          "height": 35
        }
      },
      "source": [
        "from google.colab import drive\n",
        "drive.mount(\"/content/drive\", force_remount=True)"
      ],
      "execution_count": 8,
      "outputs": [
        {
          "output_type": "stream",
          "text": [
            "Mounted at /content/drive\n"
          ],
          "name": "stdout"
        }
      ]
    },
    {
      "cell_type": "code",
      "metadata": {
        "id": "gUqSakq6sai7",
        "colab_type": "code",
        "outputId": "d882418a-91d0-4597-df4d-9248cad14365",
        "colab": {
          "base_uri": "https://localhost:8080/",
          "height": 194
        }
      },
      "source": [
        "scored = pd.read_csv(\"/content/drive/My Drive/studies/HSE/prog/nlp/proj/SentiRuEval_rest_train_lemma_POS.csv\", index_col=0)\n",
        "scored.tail()"
      ],
      "execution_count": 11,
      "outputs": [
        {
          "output_type": "execute_result",
          "data": {
            "text/html": [
              "<div>\n",
              "<style scoped>\n",
              "    .dataframe tbody tr th:only-of-type {\n",
              "        vertical-align: middle;\n",
              "    }\n",
              "\n",
              "    .dataframe tbody tr th {\n",
              "        vertical-align: top;\n",
              "    }\n",
              "\n",
              "    .dataframe thead th {\n",
              "        text-align: right;\n",
              "    }\n",
              "</style>\n",
              "<table border=\"1\" class=\"dataframe\">\n",
              "  <thead>\n",
              "    <tr style=\"text-align: right;\">\n",
              "      <th></th>\n",
              "      <th>food</th>\n",
              "      <th>service</th>\n",
              "      <th>text</th>\n",
              "      <th>lemma_POS</th>\n",
              "    </tr>\n",
              "  </thead>\n",
              "  <tbody>\n",
              "    <tr>\n",
              "      <th>19029</th>\n",
              "      <td>2</td>\n",
              "      <td>3</td>\n",
              "      <td>С тех пор, как побывала последний раз, мнение ...</td>\n",
              "      <td>с_ADP тот_DET пора_NOUN ,_PUNCT как_SCONJ быва...</td>\n",
              "    </tr>\n",
              "    <tr>\n",
              "      <th>19030</th>\n",
              "      <td>1</td>\n",
              "      <td>1</td>\n",
              "      <td>Обнаруженный в салате таракан очень поразил!!!...</td>\n",
              "      <td>обнаружить_VERB в_ADP салат_NOUN таракан_NOUN ...</td>\n",
              "    </tr>\n",
              "    <tr>\n",
              "      <th>19031</th>\n",
              "      <td>6</td>\n",
              "      <td>5</td>\n",
              "      <td>Забавное заведение. Симпатичный светлый интерь...</td>\n",
              "      <td>забавный_ADJ заведение_NOUN ._PUNCT симпатичны...</td>\n",
              "    </tr>\n",
              "    <tr>\n",
              "      <th>19032</th>\n",
              "      <td>8</td>\n",
              "      <td>9</td>\n",
              "      <td>Поздравляем администрацию ресторана Навруз с Н...</td>\n",
              "      <td>поздравлять_VERB администрация_NOUN ресторан_N...</td>\n",
              "    </tr>\n",
              "    <tr>\n",
              "      <th>19033</th>\n",
              "      <td>8</td>\n",
              "      <td>8</td>\n",
              "      <td>Очень нравиться интерьер. Отличный гриль.Карта...</td>\n",
              "      <td>очень_ADV нравиться_VERB интерьер_NOUN ._PUNCT...</td>\n",
              "    </tr>\n",
              "  </tbody>\n",
              "</table>\n",
              "</div>"
            ],
            "text/plain": [
              "       food  ...                                          lemma_POS\n",
              "19029     2  ...  с_ADP тот_DET пора_NOUN ,_PUNCT как_SCONJ быва...\n",
              "19030     1  ...  обнаружить_VERB в_ADP салат_NOUN таракан_NOUN ...\n",
              "19031     6  ...  забавный_ADJ заведение_NOUN ._PUNCT симпатичны...\n",
              "19032     8  ...  поздравлять_VERB администрация_NOUN ресторан_N...\n",
              "19033     8  ...  очень_ADV нравиться_VERB интерьер_NOUN ._PUNCT...\n",
              "\n",
              "[5 rows x 4 columns]"
            ]
          },
          "metadata": {
            "tags": []
          },
          "execution_count": 11
        }
      ]
    },
    {
      "cell_type": "code",
      "metadata": {
        "id": "r4dC4RQ1p36B",
        "colab_type": "code",
        "colab": {
          "base_uri": "https://localhost:8080/",
          "height": 70
        },
        "outputId": "83d23188-987b-4b17-c231-f8ad49f37a8b"
      },
      "source": [
        "scored.drop([\"text\", \"lemma_POS\"], axis=1).mean(axis=0)"
      ],
      "execution_count": 14,
      "outputs": [
        {
          "output_type": "execute_result",
          "data": {
            "text/plain": [
              "food       7.140065\n",
              "service    6.987233\n",
              "dtype: float64"
            ]
          },
          "metadata": {
            "tags": []
          },
          "execution_count": 14
        }
      ]
    },
    {
      "cell_type": "code",
      "metadata": {
        "id": "TdeDMLRtq4qL",
        "colab_type": "code",
        "colab": {
          "base_uri": "https://localhost:8080/",
          "height": 70
        },
        "outputId": "69e97ff0-4f59-40b3-feb0-27b249cc9e55"
      },
      "source": [
        "scored.drop([\"text\", \"lemma_POS\"], axis=1).median(axis=0)"
      ],
      "execution_count": 19,
      "outputs": [
        {
          "output_type": "execute_result",
          "data": {
            "text/plain": [
              "food       8.0\n",
              "service    8.0\n",
              "dtype: float64"
            ]
          },
          "metadata": {
            "tags": []
          },
          "execution_count": 19
        }
      ]
    },
    {
      "cell_type": "code",
      "metadata": {
        "id": "4b1chxFfq_R3",
        "colab_type": "code",
        "colab": {
          "base_uri": "https://localhost:8080/",
          "height": 76
        },
        "outputId": "2e5ab403-4441-4b91-aa03-9e7d0c2fa409"
      },
      "source": [
        "scored.drop([\"text\", \"lemma_POS\"], axis=1).mode(axis=0)"
      ],
      "execution_count": 20,
      "outputs": [
        {
          "output_type": "execute_result",
          "data": {
            "text/html": [
              "<div>\n",
              "<style scoped>\n",
              "    .dataframe tbody tr th:only-of-type {\n",
              "        vertical-align: middle;\n",
              "    }\n",
              "\n",
              "    .dataframe tbody tr th {\n",
              "        vertical-align: top;\n",
              "    }\n",
              "\n",
              "    .dataframe thead th {\n",
              "        text-align: right;\n",
              "    }\n",
              "</style>\n",
              "<table border=\"1\" class=\"dataframe\">\n",
              "  <thead>\n",
              "    <tr style=\"text-align: right;\">\n",
              "      <th></th>\n",
              "      <th>food</th>\n",
              "      <th>service</th>\n",
              "    </tr>\n",
              "  </thead>\n",
              "  <tbody>\n",
              "    <tr>\n",
              "      <th>0</th>\n",
              "      <td>10</td>\n",
              "      <td>10</td>\n",
              "    </tr>\n",
              "  </tbody>\n",
              "</table>\n",
              "</div>"
            ],
            "text/plain": [
              "   food  service\n",
              "0    10       10"
            ]
          },
          "metadata": {
            "tags": []
          },
          "execution_count": 20
        }
      ]
    },
    {
      "cell_type": "code",
      "metadata": {
        "id": "EyTG5Tzp26pW",
        "colab_type": "code",
        "colab": {
          "base_uri": "https://localhost:8080/",
          "height": 70
        },
        "outputId": "4f113e8a-dda9-4f36-e37b-8be386c4b6b9"
      },
      "source": [
        "scored.drop([\"text\", \"lemma_POS\"], axis=1).quantile(q=0.25, axis=0)"
      ],
      "execution_count": 40,
      "outputs": [
        {
          "output_type": "execute_result",
          "data": {
            "text/plain": [
              "food       6.0\n",
              "service    5.0\n",
              "Name: 0.25, dtype: float64"
            ]
          },
          "metadata": {
            "tags": []
          },
          "execution_count": 40
        }
      ]
    },
    {
      "cell_type": "code",
      "metadata": {
        "id": "f07GPpp53GKP",
        "colab_type": "code",
        "colab": {
          "base_uri": "https://localhost:8080/",
          "height": 70
        },
        "outputId": "6ebab189-401c-469f-e139-c4df971ae3b4"
      },
      "source": [
        "scored.drop([\"text\", \"lemma_POS\"], axis=1).quantile(q=0.15, axis=0)"
      ],
      "execution_count": 42,
      "outputs": [
        {
          "output_type": "execute_result",
          "data": {
            "text/plain": [
              "food       3.0\n",
              "service    3.0\n",
              "Name: 0.15, dtype: float64"
            ]
          },
          "metadata": {
            "tags": []
          },
          "execution_count": 42
        }
      ]
    },
    {
      "cell_type": "code",
      "metadata": {
        "id": "ALXDRm0nrTLZ",
        "colab_type": "code",
        "colab": {
          "base_uri": "https://localhost:8080/",
          "height": 295
        },
        "outputId": "8b730050-9281-40bf-e315-9d59e742f7e3"
      },
      "source": [
        "scored[\"service\"].hist()\n",
        "plt.xlabel(\"score\")\n",
        "plt.ylabel(\"frequency\")\n",
        "plt.title(\"hist of service scores\");"
      ],
      "execution_count": 24,
      "outputs": [
        {
          "output_type": "display_data",
          "data": {
            "image/png": "[encoded data removed]",
            "text/plain": [
              "<Figure size 432x288 with 1 Axes>"
            ]
          },
          "metadata": {
            "tags": []
          }
        }
      ]
    },
    {
      "cell_type": "code",
      "metadata": {
        "id": "Cmk8ZijRryCU",
        "colab_type": "code",
        "colab": {
          "base_uri": "https://localhost:8080/",
          "height": 295
        },
        "outputId": "16b9b015-00c8-4943-b821-ef3f09f412fd"
      },
      "source": [
        "scored[\"food\"].hist()\n",
        "plt.xlabel(\"score\")\n",
        "plt.ylabel(\"frequency\")\n",
        "plt.title(\"hist of food scores\");"
      ],
      "execution_count": 25,
      "outputs": [
        {
          "output_type": "display_data",
          "data": {
            "image/png": "[encoded data removed]",
            "text/plain": [
              "<Figure size 432x288 with 1 Axes>"
            ]
          },
          "metadata": {
            "tags": []
          }
        }
      ]
    },
    {
      "cell_type": "code",
      "metadata": {
        "id": "d69bfg6Lrz5z",
        "colab_type": "code",
        "colab": {
          "base_uri": "https://localhost:8080/",
          "height": 35
        },
        "outputId": "ee44ea1a-f7d7-41b3-d8dc-f4fb804b195f"
      },
      "source": [
        "excellent_food = scored[\"food\"] == 10\n",
        "excellent_service = scored[\"service\"] == 10\n",
        "len(scored[excellent_food & excellent_service]) / len(scored)\n",
        "## where both are 10 = 17%"
      ],
      "execution_count": 34,
      "outputs": [
        {
          "output_type": "execute_result",
          "data": {
            "text/plain": [
              "0.16759483030366712"
            ]
          },
          "metadata": {
            "tags": []
          },
          "execution_count": 34
        }
      ]
    },
    {
      "cell_type": "code",
      "metadata": {
        "id": "wfUTAsys1EfG",
        "colab_type": "code",
        "colab": {
          "base_uri": "https://localhost:8080/",
          "height": 35
        },
        "outputId": "08d2e2e5-f4bf-4c15-c93d-bc3a6eb5f4bf"
      },
      "source": [
        "horrible_food = scored[\"food\"] == 0\n",
        "horrible_service = scored[\"service\"] == 0\n",
        "len(scored[horrible_food & horrible_service]) / len(scored)\n",
        "## where both are 0 = 0.5%"
      ],
      "execution_count": 33,
      "outputs": [
        {
          "output_type": "execute_result",
          "data": {
            "text/plain": [
              "0.005989282336870863"
            ]
          },
          "metadata": {
            "tags": []
          },
          "execution_count": 33
        }
      ]
    },
    {
      "cell_type": "code",
      "metadata": {
        "id": "nchk6zpn1PE1",
        "colab_type": "code",
        "colab": {
          "base_uri": "https://localhost:8080/",
          "height": 35
        },
        "outputId": "52987789-72ee-4bc0-ce05-7809fdf2f634"
      },
      "source": [
        "len(scored[horrible_food != horrible_service]) / len(scored)\n",
        "## either one or the other is 0 but not both = 0.2%"
      ],
      "execution_count": 37,
      "outputs": [
        {
          "output_type": "execute_result",
          "data": {
            "text/plain": [
              "0.0028370284753598822"
            ]
          },
          "metadata": {
            "tags": []
          },
          "execution_count": 37
        }
      ]
    },
    {
      "cell_type": "code",
      "metadata": {
        "id": "gV8uBH6A2IqX",
        "colab_type": "code",
        "colab": {
          "base_uri": "https://localhost:8080/",
          "height": 35
        },
        "outputId": "fd73092e-156a-487e-a8d5-9178c4ae9b05"
      },
      "source": [
        "good_food = scored[\"food\"] > 8\n",
        "good_service = scored[\"service\"] > 8\n",
        "len(scored[good_food & good_service]) / len(scored)\n",
        "## where both are above 8 = 31%"
      ],
      "execution_count": 50,
      "outputs": [
        {
          "output_type": "execute_result",
          "data": {
            "text/plain": [
              "0.31527792371545654"
            ]
          },
          "metadata": {
            "tags": []
          },
          "execution_count": 50
        }
      ]
    },
    {
      "cell_type": "code",
      "metadata": {
        "id": "Q_M06OoP2opU",
        "colab_type": "code",
        "colab": {
          "base_uri": "https://localhost:8080/",
          "height": 35
        },
        "outputId": "1d817ce1-e8d4-4671-fc18-4d736c0ec51d"
      },
      "source": [
        "bad_food = scored[\"food\"] <= 4\n",
        "bad_service = scored[\"service\"] <= 4\n",
        "len(scored[bad_food & bad_service]) / len(scored)\n",
        "## where both are below or at 4 = 11%"
      ],
      "execution_count": 66,
      "outputs": [
        {
          "output_type": "execute_result",
          "data": {
            "text/plain": [
              "0.11936534622254913"
            ]
          },
          "metadata": {
            "tags": []
          },
          "execution_count": 66
        }
      ]
    },
    {
      "cell_type": "code",
      "metadata": {
        "id": "UZyjhnIc4IvZ",
        "colab_type": "code",
        "colab": {
          "base_uri": "https://localhost:8080/",
          "height": 35
        },
        "outputId": "f318e1f6-312f-44e6-a792-63bb107178ca"
      },
      "source": [
        "ok_food = scored[\"food\"] >= 7\n",
        "ok_service = scored[\"service\"] >= 7\n",
        "len(scored[ok_food & ok_service]) / len(scored)\n",
        "## where both are above or at 7 = 58%"
      ],
      "execution_count": 68,
      "outputs": [
        {
          "output_type": "execute_result",
          "data": {
            "text/plain": [
              "0.5896290847956289"
            ]
          },
          "metadata": {
            "tags": []
          },
          "execution_count": 68
        }
      ]
    },
    {
      "cell_type": "code",
      "metadata": {
        "id": "VTk4eh5p3XUE",
        "colab_type": "code",
        "colab": {
          "base_uri": "https://localhost:8080/",
          "height": 35
        },
        "outputId": "4bbfcea5-d492-414c-84ba-de3ef8730ac8"
      },
      "source": [
        "len(scored[(bad_food & ok_service) | (ok_food & bad_service)]) / len(scored)"
      ],
      "execution_count": 69,
      "outputs": [
        {
          "output_type": "execute_result",
          "data": {
            "text/plain": [
              "0.10076704843963434"
            ]
          },
          "metadata": {
            "tags": []
          },
          "execution_count": 69
        }
      ]
    },
    {
      "cell_type": "code",
      "metadata": {
        "id": "ci2B6eLV4kif",
        "colab_type": "code",
        "colab": {}
      },
      "source": [
        "aspect_scored = scored.loc[(bad_food & ok_service) | (ok_food & bad_service)]"
      ],
      "execution_count": 0,
      "outputs": []
    },
    {
      "cell_type": "code",
      "metadata": {
        "id": "KbKu-yX95lTW",
        "colab_type": "code",
        "colab": {
          "base_uri": "https://localhost:8080/",
          "height": 194
        },
        "outputId": "f1274b4f-0c63-426e-b637-8ebc28eab1db"
      },
      "source": [
        "aspect_scored[\"aspect\"] = scored.loc[(bad_food & ok_service) | (ok_food & bad_service), \"food\"].apply(lambda n: 1 if n >= 7 else 0)\n",
        "aspect_scored.tail()"
      ],
      "execution_count": 99,
      "outputs": [
        {
          "output_type": "execute_result",
          "data": {
            "text/html": [
              "<div>\n",
              "<style scoped>\n",
              "    .dataframe tbody tr th:only-of-type {\n",
              "        vertical-align: middle;\n",
              "    }\n",
              "\n",
              "    .dataframe tbody tr th {\n",
              "        vertical-align: top;\n",
              "    }\n",
              "\n",
              "    .dataframe thead th {\n",
              "        text-align: right;\n",
              "    }\n",
              "</style>\n",
              "<table border=\"1\" class=\"dataframe\">\n",
              "  <thead>\n",
              "    <tr style=\"text-align: right;\">\n",
              "      <th></th>\n",
              "      <th>food</th>\n",
              "      <th>service</th>\n",
              "      <th>text</th>\n",
              "      <th>lemma_POS</th>\n",
              "      <th>aspect</th>\n",
              "    </tr>\n",
              "  </thead>\n",
              "  <tbody>\n",
              "    <tr>\n",
              "      <th>19006</th>\n",
              "      <td>7</td>\n",
              "      <td>3</td>\n",
              "      <td>РЕспект за кухню. Обслуживание не супер - смущ...</td>\n",
              "      <td>респект_NOUN за_ADP кухня_NOUN ._PUNCT обслужи...</td>\n",
              "      <td>1</td>\n",
              "    </tr>\n",
              "    <tr>\n",
              "      <th>19007</th>\n",
              "      <td>0</td>\n",
              "      <td>10</td>\n",
              "      <td>То, что есть в коктейльной карте - процентов 1...</td>\n",
              "      <td>то_PRON ,_PUNCT что_PRON быть_VERB в_ADP кокте...</td>\n",
              "      <td>0</td>\n",
              "    </tr>\n",
              "    <tr>\n",
              "      <th>19015</th>\n",
              "      <td>10</td>\n",
              "      <td>2</td>\n",
              "      <td>Здравствуйте! Стыдно, что в Бричмуле работают ...</td>\n",
              "      <td>здравствовать_VERB !_PUNCT стыдно_ADJ ,_PUNCT ...</td>\n",
              "      <td>1</td>\n",
              "    </tr>\n",
              "    <tr>\n",
              "      <th>19026</th>\n",
              "      <td>9</td>\n",
              "      <td>3</td>\n",
              "      <td>Доброго вечера ! Хочу высказать свое мнение по...</td>\n",
              "      <td>добрый_ADJ вечер_NOUN !_PUNCT хотеть_VERB выск...</td>\n",
              "      <td>1</td>\n",
              "    </tr>\n",
              "    <tr>\n",
              "      <th>19028</th>\n",
              "      <td>4</td>\n",
              "      <td>8</td>\n",
              "      <td>Вот думала, писать-не писать... Если честно, т...</td>\n",
              "      <td>вот_PART думать_VERB ,_PUNCT писать_VERB _PUNC...</td>\n",
              "      <td>0</td>\n",
              "    </tr>\n",
              "  </tbody>\n",
              "</table>\n",
              "</div>"
            ],
            "text/plain": [
              "       food  service  ...                                          lemma_POS aspect\n",
              "19006     7        3  ...  респект_NOUN за_ADP кухня_NOUN ._PUNCT обслужи...      1\n",
              "19007     0       10  ...  то_PRON ,_PUNCT что_PRON быть_VERB в_ADP кокте...      0\n",
              "19015    10        2  ...  здравствовать_VERB !_PUNCT стыдно_ADJ ,_PUNCT ...      1\n",
              "19026     9        3  ...  добрый_ADJ вечер_NOUN !_PUNCT хотеть_VERB выск...      1\n",
              "19028     4        8  ...  вот_PART думать_VERB ,_PUNCT писать_VERB _PUNC...      0\n",
              "\n",
              "[5 rows x 5 columns]"
            ]
          },
          "metadata": {
            "tags": []
          },
          "execution_count": 99
        }
      ]
    },
    {
      "cell_type": "markdown",
      "metadata": {
        "id": "cZV9jy399Jyp",
        "colab_type": "text"
      },
      "source": [
        "Аспект 1 - еда, аспект 0 - сервис."
      ]
    },
    {
      "cell_type": "code",
      "metadata": {
        "id": "TUd_xMbw0xEx",
        "colab_type": "code",
        "colab": {}
      },
      "source": [
        "texts = list(aspect_scored[\"lemma_POS\"].apply(lambda s: s.split()))"
      ],
      "execution_count": 0,
      "outputs": []
    },
    {
      "cell_type": "code",
      "metadata": {
        "id": "gWELzUPh8t0A",
        "colab_type": "code",
        "colab": {}
      },
      "source": [
        "scores = list(aspect_scored[\"aspect\"])"
      ],
      "execution_count": 0,
      "outputs": []
    },
    {
      "cell_type": "code",
      "metadata": {
        "colab_type": "code",
        "outputId": "dfd5040e-fbfb-4ce8-982b-479adcb96516",
        "id": "IryN96Js0mju",
        "colab": {
          "base_uri": "https://localhost:8080/",
          "height": 72
        }
      },
      "source": [
        "w2v_model = KeyedVectors.load_word2vec_format('model.bin', binary=True)"
      ],
      "execution_count": 106,
      "outputs": [
        {
          "output_type": "stream",
          "text": [
            "/usr/local/lib/python3.6/dist-packages/smart_open/smart_open_lib.py:402: UserWarning: This function is deprecated, use smart_open.open instead. See the migration notes for details: https://github.com/RaRe-Technologies/smart_open/blob/master/README.rst#migrating-to-the-new-open-function\n",
            "  'See the migration notes for details: %s' % _MIGRATION_NOTES_URL\n"
          ],
          "name": "stderr"
        }
      ]
    },
    {
      "cell_type": "markdown",
      "metadata": {
        "id": "mm44_u2xPWRz",
        "colab_type": "text"
      },
      "source": [
        "## Оценка тональности с помощью CNN\n",
        "\n",
        "В качестве входных представлений будем использовать word2vec для лемм с POS-тегами UD.\n",
        "Архитектура классификатора примерно воспроизводит описанную в [статье Arras et al. 2017](http://www.aclweb.org/anthology/W16-1601); а для визуализации воспользуемся библиотекой [iNNvestigate](https://github.com/albermax/innvestigate)."
      ]
    },
    {
      "cell_type": "markdown",
      "metadata": {
        "id": "FVudE4CIPWSD",
        "colab_type": "text"
      },
      "source": [
        "Картинка про классификатор и оценку значимости входных слов ([источник](https://doi.org/10.1371/journal.pone.0181142.g001)):\n",
        "<img src=\"https://camo.githubusercontent.com/ba37f37fdbb90ccd76f1c4bf399e0cb8ddbc66f0/68747470733a2f2f692e696d6775722e636f6d2f595144665335502e706e67\"/>"
      ]
    },
    {
      "cell_type": "markdown",
      "metadata": {
        "colab_type": "text",
        "id": "WTpoNjYn0mkN"
      },
      "source": [
        "### CNN functions"
      ]
    },
    {
      "cell_type": "code",
      "metadata": {
        "colab_type": "code",
        "id": "1agAEQRgzwoi",
        "colab": {}
      },
      "source": [
        "def max_length(texts):\n",
        "    return max(len(t) for t in texts)\n",
        "    \n",
        "def to_one_hot(y):\n",
        "    return keras.utils.to_categorical(y, 2)"
      ],
      "execution_count": 0,
      "outputs": []
    },
    {
      "cell_type": "code",
      "metadata": {
        "colab_type": "code",
        "id": "gJVzKjWHzwo-",
        "colab": {}
      },
      "source": [
        "def load_dataset(w2v_model, lines, MAX_LEN, num_examples=None):\n",
        "    \"\"\"\n",
        "    embedds a list of texts with a w2v model\n",
        "\n",
        "    :param w2v_model: gensim KeyedVectors model\n",
        "    :param lines: list of lists of str, texts of words (pre-processed to be model-compatible)\n",
        "    :param MAX_LEN: int, maximal text length for padding\n",
        "    :param num_examples: int, number of texts to add to dataset, optional, default None \n",
        "\n",
        "    :return x_tensor: np.ndarray, embedded texts\n",
        "    :return vocab: counter, how many times words occured in texts\n",
        "    \"\"\"\n",
        "    embedding_dim = w2v_model.vector_size\n",
        "    prep = lines[:num_examples]\n",
        "    vocab = Counter()\n",
        "    x_tensor = np.zeros((len(prep), MAX_LEN, embedding_dim))\n",
        "    for i, text in enumerate(prep):\n",
        "        for j, w in enumerate(text):\n",
        "            try:\n",
        "                x_tensor[i, j, :] = w2v_model[w]\n",
        "            except KeyError:\n",
        "                pass\n",
        "        vocab[w] += 1\n",
        "    return x_tensor, vocab"
      ],
      "execution_count": 0,
      "outputs": []
    },
    {
      "cell_type": "code",
      "metadata": {
        "id": "ftQSi5hDG_wB",
        "colab_type": "code",
        "colab": {}
      },
      "source": [
        "def make_dataset_for_training_cnn(w2v_model, texts, scores):\n",
        "  \"\"\"\n",
        "  vectorizes dataset from a list of texts and scores (do not give more than 2000, as more eats all RAM)\n",
        "\n",
        "  :param w2v_model: gensim KeyedVectors model\n",
        "  :param texts: list of lists of str, texts of words\n",
        "  :param scores: list of int, target text scores\n",
        "\n",
        "  :return MAX_LEN: int, maximal text length for padding\n",
        "  :return scores_train: list of int, traing scores\n",
        "  :return scores_val: list of int, validation scores\n",
        "  :return texts_train: list of lists of str, traing texts\n",
        "  :return texts_val: list of lists of str, validation texts\n",
        "  :return input_tensor_train: np.ndarray, embedded traing texts\n",
        "  :return inp_vocab_train: counter, traing texts vocabulary\n",
        "  :return input_tensor_val: np.ndarray, embedded validation texts\n",
        "  :return inp_vocab_val: counter, validation texts vocabulary\n",
        "  \"\"\"\n",
        "  if len(texts) != len(scores):\n",
        "    raise ValueError(f\"expected texts and scores of the same length but got lengths {len(texts)} and {len(scores)}\")\n",
        "  scores = np.array(scores).astype(int)\n",
        "  scores_train, scores_val, texts_train, texts_val = train_test_split(scores, texts, test_size=0.3, shuffle=False)\n",
        "  MAX_LEN = max(max_length(texts_train), max_length(texts_val))\n",
        "  input_tensor_train, inp_vocab_train = load_dataset(w2v_model, texts_train, MAX_LEN)\n",
        "  input_tensor_val, inp_vocab_val = load_dataset(w2v_model, texts_val, MAX_LEN)\n",
        "  return MAX_LEN, scores_train, scores_val, texts_train, texts_val, input_tensor_train, inp_vocab_train, input_tensor_val, inp_vocab_val"
      ],
      "execution_count": 0,
      "outputs": []
    },
    {
      "cell_type": "code",
      "metadata": {
        "colab_type": "code",
        "id": "uQiqdpcgzwpv",
        "colab": {}
      },
      "source": [
        "def build_network(max_len, voc_size, embedding_dim, output_n, activation=None, dense_unit=256, dropout_rate=0.25):\n",
        "    \"\"\"\n",
        "    builds a keras cnn structure\n",
        "\n",
        "    :param max_len: int, sequence length\n",
        "    :param voc_size: int, number of words in vocabulary\n",
        "    :param embedding_dim: int, dimensionality of w2v model\n",
        "    :param output_n: int, number of classes\n",
        "    :param activation: pre-trained weights, optional, default None\n",
        "    :param dense_unit: int, optional, dimensionality of the dense unit \n",
        "    :param dropout_rate: float, optional, default=0.25\n",
        "\n",
        "    :return: keras nn\n",
        "    \"\"\"\n",
        "    if activation:\n",
        "        activation = \"relu\"\n",
        "\n",
        "    net = {}\n",
        "    net[\"in\"] = keras.Input(shape=[1, max_len, embedding_dim])\n",
        "    net[\"conv\"] = keras.layers.Conv2D(filters=100, kernel_size=(1,2), strides=(1, 1), padding='valid')(net[\"in\"])\n",
        "    net[\"pool\"] = keras.layers.MaxPooling2D(pool_size=(1, max_len - 1), strides=(1,1))(net[\"conv\"])\n",
        "    net[\"out\"] = network_base.dense_layer(keras.layers.Flatten()(net[\"pool\"]), units=output_n, activation=activation)\n",
        "    net[\"sm_out\"] = network_base.softmax(net[\"out\"])\n",
        "\n",
        "\n",
        "    net.update({\n",
        "        \"input_shape\": [1, max_len, embedding_dim],\n",
        "        \"output_n\": output_n,\n",
        "    })\n",
        "    return net"
      ],
      "execution_count": 0,
      "outputs": []
    },
    {
      "cell_type": "code",
      "metadata": {
        "colab_type": "code",
        "id": "AIwEjLbJzwp9",
        "colab": {}
      },
      "source": [
        "def train_model(model, input_tensor_train, input_tensor_val, scores_train, scores_val, epochs=20):\n",
        "    \"\"\"\n",
        "    training keras nn\n",
        "\n",
        "    :param model: keras nn\n",
        "    :param input_tensor_train: np.ndarray, training set\n",
        "    :param input_tensor_val: np.ndarray, validation set\n",
        "    :param scores_train: list of int, traing scores\n",
        "    :param scores_val: list of int, validation scores\n",
        "    :param epochs: int, optional, default 20\n",
        "    \"\"\"\n",
        "    x_train = np.expand_dims(input_tensor_train, axis=1)\n",
        "    y_train = to_one_hot(scores_train)\n",
        "    \n",
        "    x_val = np.expand_dims(input_tensor_val, axis=1)\n",
        "    y_val = to_one_hot(scores_val)\n",
        "\n",
        "    model.compile(loss='categorical_crossentropy',\n",
        "                  optimizer=keras.optimizers.Adam(),\n",
        "                  metrics=['accuracy'])\n",
        "\n",
        "    history = model.fit(x_train, y_train,\n",
        "                        batch_size=256,\n",
        "                        epochs=epochs,\n",
        "                        verbose=1,\n",
        "                        validation_data=(x_val, y_val),\n",
        "                        shuffle=True)"
      ],
      "execution_count": 0,
      "outputs": []
    },
    {
      "cell_type": "code",
      "metadata": {
        "id": "3O-PfMZ0IZAV",
        "colab_type": "code",
        "colab": {}
      },
      "source": [
        "def train_network(w2v_model, texts_train, texts_val, scores_train, scores_val, inp_vocab_train, inp_vocab_val, input_tensor_train, input_tensor_val, MAX_LEN, epochs=20):\n",
        "  \"\"\"\n",
        "  trains two cnn models form split dataset\n",
        "\n",
        "  :param w2v_model: gensim KeyedVectors model\n",
        "  :param texts_train: list of lists of str, traing texts\n",
        "  :param texts_val: list of lists of str, validation texts\n",
        "  :param scores_train: list of int, traing scores\n",
        "  :param scores_val: list of int, validation scores\n",
        "  :param inp_vocab_train: counter, traing texts vocabulary\n",
        "  :param inp_vocab_val: counter, validation texts vocabulary\n",
        "  :param input_tensor_train: np.ndarray, training set\n",
        "  :param input_tensor_val: np.ndarray, validation set\n",
        "  :param MAX_LEN: int, sequence length\n",
        "  :param epochs: int, optional, default 20\n",
        "\n",
        "  :return model_without_softmax: keras nn, without classifier layer\n",
        "  :return model_with_softmax: keras nn, with classifier layer\n",
        "  :return embedding_dim: int, dimension of w2v\n",
        "  \"\"\"\n",
        "  embedding_dim = w2v_model.vector_size\n",
        "  inp_vocab = inp_vocab_train + inp_vocab_val\n",
        "  vocab_inp_size = len(inp_vocab) + 1\n",
        "  net = build_network(MAX_LEN, vocab_inp_size, embedding_dim, 2)\n",
        "  model_without_softmax = keras.models.Model(inputs=net['in'], outputs=net['out'])\n",
        "  model_with_softmax = keras.models.Model(inputs=net['in'], outputs=net['sm_out'])\n",
        "  train_model(model_with_softmax, input_tensor_train, input_tensor_val, scores_train, scores_val, epochs)\n",
        "  model_without_softmax.set_weights(model_with_softmax.get_weights())\n",
        "  return model_without_softmax, model_with_softmax, embedding_dim"
      ],
      "execution_count": 0,
      "outputs": []
    },
    {
      "cell_type": "code",
      "metadata": {
        "colab_type": "code",
        "id": "WLSLuolEzwqf",
        "colab": {}
      },
      "source": [
        "def analyze_scores(X, Y, ridx, embedding_dim, model_without_softmax, model_with_softmax, analyzers, max_len):\n",
        "    \"\"\"\n",
        "    predicts individual word scores and text score\n",
        "\n",
        "    :param X: np.ndarray, embedded texts tensor\n",
        "    :param Y: list of int, target classes\n",
        "    :param ridx: int, text id \n",
        "    :param model_without_softmax: keras nn, without classifier layer\n",
        "    :param model_with_softmax: keras nn, with classifier layer\n",
        "    :param embedding_dim: int, dimension of w2v\n",
        "    :param analyzers: list of innvestigate analyzers\n",
        "    :param max_len: int, sequence length\n",
        "\n",
        "    :return analysis: list of list of float, word weights according to each analyzer\n",
        "    :return y_hat: int, calss prediction\n",
        "    \"\"\"\n",
        "    analysis = np.zeros([len(analyzers), 1, max_len])\n",
        "    x, y = X[ridx], Y[ridx]\n",
        "    t_start = time.time()\n",
        "    x = x.reshape((1, 1, max_len, embedding_dim))\n",
        "    presm = model_without_softmax.predict_on_batch(x)[0] #forward pass without softmax\n",
        "    prob = model_with_softmax.predict_on_batch(x)[0] #forward pass with softmax\n",
        "    y_hat = prob.argmax()\n",
        "  \n",
        "    for aidx, analyzer in enumerate(analyzers):\n",
        "        a = np.squeeze(analyzer.analyze(x))\n",
        "        a = np.sum(a, axis=1)\n",
        "        analysis[aidx] = a\n",
        "    t_elapsed = time.time() - t_start\n",
        "    # print('Review %d (%.4fs)'% (ridx, t_elapsed))\n",
        "    return analysis, y_hat"
      ],
      "execution_count": 0,
      "outputs": []
    },
    {
      "cell_type": "code",
      "metadata": {
        "id": "g_aban3LZsCp",
        "colab_type": "code",
        "colab": {}
      },
      "source": [
        "def get_sentiment_vocabulary(w2v_model, texts, scores, sentiment_scores=None, only_correct=True, epochs=10):\n",
        "  \"\"\"\n",
        "  gets sentiment vocabulary from texts\n",
        "\n",
        "  :param w2v_model: gensim KeyedVectors model\n",
        "  :param texts: list of lists of str, texts of words\n",
        "  :param scores: list of int, target text scores \n",
        "  :param sentiment_scores: counter of words to update, optional, default None\n",
        "  :param only_correct: bool, if only use the weights from correct predictions, optional, default True\n",
        "  :param epochs: int, cnn training param, optional, default 10\n",
        "\n",
        "  :return: counter, words and their sentiment weights\n",
        "  \"\"\"\n",
        "  print(\"__making the dataset__\")\n",
        "  MAX_LEN, scores_train, scores_val, texts_train, texts_val, input_tensor_train, inp_vocab_train, input_tensor_val, inp_vocab_val = make_dataset_for_training_cnn(w2v_model, texts, scores)\n",
        "  print(\"__training the network__\")\n",
        "  model_without_softmax, model_with_softmax, embedding_dim = train_network(w2v_model, texts_train, texts_val, scores_train, scores_val, inp_vocab_train, inp_vocab_val, input_tensor_train, input_tensor_val, MAX_LEN, epochs=epochs)\n",
        "\n",
        "  print(\"__making the analyzers__\")\n",
        "  methods = ['gradient', 'lrp.z', 'lrp.alpha_2_beta_1', 'pattern.attribution']\n",
        "  kwargs = [{}, {}, {}, {'pattern_type': 'relu'}]\n",
        "  analyzers = []\n",
        "  for method, kws in zip(methods, kwargs):\n",
        "      analyzer = innvestigate.create_analyzer(method, model_without_softmax, **kws)\n",
        "      analyzer.fit(np.expand_dims(input_tensor_train, axis=1), batch_size=256, verbose=1)\n",
        "      analyzers.append(analyzer)\n",
        "\n",
        "  if not sentiment_scores:\n",
        "    sentiment_scores = [Counter() for method in methods]\n",
        "  \n",
        "  for idx in tqdm(range(len(input_tensor_train)), desc=\"__building the sentiment vocabulary on training set__\"):\n",
        "    words = texts_train[idx]\n",
        "    y_true = scores_train[idx]\n",
        "    a, y_pred = analyze_scores(input_tensor_train, scores_train, idx, embedding_dim, model_without_softmax, model_with_softmax, analyzers, MAX_LEN)\n",
        "    if only_correct and y_true == y_pred or not only_correct:\n",
        "      for j, method in enumerate(methods):\n",
        "        sentiment_scores[j].update(dict(zip(words, a[j].reshape(-1))))\n",
        "\n",
        "  for idx in tqdm(range(len(input_tensor_val)), desc=\"__building the sentiment vocabulary on validation set__\"):\n",
        "    words = texts_val[idx]\n",
        "    y_true = scores_val[idx]\n",
        "    a, y_pred = analyze_scores(input_tensor_val, scores_val, idx, embedding_dim, model_without_softmax, model_with_softmax, analyzers, MAX_LEN)\n",
        "    if only_correct and y_true == y_pred or not only_correct:\n",
        "      for j, method in enumerate(methods):\n",
        "        sentiment_scores[j].update(dict(zip(words, a[j].reshape(-1))))\n",
        "  return sentiment_scores"
      ],
      "execution_count": 0,
      "outputs": []
    },
    {
      "cell_type": "markdown",
      "metadata": {
        "colab_type": "text",
        "id": "2mKEY_0w1GLh"
      },
      "source": [
        "## Aspect classification\n"
      ]
    },
    {
      "cell_type": "code",
      "metadata": {
        "colab_type": "code",
        "outputId": "3266353c-0448-4f72-cc1d-34f7258d0ad7",
        "id": "PKoyxb9o1GLx",
        "colab": {
          "base_uri": "https://localhost:8080/",
          "height": 926
        }
      },
      "source": [
        "asp = get_sentiment_vocabulary(w2v_model, texts, scores, epochs=10)"
      ],
      "execution_count": 118,
      "outputs": [
        {
          "output_type": "stream",
          "text": [
            "__making the dataset__\n",
            "__training the network__\n",
            "WARNING:tensorflow:From /usr/local/lib/python3.6/dist-packages/keras/backend/tensorflow_backend.py:74: The name tf.get_default_graph is deprecated. Please use tf.compat.v1.get_default_graph instead.\n",
            "\n",
            "WARNING:tensorflow:From /usr/local/lib/python3.6/dist-packages/keras/backend/tensorflow_backend.py:517: The name tf.placeholder is deprecated. Please use tf.compat.v1.placeholder instead.\n",
            "\n",
            "WARNING:tensorflow:From /usr/local/lib/python3.6/dist-packages/keras/backend/tensorflow_backend.py:4138: The name tf.random_uniform is deprecated. Please use tf.random.uniform instead.\n",
            "\n",
            "WARNING:tensorflow:From /usr/local/lib/python3.6/dist-packages/keras/backend/tensorflow_backend.py:3976: The name tf.nn.max_pool is deprecated. Please use tf.nn.max_pool2d instead.\n",
            "\n",
            "WARNING:tensorflow:From /usr/local/lib/python3.6/dist-packages/keras/optimizers.py:790: The name tf.train.Optimizer is deprecated. Please use tf.compat.v1.train.Optimizer instead.\n",
            "\n",
            "WARNING:tensorflow:From /usr/local/lib/python3.6/dist-packages/keras/backend/tensorflow_backend.py:3295: The name tf.log is deprecated. Please use tf.math.log instead.\n",
            "\n",
            "WARNING:tensorflow:From /usr/local/lib/python3.6/dist-packages/tensorflow/python/ops/math_grad.py:1250: add_dispatch_support.<locals>.wrapper (from tensorflow.python.ops.array_ops) is deprecated and will be removed in a future version.\n",
            "Instructions for updating:\n",
            "Use tf.where in 2.0, which has the same broadcast rule as np.where\n",
            "WARNING:tensorflow:From /usr/local/lib/python3.6/dist-packages/keras/backend/tensorflow_backend.py:986: The name tf.assign_add is deprecated. Please use tf.compat.v1.assign_add instead.\n",
            "\n",
            "Train on 1342 samples, validate on 576 samples\n",
            "Epoch 1/10\n",
            "1342/1342 [==============================] - 9s 7ms/step - loss: 4.4634 - acc: 0.3994 - val_loss: 1.6237 - val_acc: 0.5590\n",
            "Epoch 2/10\n",
            "1342/1342 [==============================] - 9s 7ms/step - loss: 1.8970 - acc: 0.6118 - val_loss: 1.8155 - val_acc: 0.5625\n",
            "Epoch 3/10\n",
            "1342/1342 [==============================] - 9s 7ms/step - loss: 0.8861 - acc: 0.6841 - val_loss: 1.0219 - val_acc: 0.5642\n",
            "Epoch 4/10\n",
            "1342/1342 [==============================] - 9s 7ms/step - loss: 0.8316 - acc: 0.6215 - val_loss: 0.7299 - val_acc: 0.6719\n",
            "Epoch 5/10\n",
            "1342/1342 [==============================] - 9s 7ms/step - loss: 0.5279 - acc: 0.7645 - val_loss: 0.8846 - val_acc: 0.6128\n",
            "Epoch 6/10\n",
            "1342/1342 [==============================] - 9s 7ms/step - loss: 0.3902 - acc: 0.8197 - val_loss: 0.7219 - val_acc: 0.6927\n",
            "Epoch 7/10\n",
            "1342/1342 [==============================] - 9s 7ms/step - loss: 0.3539 - acc: 0.8480 - val_loss: 0.6990 - val_acc: 0.6719\n",
            "Epoch 8/10\n",
            "1342/1342 [==============================] - 9s 7ms/step - loss: 0.2881 - acc: 0.8770 - val_loss: 0.7441 - val_acc: 0.6476\n",
            "Epoch 9/10\n",
            "1342/1342 [==============================] - 10s 7ms/step - loss: 0.2353 - acc: 0.9173 - val_loss: 0.6822 - val_acc: 0.6944\n",
            "Epoch 10/10\n",
            "1342/1342 [==============================] - 9s 7ms/step - loss: 0.2024 - acc: 0.9449 - val_loss: 0.7101 - val_acc: 0.6632\n",
            "__making the analyzers__\n",
            "WARNING:tensorflow:From /usr/local/lib/python3.6/dist-packages/innvestigate/utils/keras/backend.py:126: calling extract_image_patches (from tensorflow.python.ops.array_ops) with ksizes is deprecated and will be removed in a future version.\n",
            "Instructions for updating:\n",
            "ksizes is deprecated, use sizes instead\n"
          ],
          "name": "stdout"
        },
        {
          "output_type": "stream",
          "text": [
            "/usr/local/lib/python3.6/dist-packages/innvestigate/analyzer/base.py:130: RuntimeWarning: This analyzer does not need to be trained. Still fit() is called.\n",
            "  \" Still fit() is called.\", RuntimeWarning)\n"
          ],
          "name": "stderr"
        },
        {
          "output_type": "stream",
          "text": [
            "Epoch 1/1\n",
            "6/6 [==============================] - 14s 2s/step - loss: 2.0000 - broadcast_1_loss: 1.0000 - broadcast_2_loss: 1.0000\n"
          ],
          "name": "stdout"
        },
        {
          "output_type": "stream",
          "text": [
            "__building the sentiment vocabulary on training set__: 100%|██████████| 1342/1342 [01:09<00:00, 19.24it/s]\n",
            "__building the sentiment vocabulary on validation set__: 100%|██████████| 576/576 [00:29<00:00, 19.31it/s]\n"
          ],
          "name": "stderr"
        }
      ]
    },
    {
      "cell_type": "code",
      "metadata": {
        "colab_type": "code",
        "outputId": "8136103f-69fd-4f2a-94eb-3f81a78e499e",
        "id": "f2erBPXO1GL2",
        "colab": {
          "base_uri": "https://localhost:8080/",
          "height": 35
        }
      },
      "source": [
        "asp[0]['вкусно_ADV']"
      ],
      "execution_count": 130,
      "outputs": [
        {
          "output_type": "execute_result",
          "data": {
            "text/plain": [
              "1.4380867704749107"
            ]
          },
          "metadata": {
            "tags": []
          },
          "execution_count": 130
        }
      ]
    },
    {
      "cell_type": "code",
      "metadata": {
        "id": "qSCSCmutBayD",
        "colab_type": "code",
        "colab": {
          "base_uri": "https://localhost:8080/",
          "height": 35
        },
        "outputId": "3bd6f760-6709-43c1-e23d-bab7b41a055d"
      },
      "source": [
        "asp[0]['блюдо_NOUN']"
      ],
      "execution_count": 133,
      "outputs": [
        {
          "output_type": "execute_result",
          "data": {
            "text/plain": [
              "10.717518095392734"
            ]
          },
          "metadata": {
            "tags": []
          },
          "execution_count": 133
        }
      ]
    },
    {
      "cell_type": "code",
      "metadata": {
        "id": "1gQL8K8HBSmR",
        "colab_type": "code",
        "colab": {
          "base_uri": "https://localhost:8080/",
          "height": 35
        },
        "outputId": "d8b0c669-4adb-47a7-83f7-f7cdc30080dc"
      },
      "source": [
        "asp[0]['быстро_ADV']"
      ],
      "execution_count": 132,
      "outputs": [
        {
          "output_type": "execute_result",
          "data": {
            "text/plain": [
              "3.8413307707523927"
            ]
          },
          "metadata": {
            "tags": []
          },
          "execution_count": 132
        }
      ]
    },
    {
      "cell_type": "code",
      "metadata": {
        "colab_type": "code",
        "outputId": "3c584c7c-4170-4e03-b9a7-92980f7f368f",
        "id": "6ncLBFuQ1GMA",
        "colab": {
          "base_uri": "https://localhost:8080/",
          "height": 35
        }
      },
      "source": [
        "asp[0]['официантка_NOUN']"
      ],
      "execution_count": 120,
      "outputs": [
        {
          "output_type": "execute_result",
          "data": {
            "text/plain": [
              "14.03184444620274"
            ]
          },
          "metadata": {
            "tags": []
          },
          "execution_count": 120
        }
      ]
    },
    {
      "cell_type": "code",
      "metadata": {
        "colab_type": "code",
        "outputId": "66b07693-b84f-45f5-b93a-082a7d52d0a7",
        "id": "QEgz8mAv1GL6",
        "colab": {
          "base_uri": "https://localhost:8080/",
          "height": 906
        }
      },
      "source": [
        "asp[0].most_common(50)"
      ],
      "execution_count": 126,
      "outputs": [
        {
          "output_type": "execute_result",
          "data": {
            "text/plain": [
              "[('атмосфера_NOUN', 48.521968096494675),\n",
              " ('зал_NOUN', 35.859237205731915),\n",
              " ('интерьер_NOUN', 31.756325804628432),\n",
              " ('кухня_NOUN', 23.550969517309568),\n",
              " ('ждать_VERB', 23.36901862360537),\n",
              " ('сказать_VERB', 21.29294980922714),\n",
              " ('долго_ADV', 20.670143930241466),\n",
              " ('впечатление_NOUN', 18.930882861837745),\n",
              " ('идти_VERB', 18.652598205953836),\n",
              " ('персонал_NOUN', 18.340960778543376),\n",
              " ('пойти_VERB', 18.20386034063995),\n",
              " ('официант_NOUN', 18.143150331947254),\n",
              " ('внимание_NOUN', 16.13928140886128),\n",
              " ('много_ADV', 14.59394463035278),\n",
              " ('вечер_NOUN', 14.128843232989311),\n",
              " ('официантка_NOUN', 14.03184444620274),\n",
              " ('новый_ADJ', 13.314436524175107),\n",
              " ('музыка_NOUN', 12.424121040618047),\n",
              " ('хотеться_VERB', 11.521083455416374),\n",
              " ('мимо_ADV', 11.504397831857204),\n",
              " ('стол_NOUN', 11.426732587628067),\n",
              " ('блюдо_NOUN', 10.717518095392734),\n",
              " ('стена_NOUN', 10.46683947276324),\n",
              " ('пара_NOUN', 10.42358773916203),\n",
              " ('центр_NOUN', 10.410670756362379),\n",
              " ('обслуживание_NOUN', 10.217893194407225),\n",
              " ('прийтись_VERB', 9.747061936184764),\n",
              " ('столик_NOUN', 9.658401706838049),\n",
              " ('понравиться_VERB', 9.59202456958883),\n",
              " ('там_ADV', 8.749184438027442),\n",
              " ('работать_VERB', 8.744421378709376),\n",
              " ('ощущение_NOUN', 8.439000701531768),\n",
              " ('выглядеть_VERB', 8.288933842908591),\n",
              " ('потом_ADV', 8.194601325783879),\n",
              " ('один_NUM', 8.10471412842162),\n",
              " ('этаж_NOUN', 7.946899548172951),\n",
              " ('по_ADP', 7.852176783075265),\n",
              " ('играть_VERB', 7.6282391138374805),\n",
              " ('туда_ADV', 7.589394489303231),\n",
              " ('пиво_NOUN', 7.406894131563604),\n",
              " ('только_PART', 7.35134588303481),\n",
              " ('воздух_NOUN', 7.287112191319466),\n",
              " ('последний_ADJ', 6.941106910846429),\n",
              " ('неплохой_ADJ', 6.836043495815829),\n",
              " ('огромный_ADJ', 6.831742422422394),\n",
              " ('спасибо_NOUN', 6.815288714016788),\n",
              " ('приходиться_VERB', 6.787480936443899),\n",
              " ('счет_NOUN', 6.7678547019313555),\n",
              " ('уровень_NOUN', 6.7597740275086835),\n",
              " ('из_ADP', 6.74816978747549)]"
            ]
          },
          "metadata": {
            "tags": []
          },
          "execution_count": 126
        }
      ]
    },
    {
      "cell_type": "code",
      "metadata": {
        "id": "DqmNMuv0AfP6",
        "colab_type": "code",
        "colab": {
          "base_uri": "https://localhost:8080/",
          "height": 888
        },
        "outputId": "4cd80303-ba95-4ea4-fbb4-6dcc8ab8542a"
      },
      "source": [
        "asp[0].most_common()[:-50:-1]"
      ],
      "execution_count": 125,
      "outputs": [
        {
          "output_type": "execute_result",
          "data": {
            "text/plain": [
              "[('минута_NOUN', -109.07553063565865),\n",
              " ('год_NOUN', -65.6024876171723),\n",
              " ('очень_ADV', -41.12219452834688),\n",
              " ('можно_ADV', -36.33001103205606),\n",
              " ('рубль_NOUN', -32.501028447411954),\n",
              " ('уйти_VERB', -30.23009075038135),\n",
              " ('быть_VERB', -29.035811343230307),\n",
              " ('дело_NOUN', -26.61911551654339),\n",
              " ('заведение_NOUN', -25.849305363779422),\n",
              " ('цена_NOUN', -25.27079719887115),\n",
              " ('мочь_VERB', -25.041646544224932),\n",
              " ('брать_VERB', -23.693476516287774),\n",
              " ('так_ADV', -21.85092628048733),\n",
              " ('человек_NOUN', -21.095910170581192),\n",
              " ('меню_NOUN', -20.99802179657854),\n",
              " ('лучший_ADJ', -14.04950695601292),\n",
              " ('принять_VERB', -13.648391322698444),\n",
              " ('раз_NOUN', -13.60761924367398),\n",
              " ('место_NOUN', -12.489365180263121),\n",
              " ('карта_NOUN', -12.26695741713047),\n",
              " ('конец_NOUN', -11.598605815786868),\n",
              " ('пол_NUM', -11.395385161042213),\n",
              " ('слово_NOUN', -11.342830218345625),\n",
              " ('платить_VERB', -10.892026534304023),\n",
              " ('еще_ADV', -10.68310823867796),\n",
              " ('план_NOUN', -9.451238640584052),\n",
              " ('момент_NOUN', -9.20601896289736),\n",
              " ('месяц_NOUN', -9.186311952769756),\n",
              " ('милый_ADJ', -9.025446739047766),\n",
              " ('общий_ADJ', -8.817409892522846),\n",
              " ('девушка_NOUN', -8.605319310328923),\n",
              " ('два_NUM', -8.581246521702269),\n",
              " ('готовить_VERB', -8.413946029846556),\n",
              " (',_PUNCT', -8.368730483780382),\n",
              " ('гость_NOUN', -8.31590723159752),\n",
              " ('день_NOUN', -8.238885747268796),\n",
              " ('подать_VERB', -8.137492580688559),\n",
              " ('выпить_VERB', -7.896503761410713),\n",
              " ('проблема_NOUN', -7.850857071578503),\n",
              " ('._PUNCT', -7.727924907005217),\n",
              " ('обратить_VERB', -7.60445948690176),\n",
              " ('мясо_NOUN', -7.399391574785113),\n",
              " ('отмечать_VERB', -7.3938579224050045),\n",
              " ('0_NUM', -7.2096839571604505),\n",
              " ('прийти_VERB', -7.1171419298043475),\n",
              " ('обстановка_NOUN', -6.565505982376635),\n",
              " ('голодный_ADJ', -6.553383028600365),\n",
              " ('относиться_VERB', -6.55007915571332),\n",
              " ('желание_NOUN', -6.516950050368905)]"
            ]
          },
          "metadata": {
            "tags": []
          },
          "execution_count": 125
        }
      ]
    },
    {
      "cell_type": "code",
      "metadata": {
        "id": "XFII7wYT_YIE",
        "colab_type": "code",
        "colab": {}
      },
      "source": [
        "with open('/content/drive/My Drive/studies/HSE/prog/nlp/proj/aspect.pickle', 'wb') as f:\n",
        "    pickle.dump(asp, f)"
      ],
      "execution_count": 0,
      "outputs": []
    }
  ]
}