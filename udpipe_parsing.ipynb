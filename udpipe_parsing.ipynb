{
  "nbformat": 4,
  "nbformat_minor": 0,
  "metadata": {
    "colab": {
      "name": "udpipe_parsing.ipynb",
      "provenance": [],
      "include_colab_link": true
    },
    "kernelspec": {
      "name": "python3",
      "display_name": "Python 3"
    }
  },
  "cells": [
    {
      "cell_type": "markdown",
      "metadata": {
        "id": "view-in-github",
        "colab_type": "text"
      },
      "source": [
        "<a href=\"https://colab.research.google.com/github/AnnaZhuravleva/avtobreja/blob/master/udpipe_parsing.ipynb\" target=\"_parent\"><img src=\"https://colab.research.google.com/assets/colab-badge.svg\" alt=\"Open In Colab\"/></a>"
      ]
    },
    {
      "cell_type": "code",
      "metadata": {
        "id": "21yzCLrfJgio",
        "colab_type": "code",
        "outputId": "20033c4e-1713-409c-c578-b7ba62bcfea8",
        "colab": {
          "base_uri": "https://localhost:8080/",
          "height": 205
        }
      },
      "source": [
        "!pip install ufal.udpipe"
      ],
      "execution_count": 1,
      "outputs": [
        {
          "output_type": "stream",
          "text": [
            "Collecting ufal.udpipe\n",
            "\u001b[?25l  Downloading https://files.pythonhosted.org/packages/e5/72/2b8b9dc7c80017c790bb3308bbad34b57accfed2ac2f1f4ab252ff4e9cb2/ufal.udpipe-1.2.0.3.tar.gz (304kB)\n",
            "\r\u001b[K     |█                               | 10kB 17.3MB/s eta 0:00:01\r\u001b[K     |██▏                             | 20kB 1.7MB/s eta 0:00:01\r\u001b[K     |███▎                            | 30kB 2.5MB/s eta 0:00:01\r\u001b[K     |████▎                           | 40kB 1.7MB/s eta 0:00:01\r\u001b[K     |█████▍                          | 51kB 2.1MB/s eta 0:00:01\r\u001b[K     |██████▌                         | 61kB 2.5MB/s eta 0:00:01\r\u001b[K     |███████▌                        | 71kB 2.9MB/s eta 0:00:01\r\u001b[K     |████████▋                       | 81kB 3.3MB/s eta 0:00:01\r\u001b[K     |█████████▊                      | 92kB 3.7MB/s eta 0:00:01\r\u001b[K     |██████████▊                     | 102kB 2.8MB/s eta 0:00:01\r\u001b[K     |███████████▉                    | 112kB 2.8MB/s eta 0:00:01\r\u001b[K     |█████████████                   | 122kB 2.8MB/s eta 0:00:01\r\u001b[K     |██████████████                  | 133kB 2.8MB/s eta 0:00:01\r\u001b[K     |███████████████                 | 143kB 2.8MB/s eta 0:00:01\r\u001b[K     |████████████████▏               | 153kB 2.8MB/s eta 0:00:01\r\u001b[K     |█████████████████▎              | 163kB 2.8MB/s eta 0:00:01\r\u001b[K     |██████████████████▎             | 174kB 2.8MB/s eta 0:00:01\r\u001b[K     |███████████████████▍            | 184kB 2.8MB/s eta 0:00:01\r\u001b[K     |████████████████████▌           | 194kB 2.8MB/s eta 0:00:01\r\u001b[K     |█████████████████████▌          | 204kB 2.8MB/s eta 0:00:01\r\u001b[K     |██████████████████████▋         | 215kB 2.8MB/s eta 0:00:01\r\u001b[K     |███████████████████████▊        | 225kB 2.8MB/s eta 0:00:01\r\u001b[K     |████████████████████████▉       | 235kB 2.8MB/s eta 0:00:01\r\u001b[K     |█████████████████████████▉      | 245kB 2.8MB/s eta 0:00:01\r\u001b[K     |███████████████████████████     | 256kB 2.8MB/s eta 0:00:01\r\u001b[K     |████████████████████████████    | 266kB 2.8MB/s eta 0:00:01\r\u001b[K     |█████████████████████████████   | 276kB 2.8MB/s eta 0:00:01\r\u001b[K     |██████████████████████████████▏ | 286kB 2.8MB/s eta 0:00:01\r\u001b[K     |███████████████████████████████▎| 296kB 2.8MB/s eta 0:00:01\r\u001b[K     |████████████████████████████████| 307kB 2.8MB/s \n",
            "\u001b[?25hBuilding wheels for collected packages: ufal.udpipe\n",
            "  Building wheel for ufal.udpipe (setup.py) ... \u001b[?25l\u001b[?25hdone\n",
            "  Created wheel for ufal.udpipe: filename=ufal.udpipe-1.2.0.3-cp36-cp36m-linux_x86_64.whl size=5625749 sha256=51c86dd97e3661e66a2f930e58b2f7fde93f58c3949266be52889602f24e4ba7\n",
            "  Stored in directory: /root/.cache/pip/wheels/0c/9d/db/6d3404c33da5b7adb6c6972853efb6a27649d3ba15f7e9bebb\n",
            "Successfully built ufal.udpipe\n",
            "Installing collected packages: ufal.udpipe\n",
            "Successfully installed ufal.udpipe-1.2.0.3\n"
          ],
          "name": "stdout"
        }
      ]
    },
    {
      "cell_type": "code",
      "metadata": {
        "id": "77C6-RjZTnUY",
        "colab_type": "code",
        "outputId": "7d5a6169-9bca-4ed9-d6aa-19f0939896c4",
        "colab": {
          "base_uri": "https://localhost:8080/",
          "height": 306
        }
      },
      "source": [
        "!wget https://github.com/AnnaZhuravleva/avtobreja/raw/master/SentiRuEval_rest_train/SentiRuEval_rest_train.csv\n"
      ],
      "execution_count": 2,
      "outputs": [
        {
          "output_type": "stream",
          "text": [
            "--2019-12-14 21:22:33--  https://github.com/AnnaZhuravleva/avtobreja/raw/master/SentiRuEval_rest_train/SentiRuEval_rest_train.csv\n",
            "Resolving github.com (github.com)... 192.30.253.113\n",
            "Connecting to github.com (github.com)|192.30.253.113|:443... connected.\n",
            "HTTP request sent, awaiting response... 302 Found\n",
            "Location: https://raw.githubusercontent.com/AnnaZhuravleva/avtobreja/master/SentiRuEval_rest_train/SentiRuEval_rest_train.csv [following]\n",
            "--2019-12-14 21:22:33--  https://raw.githubusercontent.com/AnnaZhuravleva/avtobreja/master/SentiRuEval_rest_train/SentiRuEval_rest_train.csv\n",
            "Resolving raw.githubusercontent.com (raw.githubusercontent.com)... 151.101.0.133, 151.101.64.133, 151.101.128.133, ...\n",
            "Connecting to raw.githubusercontent.com (raw.githubusercontent.com)|151.101.0.133|:443... connected.\n",
            "HTTP request sent, awaiting response... 200 OK\n",
            "Length: 36571759 (35M) [text/plain]\n",
            "Saving to: ‘SentiRuEval_rest_train.csv’\n",
            "\n",
            "\r          SentiRuEv   0%[                    ]       0  --.-KB/s               \r         SentiRuEva  62%[===========>        ]  21.69M   108MB/s               \rSentiRuEval_rest_tr 100%[===================>]  34.88M   133MB/s    in 0.3s    \n",
            "\n",
            "2019-12-14 21:22:34 (133 MB/s) - ‘SentiRuEval_rest_train.csv’ saved [36571759/36571759]\n",
            "\n"
          ],
          "name": "stdout"
        }
      ]
    },
    {
      "cell_type": "code",
      "metadata": {
        "id": "X4i_6PDZtUBz",
        "colab_type": "code",
        "outputId": "93a58a6b-5583-4b58-92a5-620a18c6388d",
        "colab": {
          "base_uri": "https://localhost:8080/",
          "height": 222
        }
      },
      "source": [
        "!wget -O \"russian-syntagrus-ud-2.4-190531.udpipe\" https://lindat.mff.cuni.cz/repository/xmlui/bitstream/handle/11234/1-2998/russian-syntagrus-ud-2.4-190531.udpipe?sequence=74&isAllowed=y"
      ],
      "execution_count": 3,
      "outputs": [
        {
          "output_type": "stream",
          "text": [
            "--2019-12-14 21:22:37--  https://lindat.mff.cuni.cz/repository/xmlui/bitstream/handle/11234/1-2998/russian-syntagrus-ud-2.4-190531.udpipe?sequence=74\n",
            "Resolving lindat.mff.cuni.cz (lindat.mff.cuni.cz)... 195.113.20.140\n",
            "Connecting to lindat.mff.cuni.cz (lindat.mff.cuni.cz)|195.113.20.140|:443... connected.\n",
            "HTTP request sent, awaiting response... 200 OK\n",
            "Length: 45859472 (44M) [application/octet-stream]\n",
            "Saving to: ‘russian-syntagrus-ud-2.4-190531.udpipe’\n",
            "\n",
            "russian-syntagrus-u 100%[===================>]  43.73M  17.9MB/s    in 2.4s    \n",
            "\n",
            "2019-12-14 21:22:41 (17.9 MB/s) - ‘russian-syntagrus-ud-2.4-190531.udpipe’ saved [45859472/45859472]\n",
            "\n"
          ],
          "name": "stdout"
        }
      ]
    },
    {
      "cell_type": "code",
      "metadata": {
        "id": "g536Kt8GxW64",
        "colab_type": "code",
        "colab": {}
      },
      "source": [
        "import sys\n",
        "import ufal.udpipe"
      ],
      "execution_count": 0,
      "outputs": []
    },
    {
      "cell_type": "code",
      "metadata": {
        "id": "WbepQBjCuxzv",
        "colab_type": "code",
        "colab": {}
      },
      "source": [
        "ud_model = ufal.udpipe.Model.load(\"russian-syntagrus-ud-2.4-190531.udpipe\")"
      ],
      "execution_count": 0,
      "outputs": []
    },
    {
      "cell_type": "code",
      "metadata": {
        "id": "jdzx7ssUTnwJ",
        "colab_type": "code",
        "colab": {
          "base_uri": "https://localhost:8080/",
          "height": 101
        },
        "outputId": "1a933adc-1b45-437e-a530-09d938cb3d97"
      },
      "source": [
        "help(ufal.udpipe.Pipeline())"
      ],
      "execution_count": 11,
      "outputs": [
        {
          "output_type": "stream",
          "text": [
            "Help on built-in function __new__:\n",
            "\n",
            "__new__(*args, **kwargs) method of builtins.SwigPyObjectType instance\n",
            "    Create and return a new object.  See help(type) for accurate signature.\n",
            "\n"
          ],
          "name": "stdout"
        }
      ]
    },
    {
      "cell_type": "code",
      "metadata": {
        "id": "qYvFYNbiyemI",
        "colab_type": "code",
        "colab": {}
      },
      "source": [
        "pipe = ufal.udpipe.Pipeline(ud_model, \"tokenize\", \"tag\", \"parse\", \"conllu\")"
      ],
      "execution_count": 0,
      "outputs": []
    },
    {
      "cell_type": "code",
      "metadata": {
        "id": "k6EYSf5sgC_R",
        "colab_type": "code",
        "colab": {
          "base_uri": "https://localhost:8080/",
          "height": 457
        },
        "outputId": "945447e4-ac18-4f01-c608-7cb186c8ec69"
      },
      "source": [
        "# Usage example\n",
        "\n",
        "a = \"Положа руку на сердце, очень хочется спать. А не проект по автобрее пилить!\"\n",
        "print(pipe.process(a))"
      ],
      "execution_count": 59,
      "outputs": [
        {
          "output_type": "stream",
          "text": [
            "# newdoc\n",
            "# newpar\n",
            "# sent_id = 1\n",
            "# text = Положа руку на сердце, очень хочется спать.\n",
            "1\tПоложа\tПоложать\tVERB\t_\tAspect=Perf|Tense=Past|VerbForm=Conv|Voice=Act\t7\tadvcl\t_\t_\n",
            "2\tруку\tрука\tNOUN\t_\tAnimacy=Inan|Case=Acc|Gender=Fem|Number=Sing\t1\tobj\t_\t_\n",
            "3\tна\tна\tADP\t_\t_\t4\tcase\t_\t_\n",
            "4\tсердце\tсердце\tNOUN\t_\tAnimacy=Inan|Case=Acc|Gender=Neut|Number=Sing\t1\tobl\t_\tSpaceAfter=No\n",
            "5\t,\t,\tPUNCT\t_\t_\t1\tpunct\t_\t_\n",
            "6\tочень\tочень\tADV\t_\tDegree=Pos\t7\tadvmod\t_\t_\n",
            "7\tхочется\tхотеться\tVERB\t_\tAspect=Imp|Mood=Ind|Number=Sing|Person=3|Tense=Pres|VerbForm=Fin|Voice=Mid\t0\troot\t_\t_\n",
            "8\tспать\tспать\tVERB\t_\tAspect=Imp|VerbForm=Inf|Voice=Act\t7\txcomp\t_\tSpaceAfter=No\n",
            "9\t.\t.\tPUNCT\t_\t_\t7\tpunct\t_\t_\n",
            "\n",
            "# sent_id = 2\n",
            "# text = А не проект по автобрее пилить!\n",
            "1\tА\tа\tCCONJ\t_\t_\t3\tcc\t_\t_\n",
            "2\tне\tне\tPART\t_\t_\t3\tadvmod\t_\t_\n",
            "3\tпроект\tпроект\tNOUN\t_\tAnimacy=Inan|Case=Nom|Gender=Masc|Number=Sing\t0\troot\t_\t_\n",
            "4\tпо\tпо\tADP\t_\t_\t5\tcase\t_\t_\n",
            "5\tавтобрее\tавтобрея\tNOUN\t_\tAnimacy=Inan|Case=Dat|Gender=Fem|Number=Sing\t6\tobl\t_\t_\n",
            "6\tпилить\tпилить\tVERB\t_\tAspect=Perf|VerbForm=Inf|Voice=Act\t3\tcsubj\t_\tSpaceAfter=No\n",
            "7\t!\t!\tPUNCT\t_\t_\t3\tpunct\t_\tSpacesAfter=\\n\n",
            "\n",
            "\n"
          ],
          "name": "stdout"
        }
      ]
    },
    {
      "cell_type": "code",
      "metadata": {
        "id": "E3AHz8zveXkg",
        "colab_type": "code",
        "colab": {}
      },
      "source": [
        "import pandas as pd"
      ],
      "execution_count": 0,
      "outputs": []
    },
    {
      "cell_type": "code",
      "metadata": {
        "id": "a3u31yVoaomk",
        "colab_type": "code",
        "colab": {}
      },
      "source": [
        "with open(\"SentiRuEval_rest_train.csv\", 'r') as f:\n",
        "    train = pd.read_csv(f)\n",
        "\n",
        "#А то у нас уже записано id\n",
        "train.drop([\"Unnamed: 0\"], axis=1, inplace=True)\n"
      ],
      "execution_count": 0,
      "outputs": []
    },
    {
      "cell_type": "code",
      "metadata": {
        "id": "mIUms3npezL5",
        "colab_type": "code",
        "colab": {
          "base_uri": "https://localhost:8080/",
          "height": 195
        },
        "outputId": "4a9755a0-0b13-44fb-804b-19a30013fc70"
      },
      "source": [
        "train.head()"
      ],
      "execution_count": 58,
      "outputs": [
        {
          "output_type": "execute_result",
          "data": {
            "text/html": [
              "<div>\n",
              "<style scoped>\n",
              "    .dataframe tbody tr th:only-of-type {\n",
              "        vertical-align: middle;\n",
              "    }\n",
              "\n",
              "    .dataframe tbody tr th {\n",
              "        vertical-align: top;\n",
              "    }\n",
              "\n",
              "    .dataframe thead th {\n",
              "        text-align: right;\n",
              "    }\n",
              "</style>\n",
              "<table border=\"1\" class=\"dataframe\">\n",
              "  <thead>\n",
              "    <tr style=\"text-align: right;\">\n",
              "      <th></th>\n",
              "      <th>food</th>\n",
              "      <th>service</th>\n",
              "      <th>text</th>\n",
              "    </tr>\n",
              "  </thead>\n",
              "  <tbody>\n",
              "    <tr>\n",
              "      <th>0</th>\n",
              "      <td>8</td>\n",
              "      <td>8</td>\n",
              "      <td>И пускай на меня не обижается наш прославленны...</td>\n",
              "    </tr>\n",
              "    <tr>\n",
              "      <th>1</th>\n",
              "      <td>9</td>\n",
              "      <td>10</td>\n",
              "      <td>- Здравствуйте. Виа Д’Арженто! - Добрый вечер,...</td>\n",
              "    </tr>\n",
              "    <tr>\n",
              "      <th>2</th>\n",
              "      <td>9</td>\n",
              "      <td>1</td>\n",
              "      <td>Советую вам уволить Вашего метродотеля Елену, ...</td>\n",
              "    </tr>\n",
              "    <tr>\n",
              "      <th>3</th>\n",
              "      <td>8</td>\n",
              "      <td>9</td>\n",
              "      <td>отличный средне вековый интеръер. Приятное обс...</td>\n",
              "    </tr>\n",
              "    <tr>\n",
              "      <th>4</th>\n",
              "      <td>10</td>\n",
              "      <td>8</td>\n",
              "      <td>Ужинали в ресторане Баден-Баден 6 марта . Импо...</td>\n",
              "    </tr>\n",
              "  </tbody>\n",
              "</table>\n",
              "</div>"
            ],
            "text/plain": [
              "   food  service                                               text\n",
              "0     8        8  И пускай на меня не обижается наш прославленны...\n",
              "1     9       10  - Здравствуйте. Виа Д’Арженто! - Добрый вечер,...\n",
              "2     9        1  Советую вам уволить Вашего метродотеля Елену, ...\n",
              "3     8        9  отличный средне вековый интеръер. Приятное обс...\n",
              "4    10        8  Ужинали в ресторане Баден-Баден 6 марта . Импо..."
            ]
          },
          "metadata": {
            "tags": []
          },
          "execution_count": 58
        }
      ]
    },
    {
      "cell_type": "code",
      "metadata": {
        "id": "VYUEqtzehFC2",
        "colab_type": "code",
        "colab": {}
      },
      "source": [
        ""
      ],
      "execution_count": 0,
      "outputs": []
    },
    {
      "cell_type": "code",
      "metadata": {
        "id": "SYZ9lpFktIgd",
        "colab_type": "code",
        "colab": {
          "base_uri": "https://localhost:8080/",
          "height": 121
        },
        "outputId": "d583f610-1669-4af4-ca74-63319799f75e"
      },
      "source": [
        "from google.colab import drive\n",
        "drive.mount('/content/drive')"
      ],
      "execution_count": 68,
      "outputs": [
        {
          "output_type": "stream",
          "text": [
            "Go to this URL in a browser: https://accounts.google.com/o/oauth2/auth?client_id=947318989803-6bn6qk8qdgf4n4g3pfee6491hc0brc4i.apps.googleusercontent.com&redirect_uri=urn%3aietf%3awg%3aoauth%3a2.0%3aoob&response_type=code&scope=email%20https%3a%2f%2fwww.googleapis.com%2fauth%2fdocs.test%20https%3a%2f%2fwww.googleapis.com%2fauth%2fdrive%20https%3a%2f%2fwww.googleapis.com%2fauth%2fdrive.photos.readonly%20https%3a%2f%2fwww.googleapis.com%2fauth%2fpeopleapi.readonly\n",
            "\n",
            "Enter your authorization code:\n",
            "··········\n",
            "Mounted at /content/drive\n"
          ],
          "name": "stdout"
        }
      ]
    },
    {
      "cell_type": "code",
      "metadata": {
        "id": "UuBZN8bSegsc",
        "colab_type": "code",
        "colab": {}
      },
      "source": [
        "from os import path, mkdir\n",
        "\n",
        "d = \"/content/drive/My Drive/parsed_train\"\n",
        "mkdir(d)\n",
        "\n",
        "for i, text in enumerate(train.text):\n",
        "    parsed_text = open(path.join(d, \"{}.conllu\".format(i)), 'w', encoding='utf-8')\n",
        "    parsed = pipe.process(text)\n",
        "    parsed_text.write(parsed)\n"
      ],
      "execution_count": 0,
      "outputs": []
    },
    {
      "cell_type": "markdown",
      "metadata": {
        "id": "C2RP7e5E_zDJ",
        "colab_type": "text"
      },
      "source": [
        "Распарсенные тексты [здесь](https://drive.google.com/open?id=181szxLRYHorRrzGTcA1XwwA23MVy7F90)"
      ]
    }
  ]
}