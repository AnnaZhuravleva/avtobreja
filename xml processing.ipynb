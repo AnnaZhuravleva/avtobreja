{
 "cells": [
  {
   "cell_type": "code",
   "execution_count": 83,
   "metadata": {},
   "outputs": [],
   "source": [
    "import pandas as pd\n",
    "import re"
   ]
  },
  {
   "cell_type": "code",
   "execution_count": 33,
   "metadata": {},
   "outputs": [],
   "source": [
    "example_reviwew = \\\n",
    "\"\"\"\t<review id=\"17600\">\n",
    "\t\t<meta>\n",
    "\t\t\t<object>Gavroche</object>\n",
    "\t\t\t<user>Алексей</user>\n",
    "\t\t\t<date>09.02.2010 09:01</date>\n",
    "\t\t\t<useful>31</useful>\n",
    "\t\t</meta>\n",
    "\t\t<scores>\n",
    "\t\t\t<food>8</food>\n",
    "\t\t\t<interior>8</interior>\n",
    "\t\t\t<service>9</service>\n",
    "\t\t</scores>\n",
    "\t\t<text>И пускай на меня не обижается наш прославленный защитник - франкофон «Монреаль Канадиенс» Maxime – я всегда с некоторой опаской относился к этому народу. Народу способному с таким благоговением доводить до цирроза всю пернатую живность, заставлять специальных поисковых свиней копошиться в грязи в поисках сумчатых грибов, ковыряться в тине, собирая брюхоногих и двустворчатых. Народу, подсадившего все население земного шара на муть, именуемое «Божоле Нуво», на сыры с плесенью и на квакающих жаб, скачущих по болотам. Тем не менее, единожды заглянув, не мог успокоиться, пока не вкусил большую часть меню. Не буду вдаваться в детали «вкусно-невкусно», а приведу турнирную таблицу, коли начали с хоккея. 1.Петух, запеченный в сливках, с картофелем и грибами. Почему петух, а не курица? Различать еще не научился. 2.Домашний пирог. Яблочный. Горячий. Тающий. 3.Говядина по-бургунски. Кускус неожиданный. 4.Террин из печени цыпленка. Массивная порция. 5.Утиная ножка «Конфи» с картофельным пюре. Мягко 6.Пенне с артишоками. Много чеснока. Я люблю, но если дышать потом на кого-нибудь, может случиться казус. 7.Ростбиф с маринованным луком. 8.Лягушка. На вкус смесь птицы и рыбы. Овощное сате на гарнир. 9.Улитки «Эскарго». Просто в масле мне нравятся больше. 10.Гребешки со спаржей. Горячее блюдо. Весьма диетично. 11.Гребешки с грушей. Горячая закуска. Рядом просто листья салата. 12.Теплый салат с говядиной. Рядом просто листья салата. 13.Тирамису. Качественный уровень соблюден. 14.Домашний пирог. Черничный. Холодный. Слишком холодный творог в основном. Плюс, другие приятности. Приятный грейпфрутовый «фреш», приятный зеленый чай «Земляника со сливками», приятная тертая клубника комплиментом – всегда и приятный глинтвейн – не всегда. Один раз зажали. По интерьеру комментария два. А нельзя было по краям кабинки-диванчики сварганить для уюта? Одного милого столика справа от входа маловато. Помывочная с белыми дверями. Почему? Выбивается из стиля. В остальном мой типаж. Музыка мягкая. Панели нет! Сервис с улыбкой. Шероховатости в пределах нормы и незначительны. Один раз приборы забыли принести, ну и глинтвейн зажали, это я уже говорил. Человек к хорошему быстро привыкает…</text>\n",
    "\t</review>\"\"\""
   ]
  },
  {
   "cell_type": "code",
   "execution_count": 77,
   "metadata": {},
   "outputs": [],
   "source": [
    "with open ('.\\SentiRuEval_rest_train\\SentiRuEval_rest_train.xml', 'r', encoding='utf-8') as f:\n",
    "    text = f.read()"
   ]
  },
  {
   "cell_type": "code",
   "execution_count": 78,
   "metadata": {},
   "outputs": [],
   "source": [
    "raw_reviews = text.split('</review>')[:-1]"
   ]
  },
  {
   "cell_type": "code",
   "execution_count": 10,
   "metadata": {},
   "outputs": [],
   "source": [
    "review_df = pd.DataFrame(columns=['food', 'service', 'text'])"
   ]
  },
  {
   "cell_type": "code",
   "execution_count": 41,
   "metadata": {},
   "outputs": [
    {
     "data": {
      "text/plain": [
       "('10',\n",
       " '10',\n",
       " 'Праздновали день рождения подруги 27.10.2013 в ресторане &quot;Анданте&quot;. Все друзья остались довольны, внимательный персонал и хорошая кухня. Спасибо коллективу ресторана &quot;Анданте&quot;, а особенно администратору Дмитрию, за прекрасно организованный праздник.')"
      ]
     },
     "execution_count": 41,
     "metadata": {},
     "output_type": "execute_result"
    }
   ],
   "source": [
    "re.findall('<scores>[\\n|\\t]*?<food>(\\d+?)</food>[\\n|\\t]*?.*?[\\n|\\t]*?<service>(\\d+?)</service>[\\n|\\t]*?</scores>[\\n|\\t]*?<text>(.*?)</text>', raw_reviews[10])[0]"
   ]
  },
  {
   "cell_type": "code",
   "execution_count": 80,
   "metadata": {},
   "outputs": [],
   "source": [
    "for i, r in enumerate(raw_reviews):\n",
    "    res = re.findall('<scores>[\\n|\\t]*?<food>(\\d+?)</food>[\\n|\\t]*?.*?[\\n|\\t]*?<service>(\\d+?)</service>[\\n|\\t]*?</scores>[\\n|\\t]*?<text>(.*?)</text>', r)\n",
    "    review_df.loc[i] = res[0]"
   ]
  },
  {
   "cell_type": "code",
   "execution_count": 82,
   "metadata": {},
   "outputs": [
    {
     "data": {
      "text/html": [
       "<div>\n",
       "<style scoped>\n",
       "    .dataframe tbody tr th:only-of-type {\n",
       "        vertical-align: middle;\n",
       "    }\n",
       "\n",
       "    .dataframe tbody tr th {\n",
       "        vertical-align: top;\n",
       "    }\n",
       "\n",
       "    .dataframe thead th {\n",
       "        text-align: right;\n",
       "    }\n",
       "</style>\n",
       "<table border=\"1\" class=\"dataframe\">\n",
       "  <thead>\n",
       "    <tr style=\"text-align: right;\">\n",
       "      <th></th>\n",
       "      <th>food</th>\n",
       "      <th>service</th>\n",
       "      <th>text</th>\n",
       "    </tr>\n",
       "  </thead>\n",
       "  <tbody>\n",
       "    <tr>\n",
       "      <td>0</td>\n",
       "      <td>8</td>\n",
       "      <td>8</td>\n",
       "      <td>И пускай на меня не обижается наш прославленны...</td>\n",
       "    </tr>\n",
       "    <tr>\n",
       "      <td>1</td>\n",
       "      <td>9</td>\n",
       "      <td>10</td>\n",
       "      <td>- Здравствуйте. Виа Д’Арженто! - Добрый вечер,...</td>\n",
       "    </tr>\n",
       "    <tr>\n",
       "      <td>2</td>\n",
       "      <td>9</td>\n",
       "      <td>1</td>\n",
       "      <td>Советую вам уволить Вашего метродотеля Елену, ...</td>\n",
       "    </tr>\n",
       "    <tr>\n",
       "      <td>3</td>\n",
       "      <td>8</td>\n",
       "      <td>9</td>\n",
       "      <td>отличный средне вековый интеръер. Приятное обс...</td>\n",
       "    </tr>\n",
       "    <tr>\n",
       "      <td>4</td>\n",
       "      <td>10</td>\n",
       "      <td>8</td>\n",
       "      <td>Ужинали в ресторане Баден-Баден 6 марта . Импо...</td>\n",
       "    </tr>\n",
       "  </tbody>\n",
       "</table>\n",
       "</div>"
      ],
      "text/plain": [
       "   food  service                                               text\n",
       "0     8        8  И пускай на меня не обижается наш прославленны...\n",
       "1     9       10  - Здравствуйте. Виа Д’Арженто! - Добрый вечер,...\n",
       "2     9        1  Советую вам уволить Вашего метродотеля Елену, ...\n",
       "3     8        9  отличный средне вековый интеръер. Приятное обс...\n",
       "4    10        8  Ужинали в ресторане Баден-Баден 6 марта . Импо..."
      ]
     },
     "execution_count": 82,
     "metadata": {},
     "output_type": "execute_result"
    }
   ],
   "source": [
    "review_df['food'] = review_df['food'].apply(int)\n",
    "review_df['service'] = review_df['service'].apply(int)\n",
    "review_df.head()"
   ]
  },
  {
   "cell_type": "code",
   "execution_count": 88,
   "metadata": {},
   "outputs": [],
   "source": [
    "review_df.to_csv('.\\SentiRuEval_rest_train\\SentiRuEval_rest_train.csv')"
   ]
  }
 ],
 "metadata": {
  "kernelspec": {
   "display_name": "Python 3",
   "language": "python",
   "name": "python3"
  },
  "language_info": {
   "codemirror_mode": {
    "name": "ipython",
    "version": 3
   },
   "file_extension": ".py",
   "mimetype": "text/x-python",
   "name": "python",
   "nbconvert_exporter": "python",
   "pygments_lexer": "ipython3",
   "version": "3.6.7"
  }
 },
 "nbformat": 4,
 "nbformat_minor": 2
}
